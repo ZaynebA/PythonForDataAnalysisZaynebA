{
 "cells": [
  {
   "cell_type": "markdown",
   "metadata": {
    "id": "sxRG4oOEEsx5"
   },
   "source": [
    "# Projet Python for data analysis : Enoncé\n",
    "1. Un powerpoint expliquant les tenants et aboutissant du problème, vos réflexions sur la\n",
    "question posée, les différentes variables que vous avez créées, comment se situe le\n",
    "problème dans le contexte de l’étude, etc : 25 %\n",
    "2. Un code en python :\n",
    "a. Data-visualisation (utilisez matplotlib, searborn, bokeh…) – montrez le lien\n",
    "entre les variables et la cible : 25%\n",
    "b. Modélisation – prenez scikit-learnn essayez plusieurs algorithmes, changez les\n",
    "hyper paramètres, faites une grille de recherche, comparez les résultats de vos\n",
    "modèles dans des graphiques : 25%\n",
    "3. Transformation du modèle en API Django : 25%"
   ]
  },
  {
   "cell_type": "markdown",
   "metadata": {},
   "source": [
    "# Objectif des chercheurs avec le dataset donné"
   ]
  },
  {
   "cell_type": "markdown",
   "metadata": {},
   "source": [
    "Le dataset que nous avons : https://archive.ics.uci.edu/ml/datasets/Online+Video+Characteristics+and+Transcoding+Time+Dataset a été utilisé dans le cadre de recherches. Ces chercheurs ont écrit un artcile ***'Video transcoding time prediction for proactive load balancing'*** .L'objectif de cet article est présenté dans son abstract :\n",
    "\n",
    "\"In this paper, we present a method for predicting the transcoding\n",
    "time of videos given an input video stream and its transcoding parameters. Video transcoding time is treated as a random variable\n",
    "and is statistically predicted from past observations. Our proposed method predicts the transcoding time as a function of several parameters of the input and output video streams, and does\n",
    "not require any detailed information about the codec used. We\n",
    "show the effectiveness of our method via comparing the resulting predictions with the actual transcoding times on unseen video\n",
    "streams. Simulation results show that our prediction method enables a significantly better load balancing of transcoding jobs\n",
    "than classical load balancing methods.\"\n",
    "\n",
    "\n",
    "TRADUCTION : \n",
    "\n",
    "\"Dans cet article, nous présentons une méthode permettant de prédire le temps de transcodage des vidéos en fonction d'un flux vidéo d'entrée et de ses paramètres de transcodage. Le temps de transcodage des vidéos est traité comme une variable aléatoire et est statistiquement prédit à partir d'observations passées. La méthode que nous proposons prédit le temps de transcodage en fonction de plusieurs paramètres des flux vidéo d'entrée et de sortie, et ne nécessite aucune information détaillée sur le codec utilisé. Nous démontrons l'efficacité de notre méthode en comparant les prédictions résultantes avec les temps de transcodage réels sur des flux vidéo non vus. Les résultats de la simulation montrent que notre méthode de prédiction permet un équilibrage de charge des travaux de transcodage nettement meilleur que les méthodes classiques d'équilibrage de charge.\""
   ]
  },
  {
   "cell_type": "markdown",
   "metadata": {
    "id": "d9HBD6mUEsyL"
   },
   "source": [
    "# I) Lecture des données"
   ]
  },
  {
   "cell_type": "code",
   "execution_count": 3,
   "metadata": {
    "colab": {
     "base_uri": "https://localhost:8080/"
    },
    "id": "a4yC8NRvtbgH",
    "outputId": "430ce654-48f8-4a94-be3a-0ae9f22fb6b7"
   },
   "outputs": [
    {
     "name": "stdout",
     "output_type": "stream",
     "text": [
      "Collecting searchgrid\n",
      "  Downloading searchgrid-0.2.0.tar.gz (6.2 kB)\n",
      "Requirement already satisfied: numpy in c:\\users\\louis\\anaconda3\\lib\\site-packages (from searchgrid) (1.18.5)\n",
      "Requirement already satisfied: scipy in c:\\users\\louis\\anaconda3\\lib\\site-packages (from searchgrid) (1.5.0)\n",
      "Requirement already satisfied: scikit-learn~=0.18 in c:\\users\\louis\\anaconda3\\lib\\site-packages (from searchgrid) (0.23.1)\n",
      "Requirement already satisfied: joblib>=0.11 in c:\\users\\louis\\anaconda3\\lib\\site-packages (from scikit-learn~=0.18->searchgrid) (0.16.0)\n",
      "Requirement already satisfied: threadpoolctl>=2.0.0 in c:\\users\\louis\\anaconda3\\lib\\site-packages (from scikit-learn~=0.18->searchgrid) (2.1.0)\n",
      "Building wheels for collected packages: searchgrid\n",
      "  Building wheel for searchgrid (setup.py): started\n",
      "  Building wheel for searchgrid (setup.py): finished with status 'done'\n",
      "  Created wheel for searchgrid: filename=searchgrid-0.2.0-py3-none-any.whl size=5771 sha256=0fdf04a3e89bfe46ff4c8507e34b8e49e6a01a495f6a1513b1a059c7edaee2eb\n",
      "  Stored in directory: c:\\users\\louis\\appdata\\local\\pip\\cache\\wheels\\f4\\e4\\c9\\7822cbd5f3931a2e6fb176012161def9f87eceef1bb2d82089\n",
      "Successfully built searchgrid\n",
      "Installing collected packages: searchgrid\n",
      "Successfully installed searchgrid-0.2.0\n"
     ]
    }
   ],
   "source": [
    "!pip install searchgrid"
   ]
  },
  {
   "cell_type": "code",
   "execution_count": 4,
   "metadata": {
    "colab": {
     "base_uri": "https://localhost:8080/"
    },
    "id": "UtWxH9vYNwyM",
    "outputId": "ef61bf92-1129-46fc-93fb-f7696fdfa489"
   },
   "outputs": [
    {
     "name": "stdout",
     "output_type": "stream",
     "text": [
      "Collecting sklearn\n",
      "  Downloading sklearn-0.0.tar.gz (1.1 kB)\n",
      "Requirement already satisfied: scikit-learn in c:\\users\\louis\\anaconda3\\lib\\site-packages (from sklearn) (0.23.1)\n",
      "Requirement already satisfied: joblib>=0.11 in c:\\users\\louis\\anaconda3\\lib\\site-packages (from scikit-learn->sklearn) (0.16.0)\n",
      "Requirement already satisfied: scipy>=0.19.1 in c:\\users\\louis\\anaconda3\\lib\\site-packages (from scikit-learn->sklearn) (1.5.0)\n",
      "Requirement already satisfied: numpy>=1.13.3 in c:\\users\\louis\\anaconda3\\lib\\site-packages (from scikit-learn->sklearn) (1.18.5)\n",
      "Requirement already satisfied: threadpoolctl>=2.0.0 in c:\\users\\louis\\anaconda3\\lib\\site-packages (from scikit-learn->sklearn) (2.1.0)\n",
      "Building wheels for collected packages: sklearn\n",
      "  Building wheel for sklearn (setup.py): started\n",
      "  Building wheel for sklearn (setup.py): finished with status 'done'\n",
      "  Created wheel for sklearn: filename=sklearn-0.0-py2.py3-none-any.whl size=1320 sha256=53fe4e57343c5e76ad1d54df4d9421ad552a2d36207f3e32bc7d88f1a762e656\n",
      "  Stored in directory: c:\\users\\louis\\appdata\\local\\pip\\cache\\wheels\\22\\0b\\40\\fd3f795caaa1fb4c6cb738bc1f56100be1e57da95849bfc897\n",
      "Successfully built sklearn\n",
      "Installing collected packages: sklearn\n",
      "Successfully installed sklearn-0.0\n"
     ]
    }
   ],
   "source": [
    "!pip install sklearn"
   ]
  },
  {
   "cell_type": "code",
   "execution_count": 5,
   "metadata": {
    "colab": {
     "base_uri": "https://localhost:8080/"
    },
    "id": "SBHPn_tKqjfu",
    "outputId": "2ab24e8e-6aaf-4d85-b576-5db01f9f0818"
   },
   "outputs": [
    {
     "name": "stdout",
     "output_type": "stream",
     "text": [
      "Collecting mglearn\n",
      "  Downloading mglearn-0.1.9.tar.gz (540 kB)\n",
      "Requirement already satisfied: numpy in c:\\users\\louis\\anaconda3\\lib\\site-packages (from mglearn) (1.18.5)\n",
      "Requirement already satisfied: matplotlib in c:\\users\\louis\\anaconda3\\lib\\site-packages (from mglearn) (3.2.2)\n",
      "Requirement already satisfied: scikit-learn in c:\\users\\louis\\anaconda3\\lib\\site-packages (from mglearn) (0.23.1)\n",
      "Requirement already satisfied: pandas in c:\\users\\louis\\anaconda3\\lib\\site-packages (from mglearn) (1.0.5)\n",
      "Requirement already satisfied: pillow in c:\\users\\louis\\anaconda3\\lib\\site-packages (from mglearn) (7.2.0)\n",
      "Requirement already satisfied: cycler in c:\\users\\louis\\anaconda3\\lib\\site-packages (from mglearn) (0.10.0)\n",
      "Requirement already satisfied: imageio in c:\\users\\louis\\anaconda3\\lib\\site-packages (from mglearn) (2.9.0)\n",
      "Requirement already satisfied: joblib in c:\\users\\louis\\anaconda3\\lib\\site-packages (from mglearn) (0.16.0)\n",
      "Requirement already satisfied: pyparsing!=2.0.4,!=2.1.2,!=2.1.6,>=2.0.1 in c:\\users\\louis\\anaconda3\\lib\\site-packages (from matplotlib->mglearn) (2.4.7)\n",
      "Requirement already satisfied: kiwisolver>=1.0.1 in c:\\users\\louis\\anaconda3\\lib\\site-packages (from matplotlib->mglearn) (1.2.0)\n",
      "Requirement already satisfied: python-dateutil>=2.1 in c:\\users\\louis\\anaconda3\\lib\\site-packages (from matplotlib->mglearn) (2.8.1)\n",
      "Requirement already satisfied: threadpoolctl>=2.0.0 in c:\\users\\louis\\anaconda3\\lib\\site-packages (from scikit-learn->mglearn) (2.1.0)\n",
      "Requirement already satisfied: scipy>=0.19.1 in c:\\users\\louis\\anaconda3\\lib\\site-packages (from scikit-learn->mglearn) (1.5.0)\n",
      "Requirement already satisfied: pytz>=2017.2 in c:\\users\\louis\\anaconda3\\lib\\site-packages (from pandas->mglearn) (2020.1)\n",
      "Requirement already satisfied: six in c:\\users\\louis\\anaconda3\\lib\\site-packages (from cycler->mglearn) (1.15.0)\n",
      "Building wheels for collected packages: mglearn\n",
      "  Building wheel for mglearn (setup.py): started\n",
      "  Building wheel for mglearn (setup.py): finished with status 'done'\n",
      "  Created wheel for mglearn: filename=mglearn-0.1.9-py2.py3-none-any.whl size=582645 sha256=e4e3238bd6d51ed208caf6df4d66e1a17497c803926cc1e8786fd13960e93e1d\n",
      "  Stored in directory: c:\\users\\louis\\appdata\\local\\pip\\cache\\wheels\\87\\75\\37\\404e66d0c4bad150f101c9a0914b11a8eccc2681559936e7f7\n",
      "Successfully built mglearn\n",
      "Installing collected packages: mglearn\n",
      "Successfully installed mglearn-0.1.9\n"
     ]
    }
   ],
   "source": [
    "!pip install mglearn"
   ]
  },
  {
   "cell_type": "code",
   "execution_count": 69,
   "metadata": {},
   "outputs": [
    {
     "name": "stdout",
     "output_type": "stream",
     "text": [
      "Collecting xgboost\n",
      "  Downloading xgboost-1.3.1-py3-none-win_amd64.whl (95.2 MB)\n",
      "Requirement already satisfied: scipy in c:\\users\\louis\\anaconda3\\lib\\site-packages (from xgboost) (1.5.0)\n",
      "Requirement already satisfied: numpy in c:\\users\\louis\\anaconda3\\lib\\site-packages (from xgboost) (1.18.5)\n",
      "Installing collected packages: xgboost\n",
      "Successfully installed xgboost-1.3.1\n"
     ]
    }
   ],
   "source": [
    "!pip install xgboost"
   ]
  },
  {
   "cell_type": "code",
   "execution_count": 1,
   "metadata": {
    "id": "65uRfANXEsyM"
   },
   "outputs": [],
   "source": [
    "import warnings\n",
    "warnings.filterwarnings(\"ignore\")\n",
    "import numpy as np\n",
    "import pandas as pd\n",
    "import seaborn\n",
    "from pandas import Series, DataFrame\n",
    "import matplotlib.pyplot as plt\n",
    "\n",
    "import scipy.stats as stats\n",
    "import pylab\n",
    "\n",
    "%matplotlib inline\n",
    "import os\n",
    "import sys\n",
    "import numpy as np\n",
    "from datetime import datetime\n",
    "from collections import defaultdict\n",
    "import itertools\n",
    "import matplotlib.pyplot as pyplot"
   ]
  },
  {
   "cell_type": "code",
   "execution_count": 2,
   "metadata": {
    "id": "vDC_CkZnEsyN"
   },
   "outputs": [],
   "source": [
    "dfYoutubeVideo=pd.read_csv('youtube_videos.tsv',sep='\\t')\n",
    "dfTranscodingMes=pd.read_csv('transcoding_mesurment.tsv',sep='\\t')"
   ]
  },
  {
   "cell_type": "code",
   "execution_count": 8,
   "metadata": {
    "colab": {
     "base_uri": "https://localhost:8080/",
     "height": 296
    },
    "id": "OUMaYB4SEsyO",
    "outputId": "7f34d7cd-2e07-423e-b276-469948eb3a48"
   },
   "outputs": [
    {
     "data": {
      "text/html": [
       "<div>\n",
       "<style scoped>\n",
       "    .dataframe tbody tr th:only-of-type {\n",
       "        vertical-align: middle;\n",
       "    }\n",
       "\n",
       "    .dataframe tbody tr th {\n",
       "        vertical-align: top;\n",
       "    }\n",
       "\n",
       "    .dataframe thead th {\n",
       "        text-align: right;\n",
       "    }\n",
       "</style>\n",
       "<table border=\"1\" class=\"dataframe\">\n",
       "  <thead>\n",
       "    <tr style=\"text-align: right;\">\n",
       "      <th></th>\n",
       "      <th>id</th>\n",
       "      <th>duration</th>\n",
       "      <th>bitrate</th>\n",
       "      <th>bitrate(video)</th>\n",
       "      <th>height</th>\n",
       "      <th>width</th>\n",
       "      <th>frame rate</th>\n",
       "      <th>frame rate(est.)</th>\n",
       "      <th>codec</th>\n",
       "      <th>category</th>\n",
       "      <th>url</th>\n",
       "    </tr>\n",
       "  </thead>\n",
       "  <tbody>\n",
       "    <tr>\n",
       "      <th>0</th>\n",
       "      <td>uDNj-_5ty48</td>\n",
       "      <td>267</td>\n",
       "      <td>373</td>\n",
       "      <td>274</td>\n",
       "      <td>568</td>\n",
       "      <td>320</td>\n",
       "      <td>29.97</td>\n",
       "      <td>0.00</td>\n",
       "      <td>h264</td>\n",
       "      <td>Music</td>\n",
       "      <td>http://r2---sn-ovgq0oxu-5goe.c.youtube.com/vid...</td>\n",
       "    </tr>\n",
       "    <tr>\n",
       "      <th>1</th>\n",
       "      <td>uDNj-_5ty48</td>\n",
       "      <td>267</td>\n",
       "      <td>512</td>\n",
       "      <td>396</td>\n",
       "      <td>480</td>\n",
       "      <td>270</td>\n",
       "      <td>29.97</td>\n",
       "      <td>29.97</td>\n",
       "      <td>h264</td>\n",
       "      <td>Music</td>\n",
       "      <td>http://r2---sn-ovgq0oxu-5goe.c.youtube.com/vid...</td>\n",
       "    </tr>\n",
       "    <tr>\n",
       "      <th>2</th>\n",
       "      <td>uDNj-_5ty48</td>\n",
       "      <td>267</td>\n",
       "      <td>324</td>\n",
       "      <td>263</td>\n",
       "      <td>400</td>\n",
       "      <td>226</td>\n",
       "      <td>29.97</td>\n",
       "      <td>29.97</td>\n",
       "      <td>flv1</td>\n",
       "      <td>Music</td>\n",
       "      <td>http://r2---sn-ovgq0oxu-5goe.c.youtube.com/vid...</td>\n",
       "    </tr>\n",
       "    <tr>\n",
       "      <th>3</th>\n",
       "      <td>uDNj-_5ty48</td>\n",
       "      <td>267</td>\n",
       "      <td>85</td>\n",
       "      <td>55</td>\n",
       "      <td>176</td>\n",
       "      <td>144</td>\n",
       "      <td>12.00</td>\n",
       "      <td>12.00</td>\n",
       "      <td>mpeg4</td>\n",
       "      <td>Music</td>\n",
       "      <td>http://r2---sn-ovgq0oxu-5goe.c.youtube.com/vid...</td>\n",
       "    </tr>\n",
       "    <tr>\n",
       "      <th>4</th>\n",
       "      <td>WCgt-AactyY</td>\n",
       "      <td>31</td>\n",
       "      <td>1261</td>\n",
       "      <td>1183</td>\n",
       "      <td>640</td>\n",
       "      <td>480</td>\n",
       "      <td>24.00</td>\n",
       "      <td>0.00</td>\n",
       "      <td>h264</td>\n",
       "      <td>People &amp; Blogs</td>\n",
       "      <td>http://r1---sn-ovgq0oxu-5goe.c.youtube.com/vid...</td>\n",
       "    </tr>\n",
       "  </tbody>\n",
       "</table>\n",
       "</div>"
      ],
      "text/plain": [
       "            id  duration  bitrate  bitrate(video)  height  width  frame rate  \\\n",
       "0  uDNj-_5ty48       267      373             274     568    320       29.97   \n",
       "1  uDNj-_5ty48       267      512             396     480    270       29.97   \n",
       "2  uDNj-_5ty48       267      324             263     400    226       29.97   \n",
       "3  uDNj-_5ty48       267       85              55     176    144       12.00   \n",
       "4  WCgt-AactyY        31     1261            1183     640    480       24.00   \n",
       "\n",
       "   frame rate(est.)  codec        category  \\\n",
       "0              0.00   h264           Music   \n",
       "1             29.97   h264           Music   \n",
       "2             29.97   flv1           Music   \n",
       "3             12.00  mpeg4           Music   \n",
       "4              0.00   h264  People & Blogs   \n",
       "\n",
       "                                                 url  \n",
       "0  http://r2---sn-ovgq0oxu-5goe.c.youtube.com/vid...  \n",
       "1  http://r2---sn-ovgq0oxu-5goe.c.youtube.com/vid...  \n",
       "2  http://r2---sn-ovgq0oxu-5goe.c.youtube.com/vid...  \n",
       "3  http://r2---sn-ovgq0oxu-5goe.c.youtube.com/vid...  \n",
       "4  http://r1---sn-ovgq0oxu-5goe.c.youtube.com/vid...  "
      ]
     },
     "execution_count": 8,
     "metadata": {},
     "output_type": "execute_result"
    }
   ],
   "source": [
    "dfYoutubeVideo.head()"
   ]
  },
  {
   "cell_type": "code",
   "execution_count": 9,
   "metadata": {
    "colab": {
     "base_uri": "https://localhost:8080/",
     "height": 299
    },
    "id": "v2UUS_S6EsyR",
    "outputId": "55333944-011e-4663-8a42-8a2b6b429373"
   },
   "outputs": [
    {
     "data": {
      "text/html": [
       "<div>\n",
       "<style scoped>\n",
       "    .dataframe tbody tr th:only-of-type {\n",
       "        vertical-align: middle;\n",
       "    }\n",
       "\n",
       "    .dataframe tbody tr th {\n",
       "        vertical-align: top;\n",
       "    }\n",
       "\n",
       "    .dataframe thead th {\n",
       "        text-align: right;\n",
       "    }\n",
       "</style>\n",
       "<table border=\"1\" class=\"dataframe\">\n",
       "  <thead>\n",
       "    <tr style=\"text-align: right;\">\n",
       "      <th></th>\n",
       "      <th>id</th>\n",
       "      <th>duration</th>\n",
       "      <th>codec</th>\n",
       "      <th>width</th>\n",
       "      <th>height</th>\n",
       "      <th>bitrate</th>\n",
       "      <th>framerate</th>\n",
       "      <th>i</th>\n",
       "      <th>p</th>\n",
       "      <th>b</th>\n",
       "      <th>...</th>\n",
       "      <th>p_size</th>\n",
       "      <th>b_size</th>\n",
       "      <th>size</th>\n",
       "      <th>o_codec</th>\n",
       "      <th>o_bitrate</th>\n",
       "      <th>o_framerate</th>\n",
       "      <th>o_width</th>\n",
       "      <th>o_height</th>\n",
       "      <th>umem</th>\n",
       "      <th>utime</th>\n",
       "    </tr>\n",
       "  </thead>\n",
       "  <tbody>\n",
       "    <tr>\n",
       "      <th>0</th>\n",
       "      <td>04t6-jw9czg</td>\n",
       "      <td>130.35667</td>\n",
       "      <td>mpeg4</td>\n",
       "      <td>176</td>\n",
       "      <td>144</td>\n",
       "      <td>54590</td>\n",
       "      <td>12.0</td>\n",
       "      <td>27</td>\n",
       "      <td>1537</td>\n",
       "      <td>0</td>\n",
       "      <td>...</td>\n",
       "      <td>825054</td>\n",
       "      <td>0</td>\n",
       "      <td>889537</td>\n",
       "      <td>mpeg4</td>\n",
       "      <td>56000</td>\n",
       "      <td>12.0</td>\n",
       "      <td>176</td>\n",
       "      <td>144</td>\n",
       "      <td>22508</td>\n",
       "      <td>0.612</td>\n",
       "    </tr>\n",
       "    <tr>\n",
       "      <th>1</th>\n",
       "      <td>04t6-jw9czg</td>\n",
       "      <td>130.35667</td>\n",
       "      <td>mpeg4</td>\n",
       "      <td>176</td>\n",
       "      <td>144</td>\n",
       "      <td>54590</td>\n",
       "      <td>12.0</td>\n",
       "      <td>27</td>\n",
       "      <td>1537</td>\n",
       "      <td>0</td>\n",
       "      <td>...</td>\n",
       "      <td>825054</td>\n",
       "      <td>0</td>\n",
       "      <td>889537</td>\n",
       "      <td>mpeg4</td>\n",
       "      <td>56000</td>\n",
       "      <td>12.0</td>\n",
       "      <td>320</td>\n",
       "      <td>240</td>\n",
       "      <td>25164</td>\n",
       "      <td>0.980</td>\n",
       "    </tr>\n",
       "    <tr>\n",
       "      <th>2</th>\n",
       "      <td>04t6-jw9czg</td>\n",
       "      <td>130.35667</td>\n",
       "      <td>mpeg4</td>\n",
       "      <td>176</td>\n",
       "      <td>144</td>\n",
       "      <td>54590</td>\n",
       "      <td>12.0</td>\n",
       "      <td>27</td>\n",
       "      <td>1537</td>\n",
       "      <td>0</td>\n",
       "      <td>...</td>\n",
       "      <td>825054</td>\n",
       "      <td>0</td>\n",
       "      <td>889537</td>\n",
       "      <td>mpeg4</td>\n",
       "      <td>56000</td>\n",
       "      <td>12.0</td>\n",
       "      <td>480</td>\n",
       "      <td>360</td>\n",
       "      <td>29228</td>\n",
       "      <td>1.216</td>\n",
       "    </tr>\n",
       "    <tr>\n",
       "      <th>3</th>\n",
       "      <td>04t6-jw9czg</td>\n",
       "      <td>130.35667</td>\n",
       "      <td>mpeg4</td>\n",
       "      <td>176</td>\n",
       "      <td>144</td>\n",
       "      <td>54590</td>\n",
       "      <td>12.0</td>\n",
       "      <td>27</td>\n",
       "      <td>1537</td>\n",
       "      <td>0</td>\n",
       "      <td>...</td>\n",
       "      <td>825054</td>\n",
       "      <td>0</td>\n",
       "      <td>889537</td>\n",
       "      <td>mpeg4</td>\n",
       "      <td>56000</td>\n",
       "      <td>12.0</td>\n",
       "      <td>640</td>\n",
       "      <td>480</td>\n",
       "      <td>34316</td>\n",
       "      <td>1.692</td>\n",
       "    </tr>\n",
       "    <tr>\n",
       "      <th>4</th>\n",
       "      <td>04t6-jw9czg</td>\n",
       "      <td>130.35667</td>\n",
       "      <td>mpeg4</td>\n",
       "      <td>176</td>\n",
       "      <td>144</td>\n",
       "      <td>54590</td>\n",
       "      <td>12.0</td>\n",
       "      <td>27</td>\n",
       "      <td>1537</td>\n",
       "      <td>0</td>\n",
       "      <td>...</td>\n",
       "      <td>825054</td>\n",
       "      <td>0</td>\n",
       "      <td>889537</td>\n",
       "      <td>mpeg4</td>\n",
       "      <td>56000</td>\n",
       "      <td>12.0</td>\n",
       "      <td>1280</td>\n",
       "      <td>720</td>\n",
       "      <td>58528</td>\n",
       "      <td>3.456</td>\n",
       "    </tr>\n",
       "  </tbody>\n",
       "</table>\n",
       "<p>5 rows × 22 columns</p>\n",
       "</div>"
      ],
      "text/plain": [
       "            id   duration  codec  width  height  bitrate  framerate   i     p  \\\n",
       "0  04t6-jw9czg  130.35667  mpeg4    176     144    54590       12.0  27  1537   \n",
       "1  04t6-jw9czg  130.35667  mpeg4    176     144    54590       12.0  27  1537   \n",
       "2  04t6-jw9czg  130.35667  mpeg4    176     144    54590       12.0  27  1537   \n",
       "3  04t6-jw9czg  130.35667  mpeg4    176     144    54590       12.0  27  1537   \n",
       "4  04t6-jw9czg  130.35667  mpeg4    176     144    54590       12.0  27  1537   \n",
       "\n",
       "   b  ...  p_size  b_size    size  o_codec  o_bitrate o_framerate  o_width  \\\n",
       "0  0  ...  825054       0  889537    mpeg4      56000        12.0      176   \n",
       "1  0  ...  825054       0  889537    mpeg4      56000        12.0      320   \n",
       "2  0  ...  825054       0  889537    mpeg4      56000        12.0      480   \n",
       "3  0  ...  825054       0  889537    mpeg4      56000        12.0      640   \n",
       "4  0  ...  825054       0  889537    mpeg4      56000        12.0     1280   \n",
       "\n",
       "   o_height   umem  utime  \n",
       "0       144  22508  0.612  \n",
       "1       240  25164  0.980  \n",
       "2       360  29228  1.216  \n",
       "3       480  34316  1.692  \n",
       "4       720  58528  3.456  \n",
       "\n",
       "[5 rows x 22 columns]"
      ]
     },
     "execution_count": 9,
     "metadata": {},
     "output_type": "execute_result"
    }
   ],
   "source": [
    "dfTranscodingMes.head()"
   ]
  },
  {
   "cell_type": "markdown",
   "metadata": {
    "id": "hMCKgZg1EsyS"
   },
   "source": [
    "# II ) Data Visualisation"
   ]
  },
  {
   "cell_type": "markdown",
   "metadata": {},
   "source": [
    "## II.1) Description "
   ]
  },
  {
   "cell_type": "code",
   "execution_count": 10,
   "metadata": {},
   "outputs": [
    {
     "name": "stdout",
     "output_type": "stream",
     "text": [
      "168286\n",
      "11\n"
     ]
    },
    {
     "data": {
      "text/html": [
       "<div>\n",
       "<style scoped>\n",
       "    .dataframe tbody tr th:only-of-type {\n",
       "        vertical-align: middle;\n",
       "    }\n",
       "\n",
       "    .dataframe tbody tr th {\n",
       "        vertical-align: top;\n",
       "    }\n",
       "\n",
       "    .dataframe thead th {\n",
       "        text-align: right;\n",
       "    }\n",
       "</style>\n",
       "<table border=\"1\" class=\"dataframe\">\n",
       "  <thead>\n",
       "    <tr style=\"text-align: right;\">\n",
       "      <th></th>\n",
       "      <th>duration</th>\n",
       "      <th>bitrate</th>\n",
       "      <th>bitrate(video)</th>\n",
       "      <th>height</th>\n",
       "      <th>width</th>\n",
       "      <th>frame rate</th>\n",
       "      <th>frame rate(est.)</th>\n",
       "    </tr>\n",
       "  </thead>\n",
       "  <tbody>\n",
       "    <tr>\n",
       "      <th>count</th>\n",
       "      <td>168286.000000</td>\n",
       "      <td>168286.00000</td>\n",
       "      <td>168286.000000</td>\n",
       "      <td>168286.000000</td>\n",
       "      <td>168286.000000</td>\n",
       "      <td>168286.000000</td>\n",
       "      <td>168286.000000</td>\n",
       "    </tr>\n",
       "    <tr>\n",
       "      <th>mean</th>\n",
       "      <td>271.654184</td>\n",
       "      <td>730.62149</td>\n",
       "      <td>624.363025</td>\n",
       "      <td>561.018706</td>\n",
       "      <td>368.399701</td>\n",
       "      <td>24.564592</td>\n",
       "      <td>19.884441</td>\n",
       "    </tr>\n",
       "    <tr>\n",
       "      <th>std</th>\n",
       "      <td>552.881871</td>\n",
       "      <td>919.15473</td>\n",
       "      <td>860.955654</td>\n",
       "      <td>359.071569</td>\n",
       "      <td>201.274180</td>\n",
       "      <td>7.396615</td>\n",
       "      <td>11.435070</td>\n",
       "    </tr>\n",
       "    <tr>\n",
       "      <th>min</th>\n",
       "      <td>1.000000</td>\n",
       "      <td>0.00000</td>\n",
       "      <td>0.000000</td>\n",
       "      <td>100.000000</td>\n",
       "      <td>88.000000</td>\n",
       "      <td>0.000000</td>\n",
       "      <td>0.000000</td>\n",
       "    </tr>\n",
       "    <tr>\n",
       "      <th>25%</th>\n",
       "      <td>55.000000</td>\n",
       "      <td>289.00000</td>\n",
       "      <td>231.000000</td>\n",
       "      <td>320.000000</td>\n",
       "      <td>240.000000</td>\n",
       "      <td>23.980000</td>\n",
       "      <td>12.000000</td>\n",
       "    </tr>\n",
       "    <tr>\n",
       "      <th>50%</th>\n",
       "      <td>145.000000</td>\n",
       "      <td>459.00000</td>\n",
       "      <td>349.000000</td>\n",
       "      <td>480.000000</td>\n",
       "      <td>360.000000</td>\n",
       "      <td>29.920000</td>\n",
       "      <td>25.000000</td>\n",
       "    </tr>\n",
       "    <tr>\n",
       "      <th>75%</th>\n",
       "      <td>289.000000</td>\n",
       "      <td>826.00000</td>\n",
       "      <td>640.000000</td>\n",
       "      <td>640.000000</td>\n",
       "      <td>480.000000</td>\n",
       "      <td>29.970000</td>\n",
       "      <td>29.970000</td>\n",
       "    </tr>\n",
       "    <tr>\n",
       "      <th>max</th>\n",
       "      <td>25845.000000</td>\n",
       "      <td>22421.00000</td>\n",
       "      <td>22229.000000</td>\n",
       "      <td>2592.000000</td>\n",
       "      <td>1944.000000</td>\n",
       "      <td>59.940000</td>\n",
       "      <td>30.020000</td>\n",
       "    </tr>\n",
       "  </tbody>\n",
       "</table>\n",
       "</div>"
      ],
      "text/plain": [
       "            duration       bitrate  bitrate(video)         height  \\\n",
       "count  168286.000000  168286.00000   168286.000000  168286.000000   \n",
       "mean      271.654184     730.62149      624.363025     561.018706   \n",
       "std       552.881871     919.15473      860.955654     359.071569   \n",
       "min         1.000000       0.00000        0.000000     100.000000   \n",
       "25%        55.000000     289.00000      231.000000     320.000000   \n",
       "50%       145.000000     459.00000      349.000000     480.000000   \n",
       "75%       289.000000     826.00000      640.000000     640.000000   \n",
       "max     25845.000000   22421.00000    22229.000000    2592.000000   \n",
       "\n",
       "               width     frame rate  frame rate(est.)  \n",
       "count  168286.000000  168286.000000     168286.000000  \n",
       "mean      368.399701      24.564592         19.884441  \n",
       "std       201.274180       7.396615         11.435070  \n",
       "min        88.000000       0.000000          0.000000  \n",
       "25%       240.000000      23.980000         12.000000  \n",
       "50%       360.000000      29.920000         25.000000  \n",
       "75%       480.000000      29.970000         29.970000  \n",
       "max      1944.000000      59.940000         30.020000  "
      ]
     },
     "execution_count": 10,
     "metadata": {},
     "output_type": "execute_result"
    }
   ],
   "source": [
    "dfYoutubeVideo.tail()\n",
    "nb_lignes, nb_col = dfYoutubeVideo.shape\n",
    "print(nb_lignes)\n",
    "print(nb_col)\n",
    "dfYoutubeVideo.describe()"
   ]
  },
  {
   "cell_type": "code",
   "execution_count": 11,
   "metadata": {},
   "outputs": [
    {
     "data": {
      "text/plain": [
       "id                   object\n",
       "duration              int64\n",
       "bitrate               int64\n",
       "bitrate(video)        int64\n",
       "height                int64\n",
       "width                 int64\n",
       "frame rate          float64\n",
       "frame rate(est.)    float64\n",
       "codec                object\n",
       "category             object\n",
       "url                  object\n",
       "dtype: object"
      ]
     },
     "execution_count": 11,
     "metadata": {},
     "output_type": "execute_result"
    }
   ],
   "source": [
    "dfYoutubeVideo.dtypes"
   ]
  },
  {
   "cell_type": "code",
   "execution_count": 12,
   "metadata": {},
   "outputs": [
    {
     "data": {
      "text/plain": [
       "Index(['id', 'duration', 'bitrate', 'bitrate(video)', 'height', 'width',\n",
       "       'frame rate', 'frame rate(est.)', 'codec', 'category', 'url'],\n",
       "      dtype='object')"
      ]
     },
     "execution_count": 12,
     "metadata": {},
     "output_type": "execute_result"
    }
   ],
   "source": [
    "dfYoutubeVideo.columns"
   ]
  },
  {
   "cell_type": "code",
   "execution_count": 13,
   "metadata": {},
   "outputs": [
    {
     "name": "stdout",
     "output_type": "stream",
     "text": [
      "68784\n",
      "22\n"
     ]
    },
    {
     "data": {
      "text/html": [
       "<div>\n",
       "<style scoped>\n",
       "    .dataframe tbody tr th:only-of-type {\n",
       "        vertical-align: middle;\n",
       "    }\n",
       "\n",
       "    .dataframe tbody tr th {\n",
       "        vertical-align: top;\n",
       "    }\n",
       "\n",
       "    .dataframe thead th {\n",
       "        text-align: right;\n",
       "    }\n",
       "</style>\n",
       "<table border=\"1\" class=\"dataframe\">\n",
       "  <thead>\n",
       "    <tr style=\"text-align: right;\">\n",
       "      <th></th>\n",
       "      <th>duration</th>\n",
       "      <th>width</th>\n",
       "      <th>height</th>\n",
       "      <th>bitrate</th>\n",
       "      <th>framerate</th>\n",
       "      <th>i</th>\n",
       "      <th>p</th>\n",
       "      <th>b</th>\n",
       "      <th>frames</th>\n",
       "      <th>i_size</th>\n",
       "      <th>p_size</th>\n",
       "      <th>b_size</th>\n",
       "      <th>size</th>\n",
       "      <th>o_bitrate</th>\n",
       "      <th>o_framerate</th>\n",
       "      <th>o_width</th>\n",
       "      <th>o_height</th>\n",
       "      <th>umem</th>\n",
       "      <th>utime</th>\n",
       "    </tr>\n",
       "  </thead>\n",
       "  <tbody>\n",
       "    <tr>\n",
       "      <th>count</th>\n",
       "      <td>68784.000000</td>\n",
       "      <td>68784.000000</td>\n",
       "      <td>68784.000000</td>\n",
       "      <td>6.878400e+04</td>\n",
       "      <td>68784.000000</td>\n",
       "      <td>68784.000000</td>\n",
       "      <td>68784.000000</td>\n",
       "      <td>68784.000000</td>\n",
       "      <td>68784.000000</td>\n",
       "      <td>6.878400e+04</td>\n",
       "      <td>6.878400e+04</td>\n",
       "      <td>68784.0</td>\n",
       "      <td>6.878400e+04</td>\n",
       "      <td>6.878400e+04</td>\n",
       "      <td>68784.000000</td>\n",
       "      <td>68784.000000</td>\n",
       "      <td>68784.000000</td>\n",
       "      <td>68784.000000</td>\n",
       "      <td>68784.000000</td>\n",
       "    </tr>\n",
       "    <tr>\n",
       "      <th>mean</th>\n",
       "      <td>286.413921</td>\n",
       "      <td>624.934171</td>\n",
       "      <td>412.572226</td>\n",
       "      <td>6.937015e+05</td>\n",
       "      <td>23.241321</td>\n",
       "      <td>100.868312</td>\n",
       "      <td>6531.692210</td>\n",
       "      <td>9.147854</td>\n",
       "      <td>6641.708377</td>\n",
       "      <td>2.838987e+06</td>\n",
       "      <td>2.218057e+07</td>\n",
       "      <td>0.0</td>\n",
       "      <td>2.502294e+07</td>\n",
       "      <td>1.395036e+06</td>\n",
       "      <td>21.190862</td>\n",
       "      <td>802.336357</td>\n",
       "      <td>503.825541</td>\n",
       "      <td>228224.717900</td>\n",
       "      <td>9.996355</td>\n",
       "    </tr>\n",
       "    <tr>\n",
       "      <th>std</th>\n",
       "      <td>287.257650</td>\n",
       "      <td>463.169069</td>\n",
       "      <td>240.615472</td>\n",
       "      <td>1.095628e+06</td>\n",
       "      <td>7.224848</td>\n",
       "      <td>84.764791</td>\n",
       "      <td>6075.871744</td>\n",
       "      <td>92.516177</td>\n",
       "      <td>6153.342453</td>\n",
       "      <td>4.325137e+06</td>\n",
       "      <td>5.097306e+07</td>\n",
       "      <td>0.0</td>\n",
       "      <td>5.414402e+07</td>\n",
       "      <td>1.749352e+06</td>\n",
       "      <td>6.668703</td>\n",
       "      <td>609.959797</td>\n",
       "      <td>315.970438</td>\n",
       "      <td>97430.878373</td>\n",
       "      <td>16.107429</td>\n",
       "    </tr>\n",
       "    <tr>\n",
       "      <th>min</th>\n",
       "      <td>31.080000</td>\n",
       "      <td>176.000000</td>\n",
       "      <td>144.000000</td>\n",
       "      <td>8.384000e+03</td>\n",
       "      <td>5.705752</td>\n",
       "      <td>7.000000</td>\n",
       "      <td>175.000000</td>\n",
       "      <td>0.000000</td>\n",
       "      <td>192.000000</td>\n",
       "      <td>1.164800e+04</td>\n",
       "      <td>3.384500e+04</td>\n",
       "      <td>0.0</td>\n",
       "      <td>1.918790e+05</td>\n",
       "      <td>5.600000e+04</td>\n",
       "      <td>12.000000</td>\n",
       "      <td>176.000000</td>\n",
       "      <td>144.000000</td>\n",
       "      <td>22508.000000</td>\n",
       "      <td>0.184000</td>\n",
       "    </tr>\n",
       "    <tr>\n",
       "      <th>25%</th>\n",
       "      <td>106.765000</td>\n",
       "      <td>320.000000</td>\n",
       "      <td>240.000000</td>\n",
       "      <td>1.343340e+05</td>\n",
       "      <td>15.000000</td>\n",
       "      <td>39.000000</td>\n",
       "      <td>2374.000000</td>\n",
       "      <td>0.000000</td>\n",
       "      <td>2417.000000</td>\n",
       "      <td>3.933950e+05</td>\n",
       "      <td>1.851539e+06</td>\n",
       "      <td>0.0</td>\n",
       "      <td>2.258222e+06</td>\n",
       "      <td>1.090000e+05</td>\n",
       "      <td>15.000000</td>\n",
       "      <td>320.000000</td>\n",
       "      <td>240.000000</td>\n",
       "      <td>216820.000000</td>\n",
       "      <td>2.096000</td>\n",
       "    </tr>\n",
       "    <tr>\n",
       "      <th>50%</th>\n",
       "      <td>239.141660</td>\n",
       "      <td>480.000000</td>\n",
       "      <td>360.000000</td>\n",
       "      <td>2.911500e+05</td>\n",
       "      <td>25.021740</td>\n",
       "      <td>80.000000</td>\n",
       "      <td>5515.000000</td>\n",
       "      <td>0.000000</td>\n",
       "      <td>5628.000000</td>\n",
       "      <td>9.458650e+05</td>\n",
       "      <td>6.166260e+06</td>\n",
       "      <td>0.0</td>\n",
       "      <td>7.881069e+06</td>\n",
       "      <td>5.390000e+05</td>\n",
       "      <td>24.000000</td>\n",
       "      <td>480.000000</td>\n",
       "      <td>360.000000</td>\n",
       "      <td>219480.000000</td>\n",
       "      <td>4.408000</td>\n",
       "    </tr>\n",
       "    <tr>\n",
       "      <th>75%</th>\n",
       "      <td>379.320000</td>\n",
       "      <td>640.000000</td>\n",
       "      <td>480.000000</td>\n",
       "      <td>6.529670e+05</td>\n",
       "      <td>29.000000</td>\n",
       "      <td>138.000000</td>\n",
       "      <td>9155.000000</td>\n",
       "      <td>0.000000</td>\n",
       "      <td>9232.000000</td>\n",
       "      <td>3.392479e+06</td>\n",
       "      <td>1.515506e+07</td>\n",
       "      <td>0.0</td>\n",
       "      <td>1.977335e+07</td>\n",
       "      <td>3.000000e+06</td>\n",
       "      <td>25.000000</td>\n",
       "      <td>1280.000000</td>\n",
       "      <td>720.000000</td>\n",
       "      <td>219656.000000</td>\n",
       "      <td>10.433000</td>\n",
       "    </tr>\n",
       "    <tr>\n",
       "      <th>max</th>\n",
       "      <td>25844.086000</td>\n",
       "      <td>1920.000000</td>\n",
       "      <td>1080.000000</td>\n",
       "      <td>7.628466e+06</td>\n",
       "      <td>48.000000</td>\n",
       "      <td>5170.000000</td>\n",
       "      <td>304959.000000</td>\n",
       "      <td>9407.000000</td>\n",
       "      <td>310129.000000</td>\n",
       "      <td>9.082855e+07</td>\n",
       "      <td>7.689970e+08</td>\n",
       "      <td>0.0</td>\n",
       "      <td>8.067111e+08</td>\n",
       "      <td>5.000000e+06</td>\n",
       "      <td>29.970000</td>\n",
       "      <td>1920.000000</td>\n",
       "      <td>1080.000000</td>\n",
       "      <td>711824.000000</td>\n",
       "      <td>224.574000</td>\n",
       "    </tr>\n",
       "  </tbody>\n",
       "</table>\n",
       "</div>"
      ],
      "text/plain": [
       "           duration         width        height       bitrate     framerate  \\\n",
       "count  68784.000000  68784.000000  68784.000000  6.878400e+04  68784.000000   \n",
       "mean     286.413921    624.934171    412.572226  6.937015e+05     23.241321   \n",
       "std      287.257650    463.169069    240.615472  1.095628e+06      7.224848   \n",
       "min       31.080000    176.000000    144.000000  8.384000e+03      5.705752   \n",
       "25%      106.765000    320.000000    240.000000  1.343340e+05     15.000000   \n",
       "50%      239.141660    480.000000    360.000000  2.911500e+05     25.021740   \n",
       "75%      379.320000    640.000000    480.000000  6.529670e+05     29.000000   \n",
       "max    25844.086000   1920.000000   1080.000000  7.628466e+06     48.000000   \n",
       "\n",
       "                  i              p             b         frames        i_size  \\\n",
       "count  68784.000000   68784.000000  68784.000000   68784.000000  6.878400e+04   \n",
       "mean     100.868312    6531.692210      9.147854    6641.708377  2.838987e+06   \n",
       "std       84.764791    6075.871744     92.516177    6153.342453  4.325137e+06   \n",
       "min        7.000000     175.000000      0.000000     192.000000  1.164800e+04   \n",
       "25%       39.000000    2374.000000      0.000000    2417.000000  3.933950e+05   \n",
       "50%       80.000000    5515.000000      0.000000    5628.000000  9.458650e+05   \n",
       "75%      138.000000    9155.000000      0.000000    9232.000000  3.392479e+06   \n",
       "max     5170.000000  304959.000000   9407.000000  310129.000000  9.082855e+07   \n",
       "\n",
       "             p_size   b_size          size     o_bitrate   o_framerate  \\\n",
       "count  6.878400e+04  68784.0  6.878400e+04  6.878400e+04  68784.000000   \n",
       "mean   2.218057e+07      0.0  2.502294e+07  1.395036e+06     21.190862   \n",
       "std    5.097306e+07      0.0  5.414402e+07  1.749352e+06      6.668703   \n",
       "min    3.384500e+04      0.0  1.918790e+05  5.600000e+04     12.000000   \n",
       "25%    1.851539e+06      0.0  2.258222e+06  1.090000e+05     15.000000   \n",
       "50%    6.166260e+06      0.0  7.881069e+06  5.390000e+05     24.000000   \n",
       "75%    1.515506e+07      0.0  1.977335e+07  3.000000e+06     25.000000   \n",
       "max    7.689970e+08      0.0  8.067111e+08  5.000000e+06     29.970000   \n",
       "\n",
       "            o_width      o_height           umem         utime  \n",
       "count  68784.000000  68784.000000   68784.000000  68784.000000  \n",
       "mean     802.336357    503.825541  228224.717900      9.996355  \n",
       "std      609.959797    315.970438   97430.878373     16.107429  \n",
       "min      176.000000    144.000000   22508.000000      0.184000  \n",
       "25%      320.000000    240.000000  216820.000000      2.096000  \n",
       "50%      480.000000    360.000000  219480.000000      4.408000  \n",
       "75%     1280.000000    720.000000  219656.000000     10.433000  \n",
       "max     1920.000000   1080.000000  711824.000000    224.574000  "
      ]
     },
     "execution_count": 13,
     "metadata": {},
     "output_type": "execute_result"
    }
   ],
   "source": [
    "dfTranscodingMes.tail()\n",
    "nb_lignes, nb_col = dfTranscodingMes.shape\n",
    "print(nb_lignes)\n",
    "print(nb_col)\n",
    "dfTranscodingMes.describe()"
   ]
  },
  {
   "cell_type": "code",
   "execution_count": 14,
   "metadata": {},
   "outputs": [
    {
     "data": {
      "text/plain": [
       "id              object\n",
       "duration       float64\n",
       "codec           object\n",
       "width            int64\n",
       "height           int64\n",
       "bitrate          int64\n",
       "framerate      float64\n",
       "i                int64\n",
       "p                int64\n",
       "b                int64\n",
       "frames           int64\n",
       "i_size           int64\n",
       "p_size           int64\n",
       "b_size           int64\n",
       "size             int64\n",
       "o_codec         object\n",
       "o_bitrate        int64\n",
       "o_framerate    float64\n",
       "o_width          int64\n",
       "o_height         int64\n",
       "umem             int64\n",
       "utime          float64\n",
       "dtype: object"
      ]
     },
     "execution_count": 14,
     "metadata": {},
     "output_type": "execute_result"
    }
   ],
   "source": [
    "dfTranscodingMes.dtypes"
   ]
  },
  {
   "cell_type": "code",
   "execution_count": 15,
   "metadata": {},
   "outputs": [
    {
     "data": {
      "text/plain": [
       "Index(['id', 'duration', 'codec', 'width', 'height', 'bitrate', 'framerate',\n",
       "       'i', 'p', 'b', 'frames', 'i_size', 'p_size', 'b_size', 'size',\n",
       "       'o_codec', 'o_bitrate', 'o_framerate', 'o_width', 'o_height', 'umem',\n",
       "       'utime'],\n",
       "      dtype='object')"
      ]
     },
     "execution_count": 15,
     "metadata": {},
     "output_type": "execute_result"
    }
   ],
   "source": [
    "dfTranscodingMes.columns"
   ]
  },
  {
   "cell_type": "markdown",
   "metadata": {},
   "source": [
    "##  II.2) Les Na"
   ]
  },
  {
   "cell_type": "code",
   "execution_count": 16,
   "metadata": {
    "colab": {
     "base_uri": "https://localhost:8080/"
    },
    "id": "izeJxj0Yvna_",
    "outputId": "cae00210-5af5-437c-e798-ae01185f7c3c"
   },
   "outputs": [
    {
     "data": {
      "text/plain": [
       "id             0\n",
       "duration       0\n",
       "codec          0\n",
       "width          0\n",
       "height         0\n",
       "bitrate        0\n",
       "framerate      0\n",
       "i              0\n",
       "p              0\n",
       "b              0\n",
       "frames         0\n",
       "i_size         0\n",
       "p_size         0\n",
       "b_size         0\n",
       "size           0\n",
       "o_codec        0\n",
       "o_bitrate      0\n",
       "o_framerate    0\n",
       "o_width        0\n",
       "o_height       0\n",
       "umem           0\n",
       "utime          0\n",
       "dtype: int64"
      ]
     },
     "execution_count": 16,
     "metadata": {},
     "output_type": "execute_result"
    }
   ],
   "source": [
    "dfTranscodingMes.isna().sum()"
   ]
  },
  {
   "cell_type": "code",
   "execution_count": 9,
   "metadata": {
    "colab": {
     "base_uri": "https://localhost:8080/"
    },
    "id": "JVhnRU45vtbk",
    "outputId": "63befcc7-9d4a-4f4a-bab6-14b3fc3a9bdb"
   },
   "outputs": [
    {
     "data": {
      "text/plain": [
       "id                  0\n",
       "duration            0\n",
       "bitrate             0\n",
       "bitrate(video)      0\n",
       "height              0\n",
       "width               0\n",
       "frame rate          0\n",
       "frame rate(est.)    0\n",
       "codec               0\n",
       "category            0\n",
       "url                 0\n",
       "dtype: int64"
      ]
     },
     "execution_count": 9,
     "metadata": {
      "tags": []
     },
     "output_type": "execute_result"
    }
   ],
   "source": [
    "dfYoutubeVideo.isna().sum()"
   ]
  },
  {
   "cell_type": "markdown",
   "metadata": {},
   "source": [
    "Ce dataset ne comporte pas de NA nous n'avons donc pas besoin de les traiter"
   ]
  },
  {
   "cell_type": "markdown",
   "metadata": {
    "id": "Q0uzO-_0JWUm"
   },
   "source": [
    "##  II.3) Observations générales sur les vidéos Youtubes du dataset youtube_videos"
   ]
  },
  {
   "cell_type": "code",
   "execution_count": 17,
   "metadata": {},
   "outputs": [
    {
     "data": {
      "text/plain": [
       "16"
      ]
     },
     "execution_count": 17,
     "metadata": {},
     "output_type": "execute_result"
    }
   ],
   "source": [
    "dfYoutubeVideo['category'].nunique()"
   ]
  },
  {
   "cell_type": "markdown",
   "metadata": {},
   "source": [
    "### Classement des categories de vidéos\n",
    "Quelles sont les types de videos les plus vues et le moins vues?"
   ]
  },
  {
   "cell_type": "code",
   "execution_count": 18,
   "metadata": {},
   "outputs": [
    {
     "data": {
      "text/plain": [
       "category\n",
       "Shows                     252\n",
       "Nonprofits & Activis     2163\n",
       "Science & Technology     3226\n",
       "Pets & Animals           3893\n",
       "Howto & Style            4088\n",
       "Travel & Events          5035\n",
       "News & Politics          6085\n",
       "Film & Animation         6106\n",
       "Education                6201\n",
       "Autos & Vehicles         7167\n",
       "Comedy                   9872\n",
       "Sports                  10277\n",
       "Gaming                  18574\n",
       "Entertainment           21000\n",
       "Music                   26512\n",
       "People & Blogs          37835\n",
       "Name: category, dtype: int64"
      ]
     },
     "execution_count": 18,
     "metadata": {},
     "output_type": "execute_result"
    }
   ],
   "source": [
    "topCategory=dfYoutubeVideo.groupby(\"category\").category.count().sort_values()\n",
    "topCategory"
   ]
  },
  {
   "cell_type": "code",
   "execution_count": 19,
   "metadata": {},
   "outputs": [
    {
     "data": {
      "text/plain": [
       "<matplotlib.axes._subplots.AxesSubplot at 0x183b7e2bb80>"
      ]
     },
     "execution_count": 19,
     "metadata": {},
     "output_type": "execute_result"
    },
    {
     "data": {
      "image/png": "[encoded data removed]",
      "text/plain": [
       "<Figure size 432x288 with 1 Axes>"
      ]
     },
     "metadata": {
      "needs_background": "light"
     },
     "output_type": "display_data"
    }
   ],
   "source": [
    "seaborn.barplot(y=topCategory.index, x = topCategory.values)"
   ]
  },
  {
   "cell_type": "markdown",
   "metadata": {},
   "source": [
    "### Moyenne des temps des videos par catégorie\n",
    "Y a t'il des catégories de videos qui sont en moyenne plus ou moins longues?"
   ]
  },
  {
   "cell_type": "code",
   "execution_count": 20,
   "metadata": {},
   "outputs": [
    {
     "data": {
      "text/plain": [
       "category\n",
       "Pets & Animals          122.269458\n",
       "Autos & Vehicles        143.593554\n",
       "Comedy                  153.874494\n",
       "Travel & Events         205.762860\n",
       "Entertainment           227.420190\n",
       "People & Blogs          231.890075\n",
       "Sports                  233.242775\n",
       "Howto & Style           234.764922\n",
       "Music                   256.520972\n",
       "Film & Animation        262.302489\n",
       "Science & Technology    333.686299\n",
       "News & Politics         349.087921\n",
       "Gaming                  473.216970\n",
       "Education               479.764554\n",
       "Nonprofits & Activis    569.261211\n",
       "Shows                   596.119048\n",
       "Name: duration, dtype: float64"
      ]
     },
     "execution_count": 20,
     "metadata": {},
     "output_type": "execute_result"
    }
   ],
   "source": [
    "CategoryMeanTime=dfYoutubeVideo.groupby(\"category\").duration.mean().sort_values()\n",
    "CategoryMeanTime"
   ]
  },
  {
   "cell_type": "code",
   "execution_count": 21,
   "metadata": {},
   "outputs": [
    {
     "data": {
      "text/plain": [
       "<matplotlib.axes._subplots.AxesSubplot at 0x183b879c8e0>"
      ]
     },
     "execution_count": 21,
     "metadata": {},
     "output_type": "execute_result"
    },
    {
     "data": {
      "image/png": "[encoded data removed]",
      "text/plain": [
       "<Figure size 432x288 with 1 Axes>"
      ]
     },
     "metadata": {
      "needs_background": "light"
     },
     "output_type": "display_data"
    }
   ],
   "source": [
    "seaborn.barplot(y=CategoryMeanTime.index,x=CategoryMeanTime.values)"
   ]
  },
  {
   "cell_type": "markdown",
   "metadata": {},
   "source": [
    "### Codecs des vidéos Youtubes\n",
    "Quel est le type de codec le plus représenté/le moins représenté dans les vidéos Youtubes ?"
   ]
  },
  {
   "cell_type": "code",
   "execution_count": 22,
   "metadata": {},
   "outputs": [
    {
     "data": {
      "text/plain": [
       "<matplotlib.axes._subplots.AxesSubplot at 0x183b88b33a0>"
      ]
     },
     "execution_count": 22,
     "metadata": {},
     "output_type": "execute_result"
    },
    {
     "data": {
      "image/png": "[encoded data removed]",
      "text/plain": [
       "<Figure size 432x288 with 1 Axes>"
      ]
     },
     "metadata": {
      "needs_background": "light"
     },
     "output_type": "display_data"
    }
   ],
   "source": [
    "dataSerie = pd.Series(dfYoutubeVideo.codec)\n",
    "dataSerie.sort_values()\n",
    "x = dataSerie.value_counts()\n",
    "x = x.sort_values()\n",
    "title=\"Codec\"\n",
    "x.plot(kind=\"bar\", title=title)"
   ]
  },
  {
   "cell_type": "markdown",
   "metadata": {},
   "source": [
    "### Représentation de la Fréquence d'images (nombre d'images à la seconde) dans les vidéos Youtubes dataset"
   ]
  },
  {
   "cell_type": "code",
   "execution_count": 23,
   "metadata": {},
   "outputs": [
    {
     "data": {
      "text/plain": [
       "54.42        1\n",
       "39.25        1\n",
       "10.16        1\n",
       "21.56        1\n",
       "24.86        1\n",
       "         ...  \n",
       "29.92     5987\n",
       "12.00    24761\n",
       "25.00    28230\n",
       "30.00    33212\n",
       "29.97    47710\n",
       "Name: frame rate, Length: 1145, dtype: int64"
      ]
     },
     "execution_count": 23,
     "metadata": {},
     "output_type": "execute_result"
    }
   ],
   "source": [
    "frameRate = dfYoutubeVideo[\"frame rate\"].value_counts().sort_values()\n",
    "frameRate"
   ]
  },
  {
   "cell_type": "markdown",
   "metadata": {
    "id": "_QbWD5H2JatI"
   },
   "source": [
    "### Temps d'une video en fonction de son bitrate"
   ]
  },
  {
   "cell_type": "code",
   "execution_count": 24,
   "metadata": {
    "colab": {
     "base_uri": "https://localhost:8080/",
     "height": 279
    },
    "id": "-Pt80_rcIauB",
    "outputId": "ccda2ba5-6920-4c74-8998-e55eae133e60"
   },
   "outputs": [
    {
     "data": {
      "image/png": "[encoded data removed]",
      "text/plain": [
       "<Figure size 432x288 with 1 Axes>"
      ]
     },
     "metadata": {
      "needs_background": "light"
     },
     "output_type": "display_data"
    }
   ],
   "source": [
    "dfTranscodingMes.plot(kind='scatter',x='bitrate',y='duration',color='red')\n",
    "plt.show()"
   ]
  },
  {
   "cell_type": "markdown",
   "metadata": {},
   "source": [
    "On ne remarque pas forcément de lien entre le bitrate et le temps de la vidéo"
   ]
  },
  {
   "cell_type": "markdown",
   "metadata": {},
   "source": [
    "## II.4) Merge des 2 dataset ( dfTranscodingMes et dfYoutubeVideo)"
   ]
  },
  {
   "cell_type": "markdown",
   "metadata": {},
   "source": [
    "Nous avons décidé de merger les 2 sous datasets pour avoir des données complètes sur les vidéos étudiées.\n",
    "En effet le dataset YoutubeVido contient des infomations générales sur des vidéos Youtubes et l'autre dataset contient des informations sur les transcodages de certaines de ces vidéos Youtubes."
   ]
  },
  {
   "cell_type": "code",
   "execution_count": 3,
   "metadata": {},
   "outputs": [
    {
     "data": {
      "text/html": [
       "<div>\n",
       "<style scoped>\n",
       "    .dataframe tbody tr th:only-of-type {\n",
       "        vertical-align: middle;\n",
       "    }\n",
       "\n",
       "    .dataframe tbody tr th {\n",
       "        vertical-align: top;\n",
       "    }\n",
       "\n",
       "    .dataframe thead th {\n",
       "        text-align: right;\n",
       "    }\n",
       "</style>\n",
       "<table border=\"1\" class=\"dataframe\">\n",
       "  <thead>\n",
       "    <tr style=\"text-align: right;\">\n",
       "      <th></th>\n",
       "      <th>id</th>\n",
       "      <th>duration</th>\n",
       "      <th>codec</th>\n",
       "      <th>width</th>\n",
       "      <th>height</th>\n",
       "      <th>bitrate</th>\n",
       "      <th>framerate</th>\n",
       "      <th>i</th>\n",
       "      <th>p</th>\n",
       "      <th>b</th>\n",
       "      <th>...</th>\n",
       "      <th>b_size</th>\n",
       "      <th>size</th>\n",
       "      <th>o_codec</th>\n",
       "      <th>o_bitrate</th>\n",
       "      <th>o_framerate</th>\n",
       "      <th>o_width</th>\n",
       "      <th>o_height</th>\n",
       "      <th>umem</th>\n",
       "      <th>utime</th>\n",
       "      <th>category</th>\n",
       "    </tr>\n",
       "  </thead>\n",
       "  <tbody>\n",
       "    <tr>\n",
       "      <th>0</th>\n",
       "      <td>04t6-jw9czg</td>\n",
       "      <td>130.35667</td>\n",
       "      <td>mpeg4</td>\n",
       "      <td>176</td>\n",
       "      <td>144</td>\n",
       "      <td>54590</td>\n",
       "      <td>12.0</td>\n",
       "      <td>27</td>\n",
       "      <td>1537</td>\n",
       "      <td>0</td>\n",
       "      <td>...</td>\n",
       "      <td>0</td>\n",
       "      <td>889537</td>\n",
       "      <td>mpeg4</td>\n",
       "      <td>56000</td>\n",
       "      <td>12.0</td>\n",
       "      <td>176</td>\n",
       "      <td>144</td>\n",
       "      <td>22508</td>\n",
       "      <td>0.612</td>\n",
       "      <td>Gaming</td>\n",
       "    </tr>\n",
       "    <tr>\n",
       "      <th>1</th>\n",
       "      <td>04t6-jw9czg</td>\n",
       "      <td>130.35667</td>\n",
       "      <td>mpeg4</td>\n",
       "      <td>176</td>\n",
       "      <td>144</td>\n",
       "      <td>54590</td>\n",
       "      <td>12.0</td>\n",
       "      <td>27</td>\n",
       "      <td>1537</td>\n",
       "      <td>0</td>\n",
       "      <td>...</td>\n",
       "      <td>0</td>\n",
       "      <td>889537</td>\n",
       "      <td>mpeg4</td>\n",
       "      <td>56000</td>\n",
       "      <td>12.0</td>\n",
       "      <td>176</td>\n",
       "      <td>144</td>\n",
       "      <td>22508</td>\n",
       "      <td>0.612</td>\n",
       "      <td>Gaming</td>\n",
       "    </tr>\n",
       "    <tr>\n",
       "      <th>2</th>\n",
       "      <td>04t6-jw9czg</td>\n",
       "      <td>130.35667</td>\n",
       "      <td>mpeg4</td>\n",
       "      <td>176</td>\n",
       "      <td>144</td>\n",
       "      <td>54590</td>\n",
       "      <td>12.0</td>\n",
       "      <td>27</td>\n",
       "      <td>1537</td>\n",
       "      <td>0</td>\n",
       "      <td>...</td>\n",
       "      <td>0</td>\n",
       "      <td>889537</td>\n",
       "      <td>mpeg4</td>\n",
       "      <td>56000</td>\n",
       "      <td>12.0</td>\n",
       "      <td>176</td>\n",
       "      <td>144</td>\n",
       "      <td>22508</td>\n",
       "      <td>0.612</td>\n",
       "      <td>Gaming</td>\n",
       "    </tr>\n",
       "    <tr>\n",
       "      <th>3</th>\n",
       "      <td>04t6-jw9czg</td>\n",
       "      <td>130.35667</td>\n",
       "      <td>mpeg4</td>\n",
       "      <td>176</td>\n",
       "      <td>144</td>\n",
       "      <td>54590</td>\n",
       "      <td>12.0</td>\n",
       "      <td>27</td>\n",
       "      <td>1537</td>\n",
       "      <td>0</td>\n",
       "      <td>...</td>\n",
       "      <td>0</td>\n",
       "      <td>889537</td>\n",
       "      <td>mpeg4</td>\n",
       "      <td>56000</td>\n",
       "      <td>12.0</td>\n",
       "      <td>176</td>\n",
       "      <td>144</td>\n",
       "      <td>22508</td>\n",
       "      <td>0.612</td>\n",
       "      <td>Gaming</td>\n",
       "    </tr>\n",
       "    <tr>\n",
       "      <th>4</th>\n",
       "      <td>04t6-jw9czg</td>\n",
       "      <td>130.35667</td>\n",
       "      <td>mpeg4</td>\n",
       "      <td>176</td>\n",
       "      <td>144</td>\n",
       "      <td>54590</td>\n",
       "      <td>12.0</td>\n",
       "      <td>27</td>\n",
       "      <td>1537</td>\n",
       "      <td>0</td>\n",
       "      <td>...</td>\n",
       "      <td>0</td>\n",
       "      <td>889537</td>\n",
       "      <td>mpeg4</td>\n",
       "      <td>56000</td>\n",
       "      <td>12.0</td>\n",
       "      <td>176</td>\n",
       "      <td>144</td>\n",
       "      <td>22508</td>\n",
       "      <td>0.612</td>\n",
       "      <td>Gaming</td>\n",
       "    </tr>\n",
       "  </tbody>\n",
       "</table>\n",
       "<p>5 rows × 23 columns</p>\n",
       "</div>"
      ],
      "text/plain": [
       "            id   duration  codec  width  height  bitrate  framerate   i     p  \\\n",
       "0  04t6-jw9czg  130.35667  mpeg4    176     144    54590       12.0  27  1537   \n",
       "1  04t6-jw9czg  130.35667  mpeg4    176     144    54590       12.0  27  1537   \n",
       "2  04t6-jw9czg  130.35667  mpeg4    176     144    54590       12.0  27  1537   \n",
       "3  04t6-jw9czg  130.35667  mpeg4    176     144    54590       12.0  27  1537   \n",
       "4  04t6-jw9czg  130.35667  mpeg4    176     144    54590       12.0  27  1537   \n",
       "\n",
       "   b  ...  b_size    size  o_codec  o_bitrate  o_framerate o_width  o_height  \\\n",
       "0  0  ...       0  889537    mpeg4      56000         12.0     176       144   \n",
       "1  0  ...       0  889537    mpeg4      56000         12.0     176       144   \n",
       "2  0  ...       0  889537    mpeg4      56000         12.0     176       144   \n",
       "3  0  ...       0  889537    mpeg4      56000         12.0     176       144   \n",
       "4  0  ...       0  889537    mpeg4      56000         12.0     176       144   \n",
       "\n",
       "    umem  utime  category  \n",
       "0  22508  0.612    Gaming  \n",
       "1  22508  0.612    Gaming  \n",
       "2  22508  0.612    Gaming  \n",
       "3  22508  0.612    Gaming  \n",
       "4  22508  0.612    Gaming  \n",
       "\n",
       "[5 rows x 23 columns]"
      ]
     },
     "execution_count": 3,
     "metadata": {},
     "output_type": "execute_result"
    }
   ],
   "source": [
    "dfFinal = pd.merge(left=dfTranscodingMes,right=dfYoutubeVideo[['id', 'category']], how='left', left_on='id', right_on='id')\n",
    "dfFinal.head()"
   ]
  },
  {
   "cell_type": "markdown",
   "metadata": {},
   "source": [
    "## II.5) Observation sur les mesures de transcodage des vidéos Youtubes du dataset mergé\n"
   ]
  },
  {
   "cell_type": "code",
   "execution_count": 26,
   "metadata": {},
   "outputs": [
    {
     "data": {
      "text/plain": [
       "1099"
      ]
     },
     "execution_count": 26,
     "metadata": {},
     "output_type": "execute_result"
    }
   ],
   "source": [
    "dfFinal['id'].nunique()"
   ]
  },
  {
   "cell_type": "markdown",
   "metadata": {},
   "source": [
    "1099 Vidéos Youtube du dataset video_youtubes.tsv sont réutilisées dans le datset transcoding_mesurement.tsv pour les test de mesures de transcodage."
   ]
  },
  {
   "cell_type": "markdown",
   "metadata": {},
   "source": [
    "### Catégories des vidéos les plus/moins longues\n",
    "Dans cet échantillon, quels sont en moyenne les catégories de vidéos les plus/moins longues?"
   ]
  },
  {
   "cell_type": "code",
   "execution_count": 27,
   "metadata": {},
   "outputs": [
    {
     "data": {
      "text/plain": [
       "<matplotlib.axes._subplots.AxesSubplot at 0x183b991fe80>"
      ]
     },
     "execution_count": 27,
     "metadata": {},
     "output_type": "execute_result"
    },
    {
     "data": {
      "image/png": "[encoded data removed]",
      "text/plain": [
       "<Figure size 432x288 with 1 Axes>"
      ]
     },
     "metadata": {
      "needs_background": "light"
     },
     "output_type": "display_data"
    }
   ],
   "source": [
    "CategoryMeanTime2=dfFinal.groupby(\"category\").duration.mean().sort_values()\n",
    "seaborn.barplot(y=CategoryMeanTime2.index,x=CategoryMeanTime2.values)"
   ]
  },
  {
   "cell_type": "markdown",
   "metadata": {},
   "source": [
    "### Classement par type de codec dans l'échantillon des vidéos youtubes du dataset  avant et après transcodage\n",
    "Quels sont les types de codec les plus représentés/les moins représentés avant et après transcodage?"
   ]
  },
  {
   "cell_type": "code",
   "execution_count": 28,
   "metadata": {},
   "outputs": [
    {
     "data": {
      "text/plain": [
       "<matplotlib.axes._subplots.AxesSubplot at 0x183b8ce5790>"
      ]
     },
     "execution_count": 28,
     "metadata": {},
     "output_type": "execute_result"
    },
    {
     "data": {
      "image/png": "[encoded data removed]",
      "text/plain": [
       "<Figure size 720x216 with 2 Axes>"
      ]
     },
     "metadata": {
      "needs_background": "light"
     },
     "output_type": "display_data"
    }
   ],
   "source": [
    "CodecBfrTrans=dfFinal.groupby(\"codec\").codec.count().sort_values()\n",
    "CodecAftrTrans=dfFinal.groupby(\"o_codec\").o_codec.count().sort_values()\n",
    "\n",
    "CodecBfrTrans=dfFinal.groupby(\"codec\").codec.count().sort_values()\n",
    "CodecAftrTrans=dfFinal.groupby(\"o_codec\").o_codec.count().sort_values()\n",
    "\n",
    "\n",
    "fig, (ax1, ax2) = plt.subplots(ncols=2, sharey=True,figsize=(10, 3)) \n",
    "seaborn.barplot(y=CodecBfrTrans.index,x=CodecBfrTrans.values,ax=ax1)\n",
    "seaborn.barplot(y=CodecAftrTrans.index,x=CodecAftrTrans.values,ax=ax2)"
   ]
  },
  {
   "cell_type": "markdown",
   "metadata": {},
   "source": [
    "### Répartition du temps de transcodage"
   ]
  },
  {
   "cell_type": "code",
   "execution_count": 29,
   "metadata": {},
   "outputs": [
    {
     "data": {
      "image/png": "[encoded data removed]",
      "text/plain": [
       "<Figure size 1368x288 with 1 Axes>"
      ]
     },
     "metadata": {
      "needs_background": "light"
     },
     "output_type": "display_data"
    }
   ],
   "source": [
    "plt.figure(figsize=(19,4))\n",
    "seaborn.boxplot(x=dfFinal.utime);"
   ]
  },
  {
   "cell_type": "markdown",
   "metadata": {},
   "source": [
    "On remaque que que 75% des valeur de temps de transcodage se consentrent à moins d'une dizaine de secondes et on remarque aussi que quellques veleurs vont de 25 à peu près 230 sec"
   ]
  },
  {
   "cell_type": "markdown",
   "metadata": {},
   "source": [
    "### Répartition du temps de transcodage en fonction des codec , o_codec \n",
    "Le codec d'entrée ou de sortie a t'il une influence sur le temps lee transcodage d'une vidéo?"
   ]
  },
  {
   "cell_type": "code",
   "execution_count": 30,
   "metadata": {},
   "outputs": [
    {
     "data": {
      "image/png": "[encoded data removed]",
      "text/plain": [
       "<Figure size 1440x360 with 4 Axes>"
      ]
     },
     "metadata": {
      "needs_background": "light"
     },
     "output_type": "display_data"
    }
   ],
   "source": [
    "seaborn.relplot(x=\"codec\", y=\"utime\", col=\"o_codec\", color = \"purple\", data=dfFinal);"
   ]
  },
  {
   "cell_type": "markdown",
   "metadata": {},
   "source": [
    "On remarque pour les vidéos étudiées, le temps de transcodage peut monter assez haut pour des vidéos avec un codec de sortie h264 quelque soit le codec d'entrée. Pour les codec de sortie flv et mpeg4 on remarque que les temps de transcodages sont assez bas quelque soit le codec d'entrée."
   ]
  },
  {
   "cell_type": "code",
   "execution_count": 31,
   "metadata": {},
   "outputs": [
    {
     "data": {
      "image/png": "[encoded data removed]",
      "text/plain": [
       "<Figure size 864x720 with 1 Axes>"
      ]
     },
     "metadata": {
      "needs_background": "light"
     },
     "output_type": "display_data"
    }
   ],
   "source": [
    "plt.figure(figsize=(12, 10))\n",
    "seaborn.boxplot(y=dfFinal.utime,x=dfFinal.o_codec);"
   ]
  },
  {
   "cell_type": "markdown",
   "metadata": {},
   "source": [
    "On remarque ici les mêmes observations que ci-dessus mais en ayant des informations plus précises sur la répartition de ces valeurs."
   ]
  },
  {
   "cell_type": "markdown",
   "metadata": {},
   "source": [
    "### Corrélations des variables numériques entres elles"
   ]
  },
  {
   "cell_type": "code",
   "execution_count": 32,
   "metadata": {},
   "outputs": [
    {
     "data": {
      "text/html": [
       "<div>\n",
       "<style scoped>\n",
       "    .dataframe tbody tr th:only-of-type {\n",
       "        vertical-align: middle;\n",
       "    }\n",
       "\n",
       "    .dataframe tbody tr th {\n",
       "        vertical-align: top;\n",
       "    }\n",
       "\n",
       "    .dataframe thead th {\n",
       "        text-align: right;\n",
       "    }\n",
       "</style>\n",
       "<table border=\"1\" class=\"dataframe\">\n",
       "  <thead>\n",
       "    <tr style=\"text-align: right;\">\n",
       "      <th></th>\n",
       "      <th>duration</th>\n",
       "      <th>width</th>\n",
       "      <th>height</th>\n",
       "      <th>bitrate</th>\n",
       "      <th>framerate</th>\n",
       "      <th>i</th>\n",
       "      <th>p</th>\n",
       "      <th>b</th>\n",
       "      <th>frames</th>\n",
       "      <th>i_size</th>\n",
       "      <th>p_size</th>\n",
       "      <th>b_size</th>\n",
       "      <th>size</th>\n",
       "      <th>o_bitrate</th>\n",
       "      <th>o_framerate</th>\n",
       "      <th>o_width</th>\n",
       "      <th>o_height</th>\n",
       "      <th>umem</th>\n",
       "      <th>utime</th>\n",
       "    </tr>\n",
       "  </thead>\n",
       "  <tbody>\n",
       "    <tr>\n",
       "      <th>duration</th>\n",
       "      <td>1.000000</td>\n",
       "      <td>0.085803</td>\n",
       "      <td>0.063407</td>\n",
       "      <td>0.003437</td>\n",
       "      <td>-0.006504</td>\n",
       "      <td>0.785504</td>\n",
       "      <td>0.863464</td>\n",
       "      <td>0.051330</td>\n",
       "      <td>0.864414</td>\n",
       "      <td>0.466101</td>\n",
       "      <td>0.448764</td>\n",
       "      <td>NaN</td>\n",
       "      <td>0.458710</td>\n",
       "      <td>0.000114</td>\n",
       "      <td>0.001177</td>\n",
       "      <td>0.000169</td>\n",
       "      <td>0.000472</td>\n",
       "      <td>0.005061</td>\n",
       "      <td>0.003637</td>\n",
       "    </tr>\n",
       "    <tr>\n",
       "      <th>width</th>\n",
       "      <td>0.085803</td>\n",
       "      <td>1.000000</td>\n",
       "      <td>0.991893</td>\n",
       "      <td>0.812709</td>\n",
       "      <td>0.401701</td>\n",
       "      <td>0.079221</td>\n",
       "      <td>0.232766</td>\n",
       "      <td>-0.061632</td>\n",
       "      <td>0.230359</td>\n",
       "      <td>0.586399</td>\n",
       "      <td>0.548757</td>\n",
       "      <td>NaN</td>\n",
       "      <td>0.562129</td>\n",
       "      <td>-0.001030</td>\n",
       "      <td>-0.000175</td>\n",
       "      <td>-0.000162</td>\n",
       "      <td>-0.000136</td>\n",
       "      <td>0.045598</td>\n",
       "      <td>0.152003</td>\n",
       "    </tr>\n",
       "    <tr>\n",
       "      <th>height</th>\n",
       "      <td>0.063407</td>\n",
       "      <td>0.991893</td>\n",
       "      <td>1.000000</td>\n",
       "      <td>0.801874</td>\n",
       "      <td>0.456539</td>\n",
       "      <td>0.090249</td>\n",
       "      <td>0.225289</td>\n",
       "      <td>-0.065975</td>\n",
       "      <td>0.223058</td>\n",
       "      <td>0.574406</td>\n",
       "      <td>0.526786</td>\n",
       "      <td>NaN</td>\n",
       "      <td>0.540505</td>\n",
       "      <td>-0.001011</td>\n",
       "      <td>-0.000141</td>\n",
       "      <td>-0.000118</td>\n",
       "      <td>-0.000102</td>\n",
       "      <td>0.051701</td>\n",
       "      <td>0.151514</td>\n",
       "    </tr>\n",
       "    <tr>\n",
       "      <th>bitrate</th>\n",
       "      <td>0.003437</td>\n",
       "      <td>0.812709</td>\n",
       "      <td>0.801874</td>\n",
       "      <td>1.000000</td>\n",
       "      <td>0.262639</td>\n",
       "      <td>0.064547</td>\n",
       "      <td>0.099566</td>\n",
       "      <td>-0.043401</td>\n",
       "      <td>0.098726</td>\n",
       "      <td>0.437510</td>\n",
       "      <td>0.604404</td>\n",
       "      <td>NaN</td>\n",
       "      <td>0.603074</td>\n",
       "      <td>-0.001384</td>\n",
       "      <td>-0.000232</td>\n",
       "      <td>-0.000137</td>\n",
       "      <td>-0.000134</td>\n",
       "      <td>0.054584</td>\n",
       "      <td>0.177376</td>\n",
       "    </tr>\n",
       "    <tr>\n",
       "      <th>framerate</th>\n",
       "      <td>-0.006504</td>\n",
       "      <td>0.401701</td>\n",
       "      <td>0.456539</td>\n",
       "      <td>0.262639</td>\n",
       "      <td>1.000000</td>\n",
       "      <td>0.240018</td>\n",
       "      <td>0.327273</td>\n",
       "      <td>0.019728</td>\n",
       "      <td>0.326883</td>\n",
       "      <td>0.301865</td>\n",
       "      <td>0.206896</td>\n",
       "      <td>NaN</td>\n",
       "      <td>0.218190</td>\n",
       "      <td>-0.001817</td>\n",
       "      <td>0.000065</td>\n",
       "      <td>-0.000078</td>\n",
       "      <td>-0.000088</td>\n",
       "      <td>0.060531</td>\n",
       "      <td>0.090951</td>\n",
       "    </tr>\n",
       "    <tr>\n",
       "      <th>i</th>\n",
       "      <td>0.785504</td>\n",
       "      <td>0.079221</td>\n",
       "      <td>0.090249</td>\n",
       "      <td>0.064547</td>\n",
       "      <td>0.240018</td>\n",
       "      <td>1.000000</td>\n",
       "      <td>0.825621</td>\n",
       "      <td>0.105429</td>\n",
       "      <td>0.830476</td>\n",
       "      <td>0.553892</td>\n",
       "      <td>0.441853</td>\n",
       "      <td>NaN</td>\n",
       "      <td>0.459012</td>\n",
       "      <td>-0.001206</td>\n",
       "      <td>0.000634</td>\n",
       "      <td>0.000780</td>\n",
       "      <td>0.000877</td>\n",
       "      <td>0.033843</td>\n",
       "      <td>0.019384</td>\n",
       "    </tr>\n",
       "    <tr>\n",
       "      <th>p</th>\n",
       "      <td>0.863464</td>\n",
       "      <td>0.232766</td>\n",
       "      <td>0.225289</td>\n",
       "      <td>0.099566</td>\n",
       "      <td>0.327273</td>\n",
       "      <td>0.825621</td>\n",
       "      <td>1.000000</td>\n",
       "      <td>0.050113</td>\n",
       "      <td>0.999886</td>\n",
       "      <td>0.681785</td>\n",
       "      <td>0.634461</td>\n",
       "      <td>NaN</td>\n",
       "      <td>0.650268</td>\n",
       "      <td>-0.002261</td>\n",
       "      <td>0.000499</td>\n",
       "      <td>0.000215</td>\n",
       "      <td>0.000365</td>\n",
       "      <td>0.028011</td>\n",
       "      <td>0.033875</td>\n",
       "    </tr>\n",
       "    <tr>\n",
       "      <th>b</th>\n",
       "      <td>0.051330</td>\n",
       "      <td>-0.061632</td>\n",
       "      <td>-0.065975</td>\n",
       "      <td>-0.043401</td>\n",
       "      <td>0.019728</td>\n",
       "      <td>0.105429</td>\n",
       "      <td>0.050113</td>\n",
       "      <td>1.000000</td>\n",
       "      <td>0.063270</td>\n",
       "      <td>-0.030565</td>\n",
       "      <td>-0.026895</td>\n",
       "      <td>NaN</td>\n",
       "      <td>-0.026840</td>\n",
       "      <td>0.002971</td>\n",
       "      <td>-0.000233</td>\n",
       "      <td>-0.000092</td>\n",
       "      <td>-0.000052</td>\n",
       "      <td>0.004174</td>\n",
       "      <td>0.001768</td>\n",
       "    </tr>\n",
       "    <tr>\n",
       "      <th>frames</th>\n",
       "      <td>0.864414</td>\n",
       "      <td>0.230359</td>\n",
       "      <td>0.223058</td>\n",
       "      <td>0.098726</td>\n",
       "      <td>0.326883</td>\n",
       "      <td>0.830476</td>\n",
       "      <td>0.999886</td>\n",
       "      <td>0.063270</td>\n",
       "      <td>1.000000</td>\n",
       "      <td>0.680790</td>\n",
       "      <td>0.632593</td>\n",
       "      <td>NaN</td>\n",
       "      <td>0.648443</td>\n",
       "      <td>-0.002214</td>\n",
       "      <td>0.000499</td>\n",
       "      <td>0.000222</td>\n",
       "      <td>0.000372</td>\n",
       "      <td>0.028182</td>\n",
       "      <td>0.033760</td>\n",
       "    </tr>\n",
       "    <tr>\n",
       "      <th>i_size</th>\n",
       "      <td>0.466101</td>\n",
       "      <td>0.586399</td>\n",
       "      <td>0.574406</td>\n",
       "      <td>0.437510</td>\n",
       "      <td>0.301865</td>\n",
       "      <td>0.553892</td>\n",
       "      <td>0.681785</td>\n",
       "      <td>-0.030565</td>\n",
       "      <td>0.680790</td>\n",
       "      <td>1.000000</td>\n",
       "      <td>0.734348</td>\n",
       "      <td>NaN</td>\n",
       "      <td>0.768871</td>\n",
       "      <td>-0.003052</td>\n",
       "      <td>-0.000141</td>\n",
       "      <td>-0.000093</td>\n",
       "      <td>-0.000117</td>\n",
       "      <td>0.041272</td>\n",
       "      <td>0.075390</td>\n",
       "    </tr>\n",
       "    <tr>\n",
       "      <th>p_size</th>\n",
       "      <td>0.448764</td>\n",
       "      <td>0.548757</td>\n",
       "      <td>0.526786</td>\n",
       "      <td>0.604404</td>\n",
       "      <td>0.206896</td>\n",
       "      <td>0.441853</td>\n",
       "      <td>0.634461</td>\n",
       "      <td>-0.026895</td>\n",
       "      <td>0.632593</td>\n",
       "      <td>0.734348</td>\n",
       "      <td>1.000000</td>\n",
       "      <td>NaN</td>\n",
       "      <td>0.998628</td>\n",
       "      <td>-0.004144</td>\n",
       "      <td>-0.000124</td>\n",
       "      <td>0.000271</td>\n",
       "      <td>0.000259</td>\n",
       "      <td>0.038690</td>\n",
       "      <td>0.109510</td>\n",
       "    </tr>\n",
       "    <tr>\n",
       "      <th>b_size</th>\n",
       "      <td>NaN</td>\n",
       "      <td>NaN</td>\n",
       "      <td>NaN</td>\n",
       "      <td>NaN</td>\n",
       "      <td>NaN</td>\n",
       "      <td>NaN</td>\n",
       "      <td>NaN</td>\n",
       "      <td>NaN</td>\n",
       "      <td>NaN</td>\n",
       "      <td>NaN</td>\n",
       "      <td>NaN</td>\n",
       "      <td>NaN</td>\n",
       "      <td>NaN</td>\n",
       "      <td>NaN</td>\n",
       "      <td>NaN</td>\n",
       "      <td>NaN</td>\n",
       "      <td>NaN</td>\n",
       "      <td>NaN</td>\n",
       "      <td>NaN</td>\n",
       "    </tr>\n",
       "    <tr>\n",
       "      <th>size</th>\n",
       "      <td>0.458710</td>\n",
       "      <td>0.562129</td>\n",
       "      <td>0.540505</td>\n",
       "      <td>0.603074</td>\n",
       "      <td>0.218190</td>\n",
       "      <td>0.459012</td>\n",
       "      <td>0.650268</td>\n",
       "      <td>-0.026840</td>\n",
       "      <td>0.648443</td>\n",
       "      <td>0.768871</td>\n",
       "      <td>0.998628</td>\n",
       "      <td>NaN</td>\n",
       "      <td>1.000000</td>\n",
       "      <td>-0.004132</td>\n",
       "      <td>-0.000130</td>\n",
       "      <td>0.000246</td>\n",
       "      <td>0.000233</td>\n",
       "      <td>0.039623</td>\n",
       "      <td>0.108972</td>\n",
       "    </tr>\n",
       "    <tr>\n",
       "      <th>o_bitrate</th>\n",
       "      <td>0.000114</td>\n",
       "      <td>-0.001030</td>\n",
       "      <td>-0.001011</td>\n",
       "      <td>-0.001384</td>\n",
       "      <td>-0.001817</td>\n",
       "      <td>-0.001206</td>\n",
       "      <td>-0.002261</td>\n",
       "      <td>0.002971</td>\n",
       "      <td>-0.002214</td>\n",
       "      <td>-0.003052</td>\n",
       "      <td>-0.004144</td>\n",
       "      <td>NaN</td>\n",
       "      <td>-0.004132</td>\n",
       "      <td>1.000000</td>\n",
       "      <td>-0.000115</td>\n",
       "      <td>0.000010</td>\n",
       "      <td>0.000067</td>\n",
       "      <td>0.001310</td>\n",
       "      <td>0.154949</td>\n",
       "    </tr>\n",
       "    <tr>\n",
       "      <th>o_framerate</th>\n",
       "      <td>0.001177</td>\n",
       "      <td>-0.000175</td>\n",
       "      <td>-0.000141</td>\n",
       "      <td>-0.000232</td>\n",
       "      <td>0.000065</td>\n",
       "      <td>0.000634</td>\n",
       "      <td>0.000499</td>\n",
       "      <td>-0.000233</td>\n",
       "      <td>0.000499</td>\n",
       "      <td>-0.000141</td>\n",
       "      <td>-0.000124</td>\n",
       "      <td>NaN</td>\n",
       "      <td>-0.000130</td>\n",
       "      <td>-0.000115</td>\n",
       "      <td>1.000000</td>\n",
       "      <td>0.000523</td>\n",
       "      <td>0.000520</td>\n",
       "      <td>0.002293</td>\n",
       "      <td>0.104926</td>\n",
       "    </tr>\n",
       "    <tr>\n",
       "      <th>o_width</th>\n",
       "      <td>0.000169</td>\n",
       "      <td>-0.000162</td>\n",
       "      <td>-0.000118</td>\n",
       "      <td>-0.000137</td>\n",
       "      <td>-0.000078</td>\n",
       "      <td>0.000780</td>\n",
       "      <td>0.000215</td>\n",
       "      <td>-0.000092</td>\n",
       "      <td>0.000222</td>\n",
       "      <td>-0.000093</td>\n",
       "      <td>0.000271</td>\n",
       "      <td>NaN</td>\n",
       "      <td>0.000246</td>\n",
       "      <td>0.000010</td>\n",
       "      <td>0.000523</td>\n",
       "      <td>1.000000</td>\n",
       "      <td>0.994490</td>\n",
       "      <td>0.387717</td>\n",
       "      <td>0.518897</td>\n",
       "    </tr>\n",
       "    <tr>\n",
       "      <th>o_height</th>\n",
       "      <td>0.000472</td>\n",
       "      <td>-0.000136</td>\n",
       "      <td>-0.000102</td>\n",
       "      <td>-0.000134</td>\n",
       "      <td>-0.000088</td>\n",
       "      <td>0.000877</td>\n",
       "      <td>0.000365</td>\n",
       "      <td>-0.000052</td>\n",
       "      <td>0.000372</td>\n",
       "      <td>-0.000117</td>\n",
       "      <td>0.000259</td>\n",
       "      <td>NaN</td>\n",
       "      <td>0.000233</td>\n",
       "      <td>0.000067</td>\n",
       "      <td>0.000520</td>\n",
       "      <td>0.994490</td>\n",
       "      <td>1.000000</td>\n",
       "      <td>0.381313</td>\n",
       "      <td>0.515267</td>\n",
       "    </tr>\n",
       "    <tr>\n",
       "      <th>umem</th>\n",
       "      <td>0.005061</td>\n",
       "      <td>0.045598</td>\n",
       "      <td>0.051701</td>\n",
       "      <td>0.054584</td>\n",
       "      <td>0.060531</td>\n",
       "      <td>0.033843</td>\n",
       "      <td>0.028011</td>\n",
       "      <td>0.004174</td>\n",
       "      <td>0.028182</td>\n",
       "      <td>0.041272</td>\n",
       "      <td>0.038690</td>\n",
       "      <td>NaN</td>\n",
       "      <td>0.039623</td>\n",
       "      <td>0.001310</td>\n",
       "      <td>0.002293</td>\n",
       "      <td>0.387717</td>\n",
       "      <td>0.381313</td>\n",
       "      <td>1.000000</td>\n",
       "      <td>0.658152</td>\n",
       "    </tr>\n",
       "    <tr>\n",
       "      <th>utime</th>\n",
       "      <td>0.003637</td>\n",
       "      <td>0.152003</td>\n",
       "      <td>0.151514</td>\n",
       "      <td>0.177376</td>\n",
       "      <td>0.090951</td>\n",
       "      <td>0.019384</td>\n",
       "      <td>0.033875</td>\n",
       "      <td>0.001768</td>\n",
       "      <td>0.033760</td>\n",
       "      <td>0.075390</td>\n",
       "      <td>0.109510</td>\n",
       "      <td>NaN</td>\n",
       "      <td>0.108972</td>\n",
       "      <td>0.154949</td>\n",
       "      <td>0.104926</td>\n",
       "      <td>0.518897</td>\n",
       "      <td>0.515267</td>\n",
       "      <td>0.658152</td>\n",
       "      <td>1.000000</td>\n",
       "    </tr>\n",
       "  </tbody>\n",
       "</table>\n",
       "</div>"
      ],
      "text/plain": [
       "             duration     width    height   bitrate  framerate         i  \\\n",
       "duration     1.000000  0.085803  0.063407  0.003437  -0.006504  0.785504   \n",
       "width        0.085803  1.000000  0.991893  0.812709   0.401701  0.079221   \n",
       "height       0.063407  0.991893  1.000000  0.801874   0.456539  0.090249   \n",
       "bitrate      0.003437  0.812709  0.801874  1.000000   0.262639  0.064547   \n",
       "framerate   -0.006504  0.401701  0.456539  0.262639   1.000000  0.240018   \n",
       "i            0.785504  0.079221  0.090249  0.064547   0.240018  1.000000   \n",
       "p            0.863464  0.232766  0.225289  0.099566   0.327273  0.825621   \n",
       "b            0.051330 -0.061632 -0.065975 -0.043401   0.019728  0.105429   \n",
       "frames       0.864414  0.230359  0.223058  0.098726   0.326883  0.830476   \n",
       "i_size       0.466101  0.586399  0.574406  0.437510   0.301865  0.553892   \n",
       "p_size       0.448764  0.548757  0.526786  0.604404   0.206896  0.441853   \n",
       "b_size            NaN       NaN       NaN       NaN        NaN       NaN   \n",
       "size         0.458710  0.562129  0.540505  0.603074   0.218190  0.459012   \n",
       "o_bitrate    0.000114 -0.001030 -0.001011 -0.001384  -0.001817 -0.001206   \n",
       "o_framerate  0.001177 -0.000175 -0.000141 -0.000232   0.000065  0.000634   \n",
       "o_width      0.000169 -0.000162 -0.000118 -0.000137  -0.000078  0.000780   \n",
       "o_height     0.000472 -0.000136 -0.000102 -0.000134  -0.000088  0.000877   \n",
       "umem         0.005061  0.045598  0.051701  0.054584   0.060531  0.033843   \n",
       "utime        0.003637  0.152003  0.151514  0.177376   0.090951  0.019384   \n",
       "\n",
       "                    p         b    frames    i_size    p_size  b_size  \\\n",
       "duration     0.863464  0.051330  0.864414  0.466101  0.448764     NaN   \n",
       "width        0.232766 -0.061632  0.230359  0.586399  0.548757     NaN   \n",
       "height       0.225289 -0.065975  0.223058  0.574406  0.526786     NaN   \n",
       "bitrate      0.099566 -0.043401  0.098726  0.437510  0.604404     NaN   \n",
       "framerate    0.327273  0.019728  0.326883  0.301865  0.206896     NaN   \n",
       "i            0.825621  0.105429  0.830476  0.553892  0.441853     NaN   \n",
       "p            1.000000  0.050113  0.999886  0.681785  0.634461     NaN   \n",
       "b            0.050113  1.000000  0.063270 -0.030565 -0.026895     NaN   \n",
       "frames       0.999886  0.063270  1.000000  0.680790  0.632593     NaN   \n",
       "i_size       0.681785 -0.030565  0.680790  1.000000  0.734348     NaN   \n",
       "p_size       0.634461 -0.026895  0.632593  0.734348  1.000000     NaN   \n",
       "b_size            NaN       NaN       NaN       NaN       NaN     NaN   \n",
       "size         0.650268 -0.026840  0.648443  0.768871  0.998628     NaN   \n",
       "o_bitrate   -0.002261  0.002971 -0.002214 -0.003052 -0.004144     NaN   \n",
       "o_framerate  0.000499 -0.000233  0.000499 -0.000141 -0.000124     NaN   \n",
       "o_width      0.000215 -0.000092  0.000222 -0.000093  0.000271     NaN   \n",
       "o_height     0.000365 -0.000052  0.000372 -0.000117  0.000259     NaN   \n",
       "umem         0.028011  0.004174  0.028182  0.041272  0.038690     NaN   \n",
       "utime        0.033875  0.001768  0.033760  0.075390  0.109510     NaN   \n",
       "\n",
       "                 size  o_bitrate  o_framerate   o_width  o_height      umem  \\\n",
       "duration     0.458710   0.000114     0.001177  0.000169  0.000472  0.005061   \n",
       "width        0.562129  -0.001030    -0.000175 -0.000162 -0.000136  0.045598   \n",
       "height       0.540505  -0.001011    -0.000141 -0.000118 -0.000102  0.051701   \n",
       "bitrate      0.603074  -0.001384    -0.000232 -0.000137 -0.000134  0.054584   \n",
       "framerate    0.218190  -0.001817     0.000065 -0.000078 -0.000088  0.060531   \n",
       "i            0.459012  -0.001206     0.000634  0.000780  0.000877  0.033843   \n",
       "p            0.650268  -0.002261     0.000499  0.000215  0.000365  0.028011   \n",
       "b           -0.026840   0.002971    -0.000233 -0.000092 -0.000052  0.004174   \n",
       "frames       0.648443  -0.002214     0.000499  0.000222  0.000372  0.028182   \n",
       "i_size       0.768871  -0.003052    -0.000141 -0.000093 -0.000117  0.041272   \n",
       "p_size       0.998628  -0.004144    -0.000124  0.000271  0.000259  0.038690   \n",
       "b_size            NaN        NaN          NaN       NaN       NaN       NaN   \n",
       "size         1.000000  -0.004132    -0.000130  0.000246  0.000233  0.039623   \n",
       "o_bitrate   -0.004132   1.000000    -0.000115  0.000010  0.000067  0.001310   \n",
       "o_framerate -0.000130  -0.000115     1.000000  0.000523  0.000520  0.002293   \n",
       "o_width      0.000246   0.000010     0.000523  1.000000  0.994490  0.387717   \n",
       "o_height     0.000233   0.000067     0.000520  0.994490  1.000000  0.381313   \n",
       "umem         0.039623   0.001310     0.002293  0.387717  0.381313  1.000000   \n",
       "utime        0.108972   0.154949     0.104926  0.518897  0.515267  0.658152   \n",
       "\n",
       "                utime  \n",
       "duration     0.003637  \n",
       "width        0.152003  \n",
       "height       0.151514  \n",
       "bitrate      0.177376  \n",
       "framerate    0.090951  \n",
       "i            0.019384  \n",
       "p            0.033875  \n",
       "b            0.001768  \n",
       "frames       0.033760  \n",
       "i_size       0.075390  \n",
       "p_size       0.109510  \n",
       "b_size            NaN  \n",
       "size         0.108972  \n",
       "o_bitrate    0.154949  \n",
       "o_framerate  0.104926  \n",
       "o_width      0.518897  \n",
       "o_height     0.515267  \n",
       "umem         0.658152  \n",
       "utime        1.000000  "
      ]
     },
     "execution_count": 32,
     "metadata": {},
     "output_type": "execute_result"
    }
   ],
   "source": [
    "dfFinal.corr()"
   ]
  },
  {
   "cell_type": "code",
   "execution_count": 33,
   "metadata": {},
   "outputs": [
    {
     "data": {
      "text/html": [
       "<style  type=\"text/css\" >\n",
       "    #T_160569bd_510e_11eb_a60a_00155df1df39row0_col0 {\n",
       "            background-color:  #b40426;\n",
       "            color:  #f1f1f1;\n",
       "        }    #T_160569bd_510e_11eb_a60a_00155df1df39row0_col1 {\n",
       "            background-color:  #6687ed;\n",
       "            color:  #000000;\n",
       "        }    #T_160569bd_510e_11eb_a60a_00155df1df39row0_col2 {\n",
       "            background-color:  #6180e9;\n",
       "            color:  #000000;\n",
       "        }    #T_160569bd_510e_11eb_a60a_00155df1df39row0_col3 {\n",
       "            background-color:  #485fd1;\n",
       "            color:  #f1f1f1;\n",
       "        }    #T_160569bd_510e_11eb_a60a_00155df1df39row0_col4 {\n",
       "            background-color:  #3b4cc0;\n",
       "            color:  #f1f1f1;\n",
       "        }    #T_160569bd_510e_11eb_a60a_00155df1df39row0_col5 {\n",
       "            background-color:  #f08a6c;\n",
       "            color:  #000000;\n",
       "        }    #T_160569bd_510e_11eb_a60a_00155df1df39row0_col6 {\n",
       "            background-color:  #e0654f;\n",
       "            color:  #000000;\n",
       "        }    #T_160569bd_510e_11eb_a60a_00155df1df39row0_col7 {\n",
       "            background-color:  #5d7ce6;\n",
       "            color:  #000000;\n",
       "        }    #T_160569bd_510e_11eb_a60a_00155df1df39row0_col8 {\n",
       "            background-color:  #e0654f;\n",
       "            color:  #000000;\n",
       "        }    #T_160569bd_510e_11eb_a60a_00155df1df39row0_col9 {\n",
       "            background-color:  #d8dce2;\n",
       "            color:  #000000;\n",
       "        }    #T_160569bd_510e_11eb_a60a_00155df1df39row0_col10 {\n",
       "            background-color:  #d3dbe7;\n",
       "            color:  #000000;\n",
       "        }    #T_160569bd_510e_11eb_a60a_00155df1df39row0_col11 {\n",
       "            background-color:  #000000;\n",
       "            color:  #f1f1f1;\n",
       "        }    #T_160569bd_510e_11eb_a60a_00155df1df39row0_col12 {\n",
       "            background-color:  #d6dce4;\n",
       "            color:  #000000;\n",
       "        }    #T_160569bd_510e_11eb_a60a_00155df1df39row0_col13 {\n",
       "            background-color:  #3c4ec2;\n",
       "            color:  #f1f1f1;\n",
       "        }    #T_160569bd_510e_11eb_a60a_00155df1df39row0_col14 {\n",
       "            background-color:  #3b4cc0;\n",
       "            color:  #f1f1f1;\n",
       "        }    #T_160569bd_510e_11eb_a60a_00155df1df39row0_col15 {\n",
       "            background-color:  #3b4cc0;\n",
       "            color:  #f1f1f1;\n",
       "        }    #T_160569bd_510e_11eb_a60a_00155df1df39row0_col16 {\n",
       "            background-color:  #3b4cc0;\n",
       "            color:  #f1f1f1;\n",
       "        }    #T_160569bd_510e_11eb_a60a_00155df1df39row0_col17 {\n",
       "            background-color:  #3b4cc0;\n",
       "            color:  #f1f1f1;\n",
       "        }    #T_160569bd_510e_11eb_a60a_00155df1df39row0_col18 {\n",
       "            background-color:  #3b4cc0;\n",
       "            color:  #f1f1f1;\n",
       "        }    #T_160569bd_510e_11eb_a60a_00155df1df39row1_col0 {\n",
       "            background-color:  #5673e0;\n",
       "            color:  #000000;\n",
       "        }    #T_160569bd_510e_11eb_a60a_00155df1df39row1_col1 {\n",
       "            background-color:  #b40426;\n",
       "            color:  #f1f1f1;\n",
       "        }    #T_160569bd_510e_11eb_a60a_00155df1df39row1_col2 {\n",
       "            background-color:  #b50927;\n",
       "            color:  #f1f1f1;\n",
       "        }    #T_160569bd_510e_11eb_a60a_00155df1df39row1_col3 {\n",
       "            background-color:  #e97a5f;\n",
       "            color:  #000000;\n",
       "        }    #T_160569bd_510e_11eb_a60a_00155df1df39row1_col4 {\n",
       "            background-color:  #c1d4f4;\n",
       "            color:  #000000;\n",
       "        }    #T_160569bd_510e_11eb_a60a_00155df1df39row1_col5 {\n",
       "            background-color:  #536edd;\n",
       "            color:  #000000;\n",
       "        }    #T_160569bd_510e_11eb_a60a_00155df1df39row1_col6 {\n",
       "            background-color:  #88abfd;\n",
       "            color:  #000000;\n",
       "        }    #T_160569bd_510e_11eb_a60a_00155df1df39row1_col7 {\n",
       "            background-color:  #3c4ec2;\n",
       "            color:  #f1f1f1;\n",
       "        }    #T_160569bd_510e_11eb_a60a_00155df1df39row1_col8 {\n",
       "            background-color:  #86a9fc;\n",
       "            color:  #000000;\n",
       "        }    #T_160569bd_510e_11eb_a60a_00155df1df39row1_col9 {\n",
       "            background-color:  #f2cbb7;\n",
       "            color:  #000000;\n",
       "        }    #T_160569bd_510e_11eb_a60a_00155df1df39row1_col10 {\n",
       "            background-color:  #ebd3c6;\n",
       "            color:  #000000;\n",
       "        }    #T_160569bd_510e_11eb_a60a_00155df1df39row1_col11 {\n",
       "            background-color:  #000000;\n",
       "            color:  #f1f1f1;\n",
       "        }    #T_160569bd_510e_11eb_a60a_00155df1df39row1_col12 {\n",
       "            background-color:  #edd1c2;\n",
       "            color:  #000000;\n",
       "        }    #T_160569bd_510e_11eb_a60a_00155df1df39row1_col13 {\n",
       "            background-color:  #3b4cc0;\n",
       "            color:  #f1f1f1;\n",
       "        }    #T_160569bd_510e_11eb_a60a_00155df1df39row1_col14 {\n",
       "            background-color:  #3b4cc0;\n",
       "            color:  #f1f1f1;\n",
       "        }    #T_160569bd_510e_11eb_a60a_00155df1df39row1_col15 {\n",
       "            background-color:  #3b4cc0;\n",
       "            color:  #f1f1f1;\n",
       "        }    #T_160569bd_510e_11eb_a60a_00155df1df39row1_col16 {\n",
       "            background-color:  #3b4cc0;\n",
       "            color:  #f1f1f1;\n",
       "        }    #T_160569bd_510e_11eb_a60a_00155df1df39row1_col17 {\n",
       "            background-color:  #485fd1;\n",
       "            color:  #f1f1f1;\n",
       "        }    #T_160569bd_510e_11eb_a60a_00155df1df39row1_col18 {\n",
       "            background-color:  #6a8bef;\n",
       "            color:  #000000;\n",
       "        }    #T_160569bd_510e_11eb_a60a_00155df1df39row2_col0 {\n",
       "            background-color:  #4f69d9;\n",
       "            color:  #000000;\n",
       "        }    #T_160569bd_510e_11eb_a60a_00155df1df39row2_col1 {\n",
       "            background-color:  #b50927;\n",
       "            color:  #f1f1f1;\n",
       "        }    #T_160569bd_510e_11eb_a60a_00155df1df39row2_col2 {\n",
       "            background-color:  #b40426;\n",
       "            color:  #f1f1f1;\n",
       "        }    #T_160569bd_510e_11eb_a60a_00155df1df39row2_col3 {\n",
       "            background-color:  #ec7f63;\n",
       "            color:  #000000;\n",
       "        }    #T_160569bd_510e_11eb_a60a_00155df1df39row2_col4 {\n",
       "            background-color:  #d2dbe8;\n",
       "            color:  #000000;\n",
       "        }    #T_160569bd_510e_11eb_a60a_00155df1df39row2_col5 {\n",
       "            background-color:  #5673e0;\n",
       "            color:  #000000;\n",
       "        }    #T_160569bd_510e_11eb_a60a_00155df1df39row2_col6 {\n",
       "            background-color:  #85a8fc;\n",
       "            color:  #000000;\n",
       "        }    #T_160569bd_510e_11eb_a60a_00155df1df39row2_col7 {\n",
       "            background-color:  #3b4cc0;\n",
       "            color:  #f1f1f1;\n",
       "        }    #T_160569bd_510e_11eb_a60a_00155df1df39row2_col8 {\n",
       "            background-color:  #84a7fc;\n",
       "            color:  #000000;\n",
       "        }    #T_160569bd_510e_11eb_a60a_00155df1df39row2_col9 {\n",
       "            background-color:  #f0cdbb;\n",
       "            color:  #000000;\n",
       "        }    #T_160569bd_510e_11eb_a60a_00155df1df39row2_col10 {\n",
       "            background-color:  #e7d7ce;\n",
       "            color:  #000000;\n",
       "        }    #T_160569bd_510e_11eb_a60a_00155df1df39row2_col11 {\n",
       "            background-color:  #000000;\n",
       "            color:  #f1f1f1;\n",
       "        }    #T_160569bd_510e_11eb_a60a_00155df1df39row2_col12 {\n",
       "            background-color:  #ead5c9;\n",
       "            color:  #000000;\n",
       "        }    #T_160569bd_510e_11eb_a60a_00155df1df39row2_col13 {\n",
       "            background-color:  #3b4cc0;\n",
       "            color:  #f1f1f1;\n",
       "        }    #T_160569bd_510e_11eb_a60a_00155df1df39row2_col14 {\n",
       "            background-color:  #3b4cc0;\n",
       "            color:  #f1f1f1;\n",
       "        }    #T_160569bd_510e_11eb_a60a_00155df1df39row2_col15 {\n",
       "            background-color:  #3b4cc0;\n",
       "            color:  #f1f1f1;\n",
       "        }    #T_160569bd_510e_11eb_a60a_00155df1df39row2_col16 {\n",
       "            background-color:  #3b4cc0;\n",
       "            color:  #f1f1f1;\n",
       "        }    #T_160569bd_510e_11eb_a60a_00155df1df39row2_col17 {\n",
       "            background-color:  #4961d2;\n",
       "            color:  #f1f1f1;\n",
       "        }    #T_160569bd_510e_11eb_a60a_00155df1df39row2_col18 {\n",
       "            background-color:  #6a8bef;\n",
       "            color:  #000000;\n",
       "        }    #T_160569bd_510e_11eb_a60a_00155df1df39row3_col0 {\n",
       "            background-color:  #3d50c3;\n",
       "            color:  #f1f1f1;\n",
       "        }    #T_160569bd_510e_11eb_a60a_00155df1df39row3_col1 {\n",
       "            background-color:  #e97a5f;\n",
       "            color:  #000000;\n",
       "        }    #T_160569bd_510e_11eb_a60a_00155df1df39row3_col2 {\n",
       "            background-color:  #eb7d62;\n",
       "            color:  #000000;\n",
       "        }    #T_160569bd_510e_11eb_a60a_00155df1df39row3_col3 {\n",
       "            background-color:  #b40426;\n",
       "            color:  #f1f1f1;\n",
       "        }    #T_160569bd_510e_11eb_a60a_00155df1df39row3_col4 {\n",
       "            background-color:  #93b5fe;\n",
       "            color:  #000000;\n",
       "        }    #T_160569bd_510e_11eb_a60a_00155df1df39row3_col5 {\n",
       "            background-color:  #4e68d8;\n",
       "            color:  #000000;\n",
       "        }    #T_160569bd_510e_11eb_a60a_00155df1df39row3_col6 {\n",
       "            background-color:  #5a78e4;\n",
       "            color:  #000000;\n",
       "        }    #T_160569bd_510e_11eb_a60a_00155df1df39row3_col7 {\n",
       "            background-color:  #4055c8;\n",
       "            color:  #f1f1f1;\n",
       "        }    #T_160569bd_510e_11eb_a60a_00155df1df39row3_col8 {\n",
       "            background-color:  #5977e3;\n",
       "            color:  #000000;\n",
       "        }    #T_160569bd_510e_11eb_a60a_00155df1df39row3_col9 {\n",
       "            background-color:  #d1dae9;\n",
       "            color:  #000000;\n",
       "        }    #T_160569bd_510e_11eb_a60a_00155df1df39row3_col10 {\n",
       "            background-color:  #f3c7b1;\n",
       "            color:  #000000;\n",
       "        }    #T_160569bd_510e_11eb_a60a_00155df1df39row3_col11 {\n",
       "            background-color:  #000000;\n",
       "            color:  #f1f1f1;\n",
       "        }    #T_160569bd_510e_11eb_a60a_00155df1df39row3_col12 {\n",
       "            background-color:  #f3c7b1;\n",
       "            color:  #000000;\n",
       "        }    #T_160569bd_510e_11eb_a60a_00155df1df39row3_col13 {\n",
       "            background-color:  #3b4cc0;\n",
       "            color:  #f1f1f1;\n",
       "        }    #T_160569bd_510e_11eb_a60a_00155df1df39row3_col14 {\n",
       "            background-color:  #3b4cc0;\n",
       "            color:  #f1f1f1;\n",
       "        }    #T_160569bd_510e_11eb_a60a_00155df1df39row3_col15 {\n",
       "            background-color:  #3b4cc0;\n",
       "            color:  #f1f1f1;\n",
       "        }    #T_160569bd_510e_11eb_a60a_00155df1df39row3_col16 {\n",
       "            background-color:  #3b4cc0;\n",
       "            color:  #f1f1f1;\n",
       "        }    #T_160569bd_510e_11eb_a60a_00155df1df39row3_col17 {\n",
       "            background-color:  #4a63d3;\n",
       "            color:  #f1f1f1;\n",
       "        }    #T_160569bd_510e_11eb_a60a_00155df1df39row3_col18 {\n",
       "            background-color:  #7396f5;\n",
       "            color:  #000000;\n",
       "        }    #T_160569bd_510e_11eb_a60a_00155df1df39row4_col0 {\n",
       "            background-color:  #3b4cc0;\n",
       "            color:  #f1f1f1;\n",
       "        }    #T_160569bd_510e_11eb_a60a_00155df1df39row4_col1 {\n",
       "            background-color:  #cbd8ee;\n",
       "            color:  #000000;\n",
       "        }    #T_160569bd_510e_11eb_a60a_00155df1df39row4_col2 {\n",
       "            background-color:  #dadce0;\n",
       "            color:  #000000;\n",
       "        }    #T_160569bd_510e_11eb_a60a_00155df1df39row4_col3 {\n",
       "            background-color:  #9dbdff;\n",
       "            color:  #000000;\n",
       "        }    #T_160569bd_510e_11eb_a60a_00155df1df39row4_col4 {\n",
       "            background-color:  #b40426;\n",
       "            color:  #f1f1f1;\n",
       "        }    #T_160569bd_510e_11eb_a60a_00155df1df39row4_col5 {\n",
       "            background-color:  #89acfd;\n",
       "            color:  #000000;\n",
       "        }    #T_160569bd_510e_11eb_a60a_00155df1df39row4_col6 {\n",
       "            background-color:  #a9c6fd;\n",
       "            color:  #000000;\n",
       "        }    #T_160569bd_510e_11eb_a60a_00155df1df39row4_col7 {\n",
       "            background-color:  #536edd;\n",
       "            color:  #000000;\n",
       "        }    #T_160569bd_510e_11eb_a60a_00155df1df39row4_col8 {\n",
       "            background-color:  #a9c6fd;\n",
       "            color:  #000000;\n",
       "        }    #T_160569bd_510e_11eb_a60a_00155df1df39row4_col9 {\n",
       "            background-color:  #a6c4fe;\n",
       "            color:  #000000;\n",
       "        }    #T_160569bd_510e_11eb_a60a_00155df1df39row4_col10 {\n",
       "            background-color:  #85a8fc;\n",
       "            color:  #000000;\n",
       "        }    #T_160569bd_510e_11eb_a60a_00155df1df39row4_col11 {\n",
       "            background-color:  #000000;\n",
       "            color:  #f1f1f1;\n",
       "        }    #T_160569bd_510e_11eb_a60a_00155df1df39row4_col12 {\n",
       "            background-color:  #89acfd;\n",
       "            color:  #000000;\n",
       "        }    #T_160569bd_510e_11eb_a60a_00155df1df39row4_col13 {\n",
       "            background-color:  #3b4cc0;\n",
       "            color:  #f1f1f1;\n",
       "        }    #T_160569bd_510e_11eb_a60a_00155df1df39row4_col14 {\n",
       "            background-color:  #3b4cc0;\n",
       "            color:  #f1f1f1;\n",
       "        }    #T_160569bd_510e_11eb_a60a_00155df1df39row4_col15 {\n",
       "            background-color:  #3b4cc0;\n",
       "            color:  #f1f1f1;\n",
       "        }    #T_160569bd_510e_11eb_a60a_00155df1df39row4_col16 {\n",
       "            background-color:  #3b4cc0;\n",
       "            color:  #f1f1f1;\n",
       "        }    #T_160569bd_510e_11eb_a60a_00155df1df39row4_col17 {\n",
       "            background-color:  #4c66d6;\n",
       "            color:  #000000;\n",
       "        }    #T_160569bd_510e_11eb_a60a_00155df1df39row4_col18 {\n",
       "            background-color:  #5572df;\n",
       "            color:  #000000;\n",
       "        }    #T_160569bd_510e_11eb_a60a_00155df1df39row5_col0 {\n",
       "            background-color:  #f08a6c;\n",
       "            color:  #000000;\n",
       "        }    #T_160569bd_510e_11eb_a60a_00155df1df39row5_col1 {\n",
       "            background-color:  #6384eb;\n",
       "            color:  #000000;\n",
       "        }    #T_160569bd_510e_11eb_a60a_00155df1df39row5_col2 {\n",
       "            background-color:  #688aef;\n",
       "            color:  #000000;\n",
       "        }    #T_160569bd_510e_11eb_a60a_00155df1df39row5_col3 {\n",
       "            background-color:  #5a78e4;\n",
       "            color:  #000000;\n",
       "        }    #T_160569bd_510e_11eb_a60a_00155df1df39row5_col4 {\n",
       "            background-color:  #8badfd;\n",
       "            color:  #000000;\n",
       "        }    #T_160569bd_510e_11eb_a60a_00155df1df39row5_col5 {\n",
       "            background-color:  #b40426;\n",
       "            color:  #f1f1f1;\n",
       "        }    #T_160569bd_510e_11eb_a60a_00155df1df39row5_col6 {\n",
       "            background-color:  #e9785d;\n",
       "            color:  #000000;\n",
       "        }    #T_160569bd_510e_11eb_a60a_00155df1df39row5_col7 {\n",
       "            background-color:  #6e90f2;\n",
       "            color:  #000000;\n",
       "        }    #T_160569bd_510e_11eb_a60a_00155df1df39row5_col8 {\n",
       "            background-color:  #e8765c;\n",
       "            color:  #000000;\n",
       "        }    #T_160569bd_510e_11eb_a60a_00155df1df39row5_col9 {\n",
       "            background-color:  #edd2c3;\n",
       "            color:  #000000;\n",
       "        }    #T_160569bd_510e_11eb_a60a_00155df1df39row5_col10 {\n",
       "            background-color:  #d1dae9;\n",
       "            color:  #000000;\n",
       "        }    #T_160569bd_510e_11eb_a60a_00155df1df39row5_col11 {\n",
       "            background-color:  #000000;\n",
       "            color:  #f1f1f1;\n",
       "        }    #T_160569bd_510e_11eb_a60a_00155df1df39row5_col12 {\n",
       "            background-color:  #d6dce4;\n",
       "            color:  #000000;\n",
       "        }    #T_160569bd_510e_11eb_a60a_00155df1df39row5_col13 {\n",
       "            background-color:  #3b4cc0;\n",
       "            color:  #f1f1f1;\n",
       "        }    #T_160569bd_510e_11eb_a60a_00155df1df39row5_col14 {\n",
       "            background-color:  #3b4cc0;\n",
       "            color:  #f1f1f1;\n",
       "        }    #T_160569bd_510e_11eb_a60a_00155df1df39row5_col15 {\n",
       "            background-color:  #3b4cc0;\n",
       "            color:  #f1f1f1;\n",
       "        }    #T_160569bd_510e_11eb_a60a_00155df1df39row5_col16 {\n",
       "            background-color:  #3b4cc0;\n",
       "            color:  #f1f1f1;\n",
       "        }    #T_160569bd_510e_11eb_a60a_00155df1df39row5_col17 {\n",
       "            background-color:  #445acc;\n",
       "            color:  #f1f1f1;\n",
       "        }    #T_160569bd_510e_11eb_a60a_00155df1df39row5_col18 {\n",
       "            background-color:  #3f53c6;\n",
       "            color:  #f1f1f1;\n",
       "        }    #T_160569bd_510e_11eb_a60a_00155df1df39row6_col0 {\n",
       "            background-color:  #e0654f;\n",
       "            color:  #000000;\n",
       "        }    #T_160569bd_510e_11eb_a60a_00155df1df39row6_col1 {\n",
       "            background-color:  #96b7ff;\n",
       "            color:  #000000;\n",
       "        }    #T_160569bd_510e_11eb_a60a_00155df1df39row6_col2 {\n",
       "            background-color:  #94b6ff;\n",
       "            color:  #000000;\n",
       "        }    #T_160569bd_510e_11eb_a60a_00155df1df39row6_col3 {\n",
       "            background-color:  #6687ed;\n",
       "            color:  #000000;\n",
       "        }    #T_160569bd_510e_11eb_a60a_00155df1df39row6_col4 {\n",
       "            background-color:  #a9c6fd;\n",
       "            color:  #000000;\n",
       "        }    #T_160569bd_510e_11eb_a60a_00155df1df39row6_col5 {\n",
       "            background-color:  #e9785d;\n",
       "            color:  #000000;\n",
       "        }    #T_160569bd_510e_11eb_a60a_00155df1df39row6_col6 {\n",
       "            background-color:  #b40426;\n",
       "            color:  #f1f1f1;\n",
       "        }    #T_160569bd_510e_11eb_a60a_00155df1df39row6_col7 {\n",
       "            background-color:  #5b7ae5;\n",
       "            color:  #000000;\n",
       "        }    #T_160569bd_510e_11eb_a60a_00155df1df39row6_col8 {\n",
       "            background-color:  #b40426;\n",
       "            color:  #f1f1f1;\n",
       "        }    #T_160569bd_510e_11eb_a60a_00155df1df39row6_col9 {\n",
       "            background-color:  #f7b093;\n",
       "            color:  #000000;\n",
       "        }    #T_160569bd_510e_11eb_a60a_00155df1df39row6_col10 {\n",
       "            background-color:  #f6bfa6;\n",
       "            color:  #000000;\n",
       "        }    #T_160569bd_510e_11eb_a60a_00155df1df39row6_col11 {\n",
       "            background-color:  #000000;\n",
       "            color:  #f1f1f1;\n",
       "        }    #T_160569bd_510e_11eb_a60a_00155df1df39row6_col12 {\n",
       "            background-color:  #f7ba9f;\n",
       "            color:  #000000;\n",
       "        }    #T_160569bd_510e_11eb_a60a_00155df1df39row6_col13 {\n",
       "            background-color:  #3b4cc0;\n",
       "            color:  #f1f1f1;\n",
       "        }    #T_160569bd_510e_11eb_a60a_00155df1df39row6_col14 {\n",
       "            background-color:  #3b4cc0;\n",
       "            color:  #f1f1f1;\n",
       "        }    #T_160569bd_510e_11eb_a60a_00155df1df39row6_col15 {\n",
       "            background-color:  #3b4cc0;\n",
       "            color:  #f1f1f1;\n",
       "        }    #T_160569bd_510e_11eb_a60a_00155df1df39row6_col16 {\n",
       "            background-color:  #3b4cc0;\n",
       "            color:  #f1f1f1;\n",
       "        }    #T_160569bd_510e_11eb_a60a_00155df1df39row6_col17 {\n",
       "            background-color:  #4257c9;\n",
       "            color:  #f1f1f1;\n",
       "        }    #T_160569bd_510e_11eb_a60a_00155df1df39row6_col18 {\n",
       "            background-color:  #445acc;\n",
       "            color:  #f1f1f1;\n",
       "        }    #T_160569bd_510e_11eb_a60a_00155df1df39row7_col0 {\n",
       "            background-color:  #4b64d5;\n",
       "            color:  #f1f1f1;\n",
       "        }    #T_160569bd_510e_11eb_a60a_00155df1df39row7_col1 {\n",
       "            background-color:  #3b4cc0;\n",
       "            color:  #f1f1f1;\n",
       "        }    #T_160569bd_510e_11eb_a60a_00155df1df39row7_col2 {\n",
       "            background-color:  #3b4cc0;\n",
       "            color:  #f1f1f1;\n",
       "        }    #T_160569bd_510e_11eb_a60a_00155df1df39row7_col3 {\n",
       "            background-color:  #3b4cc0;\n",
       "            color:  #f1f1f1;\n",
       "        }    #T_160569bd_510e_11eb_a60a_00155df1df39row7_col4 {\n",
       "            background-color:  #4257c9;\n",
       "            color:  #f1f1f1;\n",
       "        }    #T_160569bd_510e_11eb_a60a_00155df1df39row7_col5 {\n",
       "            background-color:  #5b7ae5;\n",
       "            color:  #000000;\n",
       "        }    #T_160569bd_510e_11eb_a60a_00155df1df39row7_col6 {\n",
       "            background-color:  #4a63d3;\n",
       "            color:  #f1f1f1;\n",
       "        }    #T_160569bd_510e_11eb_a60a_00155df1df39row7_col7 {\n",
       "            background-color:  #b40426;\n",
       "            color:  #f1f1f1;\n",
       "        }    #T_160569bd_510e_11eb_a60a_00155df1df39row7_col8 {\n",
       "            background-color:  #4e68d8;\n",
       "            color:  #000000;\n",
       "        }    #T_160569bd_510e_11eb_a60a_00155df1df39row7_col9 {\n",
       "            background-color:  #3b4cc0;\n",
       "            color:  #f1f1f1;\n",
       "        }    #T_160569bd_510e_11eb_a60a_00155df1df39row7_col10 {\n",
       "            background-color:  #3b4cc0;\n",
       "            color:  #f1f1f1;\n",
       "        }    #T_160569bd_510e_11eb_a60a_00155df1df39row7_col11 {\n",
       "            background-color:  #000000;\n",
       "            color:  #f1f1f1;\n",
       "        }    #T_160569bd_510e_11eb_a60a_00155df1df39row7_col12 {\n",
       "            background-color:  #3b4cc0;\n",
       "            color:  #f1f1f1;\n",
       "        }    #T_160569bd_510e_11eb_a60a_00155df1df39row7_col13 {\n",
       "            background-color:  #3c4ec2;\n",
       "            color:  #f1f1f1;\n",
       "        }    #T_160569bd_510e_11eb_a60a_00155df1df39row7_col14 {\n",
       "            background-color:  #3b4cc0;\n",
       "            color:  #f1f1f1;\n",
       "        }    #T_160569bd_510e_11eb_a60a_00155df1df39row7_col15 {\n",
       "            background-color:  #3b4cc0;\n",
       "            color:  #f1f1f1;\n",
       "        }    #T_160569bd_510e_11eb_a60a_00155df1df39row7_col16 {\n",
       "            background-color:  #3b4cc0;\n",
       "            color:  #f1f1f1;\n",
       "        }    #T_160569bd_510e_11eb_a60a_00155df1df39row7_col17 {\n",
       "            background-color:  #3b4cc0;\n",
       "            color:  #f1f1f1;\n",
       "        }    #T_160569bd_510e_11eb_a60a_00155df1df39row7_col18 {\n",
       "            background-color:  #3b4cc0;\n",
       "            color:  #f1f1f1;\n",
       "        }    #T_160569bd_510e_11eb_a60a_00155df1df39row8_col0 {\n",
       "            background-color:  #e0654f;\n",
       "            color:  #000000;\n",
       "        }    #T_160569bd_510e_11eb_a60a_00155df1df39row8_col1 {\n",
       "            background-color:  #96b7ff;\n",
       "            color:  #000000;\n",
       "        }    #T_160569bd_510e_11eb_a60a_00155df1df39row8_col2 {\n",
       "            background-color:  #94b6ff;\n",
       "            color:  #000000;\n",
       "        }    #T_160569bd_510e_11eb_a60a_00155df1df39row8_col3 {\n",
       "            background-color:  #6485ec;\n",
       "            color:  #000000;\n",
       "        }    #T_160569bd_510e_11eb_a60a_00155df1df39row8_col4 {\n",
       "            background-color:  #a9c6fd;\n",
       "            color:  #000000;\n",
       "        }    #T_160569bd_510e_11eb_a60a_00155df1df39row8_col5 {\n",
       "            background-color:  #e8765c;\n",
       "            color:  #000000;\n",
       "        }    #T_160569bd_510e_11eb_a60a_00155df1df39row8_col6 {\n",
       "            background-color:  #b40426;\n",
       "            color:  #f1f1f1;\n",
       "        }    #T_160569bd_510e_11eb_a60a_00155df1df39row8_col7 {\n",
       "            background-color:  #6180e9;\n",
       "            color:  #000000;\n",
       "        }    #T_160569bd_510e_11eb_a60a_00155df1df39row8_col8 {\n",
       "            background-color:  #b40426;\n",
       "            color:  #f1f1f1;\n",
       "        }    #T_160569bd_510e_11eb_a60a_00155df1df39row8_col9 {\n",
       "            background-color:  #f7b093;\n",
       "            color:  #000000;\n",
       "        }    #T_160569bd_510e_11eb_a60a_00155df1df39row8_col10 {\n",
       "            background-color:  #f6bfa6;\n",
       "            color:  #000000;\n",
       "        }    #T_160569bd_510e_11eb_a60a_00155df1df39row8_col11 {\n",
       "            background-color:  #000000;\n",
       "            color:  #f1f1f1;\n",
       "        }    #T_160569bd_510e_11eb_a60a_00155df1df39row8_col12 {\n",
       "            background-color:  #f7ba9f;\n",
       "            color:  #000000;\n",
       "        }    #T_160569bd_510e_11eb_a60a_00155df1df39row8_col13 {\n",
       "            background-color:  #3b4cc0;\n",
       "            color:  #f1f1f1;\n",
       "        }    #T_160569bd_510e_11eb_a60a_00155df1df39row8_col14 {\n",
       "            background-color:  #3b4cc0;\n",
       "            color:  #f1f1f1;\n",
       "        }    #T_160569bd_510e_11eb_a60a_00155df1df39row8_col15 {\n",
       "            background-color:  #3b4cc0;\n",
       "            color:  #f1f1f1;\n",
       "        }    #T_160569bd_510e_11eb_a60a_00155df1df39row8_col16 {\n",
       "            background-color:  #3b4cc0;\n",
       "            color:  #f1f1f1;\n",
       "        }    #T_160569bd_510e_11eb_a60a_00155df1df39row8_col17 {\n",
       "            background-color:  #4257c9;\n",
       "            color:  #f1f1f1;\n",
       "        }    #T_160569bd_510e_11eb_a60a_00155df1df39row8_col18 {\n",
       "            background-color:  #445acc;\n",
       "            color:  #f1f1f1;\n",
       "        }    #T_160569bd_510e_11eb_a60a_00155df1df39row9_col0 {\n",
       "            background-color:  #d5dbe5;\n",
       "            color:  #000000;\n",
       "        }    #T_160569bd_510e_11eb_a60a_00155df1df39row9_col1 {\n",
       "            background-color:  #f3c8b2;\n",
       "            color:  #000000;\n",
       "        }    #T_160569bd_510e_11eb_a60a_00155df1df39row9_col2 {\n",
       "            background-color:  #f2cbb7;\n",
       "            color:  #000000;\n",
       "        }    #T_160569bd_510e_11eb_a60a_00155df1df39row9_col3 {\n",
       "            background-color:  #d2dbe8;\n",
       "            color:  #000000;\n",
       "        }    #T_160569bd_510e_11eb_a60a_00155df1df39row9_col4 {\n",
       "            background-color:  #a1c0ff;\n",
       "            color:  #000000;\n",
       "        }    #T_160569bd_510e_11eb_a60a_00155df1df39row9_col5 {\n",
       "            background-color:  #ead5c9;\n",
       "            color:  #000000;\n",
       "        }    #T_160569bd_510e_11eb_a60a_00155df1df39row9_col6 {\n",
       "            background-color:  #f7b396;\n",
       "            color:  #000000;\n",
       "        }    #T_160569bd_510e_11eb_a60a_00155df1df39row9_col7 {\n",
       "            background-color:  #445acc;\n",
       "            color:  #f1f1f1;\n",
       "        }    #T_160569bd_510e_11eb_a60a_00155df1df39row9_col8 {\n",
       "            background-color:  #f7b396;\n",
       "            color:  #000000;\n",
       "        }    #T_160569bd_510e_11eb_a60a_00155df1df39row9_col9 {\n",
       "            background-color:  #b40426;\n",
       "            color:  #f1f1f1;\n",
       "        }    #T_160569bd_510e_11eb_a60a_00155df1df39row9_col10 {\n",
       "            background-color:  #f59d7e;\n",
       "            color:  #000000;\n",
       "        }    #T_160569bd_510e_11eb_a60a_00155df1df39row9_col11 {\n",
       "            background-color:  #000000;\n",
       "            color:  #f1f1f1;\n",
       "        }    #T_160569bd_510e_11eb_a60a_00155df1df39row9_col12 {\n",
       "            background-color:  #f18f71;\n",
       "            color:  #000000;\n",
       "        }    #T_160569bd_510e_11eb_a60a_00155df1df39row9_col13 {\n",
       "            background-color:  #3b4cc0;\n",
       "            color:  #f1f1f1;\n",
       "        }    #T_160569bd_510e_11eb_a60a_00155df1df39row9_col14 {\n",
       "            background-color:  #3b4cc0;\n",
       "            color:  #f1f1f1;\n",
       "        }    #T_160569bd_510e_11eb_a60a_00155df1df39row9_col15 {\n",
       "            background-color:  #3b4cc0;\n",
       "            color:  #f1f1f1;\n",
       "        }    #T_160569bd_510e_11eb_a60a_00155df1df39row9_col16 {\n",
       "            background-color:  #3b4cc0;\n",
       "            color:  #f1f1f1;\n",
       "        }    #T_160569bd_510e_11eb_a60a_00155df1df39row9_col17 {\n",
       "            background-color:  #465ecf;\n",
       "            color:  #f1f1f1;\n",
       "        }    #T_160569bd_510e_11eb_a60a_00155df1df39row9_col18 {\n",
       "            background-color:  #506bda;\n",
       "            color:  #000000;\n",
       "        }    #T_160569bd_510e_11eb_a60a_00155df1df39row10_col0 {\n",
       "            background-color:  #cfdaea;\n",
       "            color:  #000000;\n",
       "        }    #T_160569bd_510e_11eb_a60a_00155df1df39row10_col1 {\n",
       "            background-color:  #eed0c0;\n",
       "            color:  #000000;\n",
       "        }    #T_160569bd_510e_11eb_a60a_00155df1df39row10_col2 {\n",
       "            background-color:  #ead4c8;\n",
       "            color:  #000000;\n",
       "        }    #T_160569bd_510e_11eb_a60a_00155df1df39row10_col3 {\n",
       "            background-color:  #f4c6af;\n",
       "            color:  #000000;\n",
       "        }    #T_160569bd_510e_11eb_a60a_00155df1df39row10_col4 {\n",
       "            background-color:  #80a3fa;\n",
       "            color:  #000000;\n",
       "        }    #T_160569bd_510e_11eb_a60a_00155df1df39row10_col5 {\n",
       "            background-color:  #cdd9ec;\n",
       "            color:  #000000;\n",
       "        }    #T_160569bd_510e_11eb_a60a_00155df1df39row10_col6 {\n",
       "            background-color:  #f5c1a9;\n",
       "            color:  #000000;\n",
       "        }    #T_160569bd_510e_11eb_a60a_00155df1df39row10_col7 {\n",
       "            background-color:  #455cce;\n",
       "            color:  #f1f1f1;\n",
       "        }    #T_160569bd_510e_11eb_a60a_00155df1df39row10_col8 {\n",
       "            background-color:  #f5c1a9;\n",
       "            color:  #000000;\n",
       "        }    #T_160569bd_510e_11eb_a60a_00155df1df39row10_col9 {\n",
       "            background-color:  #f59c7d;\n",
       "            color:  #000000;\n",
       "        }    #T_160569bd_510e_11eb_a60a_00155df1df39row10_col10 {\n",
       "            background-color:  #b40426;\n",
       "            color:  #f1f1f1;\n",
       "        }    #T_160569bd_510e_11eb_a60a_00155df1df39row10_col11 {\n",
       "            background-color:  #000000;\n",
       "            color:  #f1f1f1;\n",
       "        }    #T_160569bd_510e_11eb_a60a_00155df1df39row10_col12 {\n",
       "            background-color:  #b40426;\n",
       "            color:  #f1f1f1;\n",
       "        }    #T_160569bd_510e_11eb_a60a_00155df1df39row10_col13 {\n",
       "            background-color:  #3b4cc0;\n",
       "            color:  #f1f1f1;\n",
       "        }    #T_160569bd_510e_11eb_a60a_00155df1df39row10_col14 {\n",
       "            background-color:  #3b4cc0;\n",
       "            color:  #f1f1f1;\n",
       "        }    #T_160569bd_510e_11eb_a60a_00155df1df39row10_col15 {\n",
       "            background-color:  #3b4cc0;\n",
       "            color:  #f1f1f1;\n",
       "        }    #T_160569bd_510e_11eb_a60a_00155df1df39row10_col16 {\n",
       "            background-color:  #3b4cc0;\n",
       "            color:  #f1f1f1;\n",
       "        }    #T_160569bd_510e_11eb_a60a_00155df1df39row10_col17 {\n",
       "            background-color:  #455cce;\n",
       "            color:  #f1f1f1;\n",
       "        }    #T_160569bd_510e_11eb_a60a_00155df1df39row10_col18 {\n",
       "            background-color:  #5b7ae5;\n",
       "            color:  #000000;\n",
       "        }    #T_160569bd_510e_11eb_a60a_00155df1df39row11_col0 {\n",
       "            background-color:  #000000;\n",
       "            color:  #f1f1f1;\n",
       "        }    #T_160569bd_510e_11eb_a60a_00155df1df39row11_col1 {\n",
       "            background-color:  #000000;\n",
       "            color:  #f1f1f1;\n",
       "        }    #T_160569bd_510e_11eb_a60a_00155df1df39row11_col2 {\n",
       "            background-color:  #000000;\n",
       "            color:  #f1f1f1;\n",
       "        }    #T_160569bd_510e_11eb_a60a_00155df1df39row11_col3 {\n",
       "            background-color:  #000000;\n",
       "            color:  #f1f1f1;\n",
       "        }    #T_160569bd_510e_11eb_a60a_00155df1df39row11_col4 {\n",
       "            background-color:  #000000;\n",
       "            color:  #f1f1f1;\n",
       "        }    #T_160569bd_510e_11eb_a60a_00155df1df39row11_col5 {\n",
       "            background-color:  #000000;\n",
       "            color:  #f1f1f1;\n",
       "        }    #T_160569bd_510e_11eb_a60a_00155df1df39row11_col6 {\n",
       "            background-color:  #000000;\n",
       "            color:  #f1f1f1;\n",
       "        }    #T_160569bd_510e_11eb_a60a_00155df1df39row11_col7 {\n",
       "            background-color:  #000000;\n",
       "            color:  #f1f1f1;\n",
       "        }    #T_160569bd_510e_11eb_a60a_00155df1df39row11_col8 {\n",
       "            background-color:  #000000;\n",
       "            color:  #f1f1f1;\n",
       "        }    #T_160569bd_510e_11eb_a60a_00155df1df39row11_col9 {\n",
       "            background-color:  #000000;\n",
       "            color:  #f1f1f1;\n",
       "        }    #T_160569bd_510e_11eb_a60a_00155df1df39row11_col10 {\n",
       "            background-color:  #000000;\n",
       "            color:  #f1f1f1;\n",
       "        }    #T_160569bd_510e_11eb_a60a_00155df1df39row11_col11 {\n",
       "            background-color:  #000000;\n",
       "            color:  #f1f1f1;\n",
       "        }    #T_160569bd_510e_11eb_a60a_00155df1df39row11_col12 {\n",
       "            background-color:  #000000;\n",
       "            color:  #f1f1f1;\n",
       "        }    #T_160569bd_510e_11eb_a60a_00155df1df39row11_col13 {\n",
       "            background-color:  #000000;\n",
       "            color:  #f1f1f1;\n",
       "        }    #T_160569bd_510e_11eb_a60a_00155df1df39row11_col14 {\n",
       "            background-color:  #000000;\n",
       "            color:  #f1f1f1;\n",
       "        }    #T_160569bd_510e_11eb_a60a_00155df1df39row11_col15 {\n",
       "            background-color:  #000000;\n",
       "            color:  #f1f1f1;\n",
       "        }    #T_160569bd_510e_11eb_a60a_00155df1df39row11_col16 {\n",
       "            background-color:  #000000;\n",
       "            color:  #f1f1f1;\n",
       "        }    #T_160569bd_510e_11eb_a60a_00155df1df39row11_col17 {\n",
       "            background-color:  #000000;\n",
       "            color:  #f1f1f1;\n",
       "        }    #T_160569bd_510e_11eb_a60a_00155df1df39row11_col18 {\n",
       "            background-color:  #000000;\n",
       "            color:  #f1f1f1;\n",
       "        }    #T_160569bd_510e_11eb_a60a_00155df1df39row12_col0 {\n",
       "            background-color:  #d3dbe7;\n",
       "            color:  #000000;\n",
       "        }    #T_160569bd_510e_11eb_a60a_00155df1df39row12_col1 {\n",
       "            background-color:  #f0cdbb;\n",
       "            color:  #000000;\n",
       "        }    #T_160569bd_510e_11eb_a60a_00155df1df39row12_col2 {\n",
       "            background-color:  #edd2c3;\n",
       "            color:  #000000;\n",
       "        }    #T_160569bd_510e_11eb_a60a_00155df1df39row12_col3 {\n",
       "            background-color:  #f4c6af;\n",
       "            color:  #000000;\n",
       "        }    #T_160569bd_510e_11eb_a60a_00155df1df39row12_col4 {\n",
       "            background-color:  #84a7fc;\n",
       "            color:  #000000;\n",
       "        }    #T_160569bd_510e_11eb_a60a_00155df1df39row12_col5 {\n",
       "            background-color:  #d2dbe8;\n",
       "            color:  #000000;\n",
       "        }    #T_160569bd_510e_11eb_a60a_00155df1df39row12_col6 {\n",
       "            background-color:  #f6bda2;\n",
       "            color:  #000000;\n",
       "        }    #T_160569bd_510e_11eb_a60a_00155df1df39row12_col7 {\n",
       "            background-color:  #455cce;\n",
       "            color:  #f1f1f1;\n",
       "        }    #T_160569bd_510e_11eb_a60a_00155df1df39row12_col8 {\n",
       "            background-color:  #f6bda2;\n",
       "            color:  #000000;\n",
       "        }    #T_160569bd_510e_11eb_a60a_00155df1df39row12_col9 {\n",
       "            background-color:  #f18f71;\n",
       "            color:  #000000;\n",
       "        }    #T_160569bd_510e_11eb_a60a_00155df1df39row12_col10 {\n",
       "            background-color:  #b40426;\n",
       "            color:  #f1f1f1;\n",
       "        }    #T_160569bd_510e_11eb_a60a_00155df1df39row12_col11 {\n",
       "            background-color:  #000000;\n",
       "            color:  #f1f1f1;\n",
       "        }    #T_160569bd_510e_11eb_a60a_00155df1df39row12_col12 {\n",
       "            background-color:  #b40426;\n",
       "            color:  #f1f1f1;\n",
       "        }    #T_160569bd_510e_11eb_a60a_00155df1df39row12_col13 {\n",
       "            background-color:  #3b4cc0;\n",
       "            color:  #f1f1f1;\n",
       "        }    #T_160569bd_510e_11eb_a60a_00155df1df39row12_col14 {\n",
       "            background-color:  #3b4cc0;\n",
       "            color:  #f1f1f1;\n",
       "        }    #T_160569bd_510e_11eb_a60a_00155df1df39row12_col15 {\n",
       "            background-color:  #3b4cc0;\n",
       "            color:  #f1f1f1;\n",
       "        }    #T_160569bd_510e_11eb_a60a_00155df1df39row12_col16 {\n",
       "            background-color:  #3b4cc0;\n",
       "            color:  #f1f1f1;\n",
       "        }    #T_160569bd_510e_11eb_a60a_00155df1df39row12_col17 {\n",
       "            background-color:  #455cce;\n",
       "            color:  #f1f1f1;\n",
       "        }    #T_160569bd_510e_11eb_a60a_00155df1df39row12_col18 {\n",
       "            background-color:  #5b7ae5;\n",
       "            color:  #000000;\n",
       "        }    #T_160569bd_510e_11eb_a60a_00155df1df39row13_col0 {\n",
       "            background-color:  #3c4ec2;\n",
       "            color:  #f1f1f1;\n",
       "        }    #T_160569bd_510e_11eb_a60a_00155df1df39row13_col1 {\n",
       "            background-color:  #4b64d5;\n",
       "            color:  #f1f1f1;\n",
       "        }    #T_160569bd_510e_11eb_a60a_00155df1df39row13_col2 {\n",
       "            background-color:  #4c66d6;\n",
       "            color:  #000000;\n",
       "        }    #T_160569bd_510e_11eb_a60a_00155df1df39row13_col3 {\n",
       "            background-color:  #465ecf;\n",
       "            color:  #f1f1f1;\n",
       "        }    #T_160569bd_510e_11eb_a60a_00155df1df39row13_col4 {\n",
       "            background-color:  #3c4ec2;\n",
       "            color:  #f1f1f1;\n",
       "        }    #T_160569bd_510e_11eb_a60a_00155df1df39row13_col5 {\n",
       "            background-color:  #3b4cc0;\n",
       "            color:  #f1f1f1;\n",
       "        }    #T_160569bd_510e_11eb_a60a_00155df1df39row13_col6 {\n",
       "            background-color:  #3b4cc0;\n",
       "            color:  #f1f1f1;\n",
       "        }    #T_160569bd_510e_11eb_a60a_00155df1df39row13_col7 {\n",
       "            background-color:  #4e68d8;\n",
       "            color:  #000000;\n",
       "        }    #T_160569bd_510e_11eb_a60a_00155df1df39row13_col8 {\n",
       "            background-color:  #3b4cc0;\n",
       "            color:  #f1f1f1;\n",
       "        }    #T_160569bd_510e_11eb_a60a_00155df1df39row13_col9 {\n",
       "            background-color:  #4257c9;\n",
       "            color:  #f1f1f1;\n",
       "        }    #T_160569bd_510e_11eb_a60a_00155df1df39row13_col10 {\n",
       "            background-color:  #4055c8;\n",
       "            color:  #f1f1f1;\n",
       "        }    #T_160569bd_510e_11eb_a60a_00155df1df39row13_col11 {\n",
       "            background-color:  #000000;\n",
       "            color:  #f1f1f1;\n",
       "        }    #T_160569bd_510e_11eb_a60a_00155df1df39row13_col12 {\n",
       "            background-color:  #4055c8;\n",
       "            color:  #f1f1f1;\n",
       "        }    #T_160569bd_510e_11eb_a60a_00155df1df39row13_col13 {\n",
       "            background-color:  #b40426;\n",
       "            color:  #f1f1f1;\n",
       "        }    #T_160569bd_510e_11eb_a60a_00155df1df39row13_col14 {\n",
       "            background-color:  #3b4cc0;\n",
       "            color:  #f1f1f1;\n",
       "        }    #T_160569bd_510e_11eb_a60a_00155df1df39row13_col15 {\n",
       "            background-color:  #3b4cc0;\n",
       "            color:  #f1f1f1;\n",
       "        }    #T_160569bd_510e_11eb_a60a_00155df1df39row13_col16 {\n",
       "            background-color:  #3b4cc0;\n",
       "            color:  #f1f1f1;\n",
       "        }    #T_160569bd_510e_11eb_a60a_00155df1df39row13_col17 {\n",
       "            background-color:  #3b4cc0;\n",
       "            color:  #f1f1f1;\n",
       "        }    #T_160569bd_510e_11eb_a60a_00155df1df39row13_col18 {\n",
       "            background-color:  #6b8df0;\n",
       "            color:  #000000;\n",
       "        }    #T_160569bd_510e_11eb_a60a_00155df1df39row14_col0 {\n",
       "            background-color:  #3c4ec2;\n",
       "            color:  #f1f1f1;\n",
       "        }    #T_160569bd_510e_11eb_a60a_00155df1df39row14_col1 {\n",
       "            background-color:  #4b64d5;\n",
       "            color:  #f1f1f1;\n",
       "        }    #T_160569bd_510e_11eb_a60a_00155df1df39row14_col2 {\n",
       "            background-color:  #4c66d6;\n",
       "            color:  #000000;\n",
       "        }    #T_160569bd_510e_11eb_a60a_00155df1df39row14_col3 {\n",
       "            background-color:  #465ecf;\n",
       "            color:  #f1f1f1;\n",
       "        }    #T_160569bd_510e_11eb_a60a_00155df1df39row14_col4 {\n",
       "            background-color:  #3c4ec2;\n",
       "            color:  #f1f1f1;\n",
       "        }    #T_160569bd_510e_11eb_a60a_00155df1df39row14_col5 {\n",
       "            background-color:  #3b4cc0;\n",
       "            color:  #f1f1f1;\n",
       "        }    #T_160569bd_510e_11eb_a60a_00155df1df39row14_col6 {\n",
       "            background-color:  #3b4cc0;\n",
       "            color:  #f1f1f1;\n",
       "        }    #T_160569bd_510e_11eb_a60a_00155df1df39row14_col7 {\n",
       "            background-color:  #4c66d6;\n",
       "            color:  #000000;\n",
       "        }    #T_160569bd_510e_11eb_a60a_00155df1df39row14_col8 {\n",
       "            background-color:  #3b4cc0;\n",
       "            color:  #f1f1f1;\n",
       "        }    #T_160569bd_510e_11eb_a60a_00155df1df39row14_col9 {\n",
       "            background-color:  #4358cb;\n",
       "            color:  #f1f1f1;\n",
       "        }    #T_160569bd_510e_11eb_a60a_00155df1df39row14_col10 {\n",
       "            background-color:  #4257c9;\n",
       "            color:  #f1f1f1;\n",
       "        }    #T_160569bd_510e_11eb_a60a_00155df1df39row14_col11 {\n",
       "            background-color:  #000000;\n",
       "            color:  #f1f1f1;\n",
       "        }    #T_160569bd_510e_11eb_a60a_00155df1df39row14_col12 {\n",
       "            background-color:  #4257c9;\n",
       "            color:  #f1f1f1;\n",
       "        }    #T_160569bd_510e_11eb_a60a_00155df1df39row14_col13 {\n",
       "            background-color:  #3c4ec2;\n",
       "            color:  #f1f1f1;\n",
       "        }    #T_160569bd_510e_11eb_a60a_00155df1df39row14_col14 {\n",
       "            background-color:  #b40426;\n",
       "            color:  #f1f1f1;\n",
       "        }    #T_160569bd_510e_11eb_a60a_00155df1df39row14_col15 {\n",
       "            background-color:  #3b4cc0;\n",
       "            color:  #f1f1f1;\n",
       "        }    #T_160569bd_510e_11eb_a60a_00155df1df39row14_col16 {\n",
       "            background-color:  #3b4cc0;\n",
       "            color:  #f1f1f1;\n",
       "        }    #T_160569bd_510e_11eb_a60a_00155df1df39row14_col17 {\n",
       "            background-color:  #3b4cc0;\n",
       "            color:  #f1f1f1;\n",
       "        }    #T_160569bd_510e_11eb_a60a_00155df1df39row14_col18 {\n",
       "            background-color:  #5a78e4;\n",
       "            color:  #000000;\n",
       "        }    #T_160569bd_510e_11eb_a60a_00155df1df39row15_col0 {\n",
       "            background-color:  #3c4ec2;\n",
       "            color:  #f1f1f1;\n",
       "        }    #T_160569bd_510e_11eb_a60a_00155df1df39row15_col1 {\n",
       "            background-color:  #4b64d5;\n",
       "            color:  #f1f1f1;\n",
       "        }    #T_160569bd_510e_11eb_a60a_00155df1df39row15_col2 {\n",
       "            background-color:  #4c66d6;\n",
       "            color:  #000000;\n",
       "        }    #T_160569bd_510e_11eb_a60a_00155df1df39row15_col3 {\n",
       "            background-color:  #465ecf;\n",
       "            color:  #f1f1f1;\n",
       "        }    #T_160569bd_510e_11eb_a60a_00155df1df39row15_col4 {\n",
       "            background-color:  #3c4ec2;\n",
       "            color:  #f1f1f1;\n",
       "        }    #T_160569bd_510e_11eb_a60a_00155df1df39row15_col5 {\n",
       "            background-color:  #3b4cc0;\n",
       "            color:  #f1f1f1;\n",
       "        }    #T_160569bd_510e_11eb_a60a_00155df1df39row15_col6 {\n",
       "            background-color:  #3b4cc0;\n",
       "            color:  #f1f1f1;\n",
       "        }    #T_160569bd_510e_11eb_a60a_00155df1df39row15_col7 {\n",
       "            background-color:  #4c66d6;\n",
       "            color:  #000000;\n",
       "        }    #T_160569bd_510e_11eb_a60a_00155df1df39row15_col8 {\n",
       "            background-color:  #3b4cc0;\n",
       "            color:  #f1f1f1;\n",
       "        }    #T_160569bd_510e_11eb_a60a_00155df1df39row15_col9 {\n",
       "            background-color:  #4358cb;\n",
       "            color:  #f1f1f1;\n",
       "        }    #T_160569bd_510e_11eb_a60a_00155df1df39row15_col10 {\n",
       "            background-color:  #4257c9;\n",
       "            color:  #f1f1f1;\n",
       "        }    #T_160569bd_510e_11eb_a60a_00155df1df39row15_col11 {\n",
       "            background-color:  #000000;\n",
       "            color:  #f1f1f1;\n",
       "        }    #T_160569bd_510e_11eb_a60a_00155df1df39row15_col12 {\n",
       "            background-color:  #4257c9;\n",
       "            color:  #f1f1f1;\n",
       "        }    #T_160569bd_510e_11eb_a60a_00155df1df39row15_col13 {\n",
       "            background-color:  #3c4ec2;\n",
       "            color:  #f1f1f1;\n",
       "        }    #T_160569bd_510e_11eb_a60a_00155df1df39row15_col14 {\n",
       "            background-color:  #3b4cc0;\n",
       "            color:  #f1f1f1;\n",
       "        }    #T_160569bd_510e_11eb_a60a_00155df1df39row15_col15 {\n",
       "            background-color:  #b40426;\n",
       "            color:  #f1f1f1;\n",
       "        }    #T_160569bd_510e_11eb_a60a_00155df1df39row15_col16 {\n",
       "            background-color:  #b50927;\n",
       "            color:  #f1f1f1;\n",
       "        }    #T_160569bd_510e_11eb_a60a_00155df1df39row15_col17 {\n",
       "            background-color:  #bcd2f7;\n",
       "            color:  #000000;\n",
       "        }    #T_160569bd_510e_11eb_a60a_00155df1df39row15_col18 {\n",
       "            background-color:  #e1dad6;\n",
       "            color:  #000000;\n",
       "        }    #T_160569bd_510e_11eb_a60a_00155df1df39row16_col0 {\n",
       "            background-color:  #3c4ec2;\n",
       "            color:  #f1f1f1;\n",
       "        }    #T_160569bd_510e_11eb_a60a_00155df1df39row16_col1 {\n",
       "            background-color:  #4b64d5;\n",
       "            color:  #f1f1f1;\n",
       "        }    #T_160569bd_510e_11eb_a60a_00155df1df39row16_col2 {\n",
       "            background-color:  #4c66d6;\n",
       "            color:  #000000;\n",
       "        }    #T_160569bd_510e_11eb_a60a_00155df1df39row16_col3 {\n",
       "            background-color:  #465ecf;\n",
       "            color:  #f1f1f1;\n",
       "        }    #T_160569bd_510e_11eb_a60a_00155df1df39row16_col4 {\n",
       "            background-color:  #3c4ec2;\n",
       "            color:  #f1f1f1;\n",
       "        }    #T_160569bd_510e_11eb_a60a_00155df1df39row16_col5 {\n",
       "            background-color:  #3b4cc0;\n",
       "            color:  #f1f1f1;\n",
       "        }    #T_160569bd_510e_11eb_a60a_00155df1df39row16_col6 {\n",
       "            background-color:  #3b4cc0;\n",
       "            color:  #f1f1f1;\n",
       "        }    #T_160569bd_510e_11eb_a60a_00155df1df39row16_col7 {\n",
       "            background-color:  #4c66d6;\n",
       "            color:  #000000;\n",
       "        }    #T_160569bd_510e_11eb_a60a_00155df1df39row16_col8 {\n",
       "            background-color:  #3b4cc0;\n",
       "            color:  #f1f1f1;\n",
       "        }    #T_160569bd_510e_11eb_a60a_00155df1df39row16_col9 {\n",
       "            background-color:  #4358cb;\n",
       "            color:  #f1f1f1;\n",
       "        }    #T_160569bd_510e_11eb_a60a_00155df1df39row16_col10 {\n",
       "            background-color:  #4257c9;\n",
       "            color:  #f1f1f1;\n",
       "        }    #T_160569bd_510e_11eb_a60a_00155df1df39row16_col11 {\n",
       "            background-color:  #000000;\n",
       "            color:  #f1f1f1;\n",
       "        }    #T_160569bd_510e_11eb_a60a_00155df1df39row16_col12 {\n",
       "            background-color:  #4257c9;\n",
       "            color:  #f1f1f1;\n",
       "        }    #T_160569bd_510e_11eb_a60a_00155df1df39row16_col13 {\n",
       "            background-color:  #3c4ec2;\n",
       "            color:  #f1f1f1;\n",
       "        }    #T_160569bd_510e_11eb_a60a_00155df1df39row16_col14 {\n",
       "            background-color:  #3b4cc0;\n",
       "            color:  #f1f1f1;\n",
       "        }    #T_160569bd_510e_11eb_a60a_00155df1df39row16_col15 {\n",
       "            background-color:  #b50927;\n",
       "            color:  #f1f1f1;\n",
       "        }    #T_160569bd_510e_11eb_a60a_00155df1df39row16_col16 {\n",
       "            background-color:  #b40426;\n",
       "            color:  #f1f1f1;\n",
       "        }    #T_160569bd_510e_11eb_a60a_00155df1df39row16_col17 {\n",
       "            background-color:  #bad0f8;\n",
       "            color:  #000000;\n",
       "        }    #T_160569bd_510e_11eb_a60a_00155df1df39row16_col18 {\n",
       "            background-color:  #e0dbd8;\n",
       "            color:  #000000;\n",
       "        }    #T_160569bd_510e_11eb_a60a_00155df1df39row17_col0 {\n",
       "            background-color:  #3d50c3;\n",
       "            color:  #f1f1f1;\n",
       "        }    #T_160569bd_510e_11eb_a60a_00155df1df39row17_col1 {\n",
       "            background-color:  #5977e3;\n",
       "            color:  #000000;\n",
       "        }    #T_160569bd_510e_11eb_a60a_00155df1df39row17_col2 {\n",
       "            background-color:  #5d7ce6;\n",
       "            color:  #000000;\n",
       "        }    #T_160569bd_510e_11eb_a60a_00155df1df39row17_col3 {\n",
       "            background-color:  #5875e1;\n",
       "            color:  #000000;\n",
       "        }    #T_160569bd_510e_11eb_a60a_00155df1df39row17_col4 {\n",
       "            background-color:  #4f69d9;\n",
       "            color:  #000000;\n",
       "        }    #T_160569bd_510e_11eb_a60a_00155df1df39row17_col5 {\n",
       "            background-color:  #445acc;\n",
       "            color:  #f1f1f1;\n",
       "        }    #T_160569bd_510e_11eb_a60a_00155df1df39row17_col6 {\n",
       "            background-color:  #4358cb;\n",
       "            color:  #f1f1f1;\n",
       "        }    #T_160569bd_510e_11eb_a60a_00155df1df39row17_col7 {\n",
       "            background-color:  #4e68d8;\n",
       "            color:  #000000;\n",
       "        }    #T_160569bd_510e_11eb_a60a_00155df1df39row17_col8 {\n",
       "            background-color:  #4358cb;\n",
       "            color:  #f1f1f1;\n",
       "        }    #T_160569bd_510e_11eb_a60a_00155df1df39row17_col9 {\n",
       "            background-color:  #4f69d9;\n",
       "            color:  #000000;\n",
       "        }    #T_160569bd_510e_11eb_a60a_00155df1df39row17_col10 {\n",
       "            background-color:  #4e68d8;\n",
       "            color:  #000000;\n",
       "        }    #T_160569bd_510e_11eb_a60a_00155df1df39row17_col11 {\n",
       "            background-color:  #000000;\n",
       "            color:  #f1f1f1;\n",
       "        }    #T_160569bd_510e_11eb_a60a_00155df1df39row17_col12 {\n",
       "            background-color:  #4e68d8;\n",
       "            color:  #000000;\n",
       "        }    #T_160569bd_510e_11eb_a60a_00155df1df39row17_col13 {\n",
       "            background-color:  #3c4ec2;\n",
       "            color:  #f1f1f1;\n",
       "        }    #T_160569bd_510e_11eb_a60a_00155df1df39row17_col14 {\n",
       "            background-color:  #3b4cc0;\n",
       "            color:  #f1f1f1;\n",
       "        }    #T_160569bd_510e_11eb_a60a_00155df1df39row17_col15 {\n",
       "            background-color:  #bcd2f7;\n",
       "            color:  #000000;\n",
       "        }    #T_160569bd_510e_11eb_a60a_00155df1df39row17_col16 {\n",
       "            background-color:  #bad0f8;\n",
       "            color:  #000000;\n",
       "        }    #T_160569bd_510e_11eb_a60a_00155df1df39row17_col17 {\n",
       "            background-color:  #b40426;\n",
       "            color:  #f1f1f1;\n",
       "        }    #T_160569bd_510e_11eb_a60a_00155df1df39row17_col18 {\n",
       "            background-color:  #f7ba9f;\n",
       "            color:  #000000;\n",
       "        }    #T_160569bd_510e_11eb_a60a_00155df1df39row18_col0 {\n",
       "            background-color:  #3d50c3;\n",
       "            color:  #f1f1f1;\n",
       "        }    #T_160569bd_510e_11eb_a60a_00155df1df39row18_col1 {\n",
       "            background-color:  #7b9ff9;\n",
       "            color:  #000000;\n",
       "        }    #T_160569bd_510e_11eb_a60a_00155df1df39row18_col2 {\n",
       "            background-color:  #7da0f9;\n",
       "            color:  #000000;\n",
       "        }    #T_160569bd_510e_11eb_a60a_00155df1df39row18_col3 {\n",
       "            background-color:  #80a3fa;\n",
       "            color:  #000000;\n",
       "        }    #T_160569bd_510e_11eb_a60a_00155df1df39row18_col4 {\n",
       "            background-color:  #5875e1;\n",
       "            color:  #000000;\n",
       "        }    #T_160569bd_510e_11eb_a60a_00155df1df39row18_col5 {\n",
       "            background-color:  #4055c8;\n",
       "            color:  #f1f1f1;\n",
       "        }    #T_160569bd_510e_11eb_a60a_00155df1df39row18_col6 {\n",
       "            background-color:  #455cce;\n",
       "            color:  #f1f1f1;\n",
       "        }    #T_160569bd_510e_11eb_a60a_00155df1df39row18_col7 {\n",
       "            background-color:  #4e68d8;\n",
       "            color:  #000000;\n",
       "        }    #T_160569bd_510e_11eb_a60a_00155df1df39row18_col8 {\n",
       "            background-color:  #455cce;\n",
       "            color:  #f1f1f1;\n",
       "        }    #T_160569bd_510e_11eb_a60a_00155df1df39row18_col9 {\n",
       "            background-color:  #5a78e4;\n",
       "            color:  #000000;\n",
       "        }    #T_160569bd_510e_11eb_a60a_00155df1df39row18_col10 {\n",
       "            background-color:  #6485ec;\n",
       "            color:  #000000;\n",
       "        }    #T_160569bd_510e_11eb_a60a_00155df1df39row18_col11 {\n",
       "            background-color:  #000000;\n",
       "            color:  #f1f1f1;\n",
       "        }    #T_160569bd_510e_11eb_a60a_00155df1df39row18_col12 {\n",
       "            background-color:  #6384eb;\n",
       "            color:  #000000;\n",
       "        }    #T_160569bd_510e_11eb_a60a_00155df1df39row18_col13 {\n",
       "            background-color:  #6c8ff1;\n",
       "            color:  #000000;\n",
       "        }    #T_160569bd_510e_11eb_a60a_00155df1df39row18_col14 {\n",
       "            background-color:  #5a78e4;\n",
       "            color:  #000000;\n",
       "        }    #T_160569bd_510e_11eb_a60a_00155df1df39row18_col15 {\n",
       "            background-color:  #e1dad6;\n",
       "            color:  #000000;\n",
       "        }    #T_160569bd_510e_11eb_a60a_00155df1df39row18_col16 {\n",
       "            background-color:  #e0dbd8;\n",
       "            color:  #000000;\n",
       "        }    #T_160569bd_510e_11eb_a60a_00155df1df39row18_col17 {\n",
       "            background-color:  #f7ba9f;\n",
       "            color:  #000000;\n",
       "        }    #T_160569bd_510e_11eb_a60a_00155df1df39row18_col18 {\n",
       "            background-color:  #b40426;\n",
       "            color:  #f1f1f1;\n",
       "        }</style><table id=\"T_160569bd_510e_11eb_a60a_00155df1df39\" ><thead>    <tr>        <th class=\"blank level0\" ></th>        <th class=\"col_heading level0 col0\" >duration</th>        <th class=\"col_heading level0 col1\" >width</th>        <th class=\"col_heading level0 col2\" >height</th>        <th class=\"col_heading level0 col3\" >bitrate</th>        <th class=\"col_heading level0 col4\" >framerate</th>        <th class=\"col_heading level0 col5\" >i</th>        <th class=\"col_heading level0 col6\" >p</th>        <th class=\"col_heading level0 col7\" >b</th>        <th class=\"col_heading level0 col8\" >frames</th>        <th class=\"col_heading level0 col9\" >i_size</th>        <th class=\"col_heading level0 col10\" >p_size</th>        <th class=\"col_heading level0 col11\" >b_size</th>        <th class=\"col_heading level0 col12\" >size</th>        <th class=\"col_heading level0 col13\" >o_bitrate</th>        <th class=\"col_heading level0 col14\" >o_framerate</th>        <th class=\"col_heading level0 col15\" >o_width</th>        <th class=\"col_heading level0 col16\" >o_height</th>        <th class=\"col_heading level0 col17\" >umem</th>        <th class=\"col_heading level0 col18\" >utime</th>    </tr></thead><tbody>\n",
       "                <tr>\n",
       "                        <th id=\"T_160569bd_510e_11eb_a60a_00155df1df39level0_row0\" class=\"row_heading level0 row0\" >duration</th>\n",
       "                        <td id=\"T_160569bd_510e_11eb_a60a_00155df1df39row0_col0\" class=\"data row0 col0\" >1.000000</td>\n",
       "                        <td id=\"T_160569bd_510e_11eb_a60a_00155df1df39row0_col1\" class=\"data row0 col1\" >0.085803</td>\n",
       "                        <td id=\"T_160569bd_510e_11eb_a60a_00155df1df39row0_col2\" class=\"data row0 col2\" >0.063407</td>\n",
       "                        <td id=\"T_160569bd_510e_11eb_a60a_00155df1df39row0_col3\" class=\"data row0 col3\" >0.003437</td>\n",
       "                        <td id=\"T_160569bd_510e_11eb_a60a_00155df1df39row0_col4\" class=\"data row0 col4\" >-0.006504</td>\n",
       "                        <td id=\"T_160569bd_510e_11eb_a60a_00155df1df39row0_col5\" class=\"data row0 col5\" >0.785504</td>\n",
       "                        <td id=\"T_160569bd_510e_11eb_a60a_00155df1df39row0_col6\" class=\"data row0 col6\" >0.863464</td>\n",
       "                        <td id=\"T_160569bd_510e_11eb_a60a_00155df1df39row0_col7\" class=\"data row0 col7\" >0.051330</td>\n",
       "                        <td id=\"T_160569bd_510e_11eb_a60a_00155df1df39row0_col8\" class=\"data row0 col8\" >0.864414</td>\n",
       "                        <td id=\"T_160569bd_510e_11eb_a60a_00155df1df39row0_col9\" class=\"data row0 col9\" >0.466101</td>\n",
       "                        <td id=\"T_160569bd_510e_11eb_a60a_00155df1df39row0_col10\" class=\"data row0 col10\" >0.448764</td>\n",
       "                        <td id=\"T_160569bd_510e_11eb_a60a_00155df1df39row0_col11\" class=\"data row0 col11\" >nan</td>\n",
       "                        <td id=\"T_160569bd_510e_11eb_a60a_00155df1df39row0_col12\" class=\"data row0 col12\" >0.458710</td>\n",
       "                        <td id=\"T_160569bd_510e_11eb_a60a_00155df1df39row0_col13\" class=\"data row0 col13\" >0.000114</td>\n",
       "                        <td id=\"T_160569bd_510e_11eb_a60a_00155df1df39row0_col14\" class=\"data row0 col14\" >0.001177</td>\n",
       "                        <td id=\"T_160569bd_510e_11eb_a60a_00155df1df39row0_col15\" class=\"data row0 col15\" >0.000169</td>\n",
       "                        <td id=\"T_160569bd_510e_11eb_a60a_00155df1df39row0_col16\" class=\"data row0 col16\" >0.000472</td>\n",
       "                        <td id=\"T_160569bd_510e_11eb_a60a_00155df1df39row0_col17\" class=\"data row0 col17\" >0.005061</td>\n",
       "                        <td id=\"T_160569bd_510e_11eb_a60a_00155df1df39row0_col18\" class=\"data row0 col18\" >0.003637</td>\n",
       "            </tr>\n",
       "            <tr>\n",
       "                        <th id=\"T_160569bd_510e_11eb_a60a_00155df1df39level0_row1\" class=\"row_heading level0 row1\" >width</th>\n",
       "                        <td id=\"T_160569bd_510e_11eb_a60a_00155df1df39row1_col0\" class=\"data row1 col0\" >0.085803</td>\n",
       "                        <td id=\"T_160569bd_510e_11eb_a60a_00155df1df39row1_col1\" class=\"data row1 col1\" >1.000000</td>\n",
       "                        <td id=\"T_160569bd_510e_11eb_a60a_00155df1df39row1_col2\" class=\"data row1 col2\" >0.991893</td>\n",
       "                        <td id=\"T_160569bd_510e_11eb_a60a_00155df1df39row1_col3\" class=\"data row1 col3\" >0.812709</td>\n",
       "                        <td id=\"T_160569bd_510e_11eb_a60a_00155df1df39row1_col4\" class=\"data row1 col4\" >0.401701</td>\n",
       "                        <td id=\"T_160569bd_510e_11eb_a60a_00155df1df39row1_col5\" class=\"data row1 col5\" >0.079221</td>\n",
       "                        <td id=\"T_160569bd_510e_11eb_a60a_00155df1df39row1_col6\" class=\"data row1 col6\" >0.232766</td>\n",
       "                        <td id=\"T_160569bd_510e_11eb_a60a_00155df1df39row1_col7\" class=\"data row1 col7\" >-0.061632</td>\n",
       "                        <td id=\"T_160569bd_510e_11eb_a60a_00155df1df39row1_col8\" class=\"data row1 col8\" >0.230359</td>\n",
       "                        <td id=\"T_160569bd_510e_11eb_a60a_00155df1df39row1_col9\" class=\"data row1 col9\" >0.586399</td>\n",
       "                        <td id=\"T_160569bd_510e_11eb_a60a_00155df1df39row1_col10\" class=\"data row1 col10\" >0.548757</td>\n",
       "                        <td id=\"T_160569bd_510e_11eb_a60a_00155df1df39row1_col11\" class=\"data row1 col11\" >nan</td>\n",
       "                        <td id=\"T_160569bd_510e_11eb_a60a_00155df1df39row1_col12\" class=\"data row1 col12\" >0.562129</td>\n",
       "                        <td id=\"T_160569bd_510e_11eb_a60a_00155df1df39row1_col13\" class=\"data row1 col13\" >-0.001030</td>\n",
       "                        <td id=\"T_160569bd_510e_11eb_a60a_00155df1df39row1_col14\" class=\"data row1 col14\" >-0.000175</td>\n",
       "                        <td id=\"T_160569bd_510e_11eb_a60a_00155df1df39row1_col15\" class=\"data row1 col15\" >-0.000162</td>\n",
       "                        <td id=\"T_160569bd_510e_11eb_a60a_00155df1df39row1_col16\" class=\"data row1 col16\" >-0.000136</td>\n",
       "                        <td id=\"T_160569bd_510e_11eb_a60a_00155df1df39row1_col17\" class=\"data row1 col17\" >0.045598</td>\n",
       "                        <td id=\"T_160569bd_510e_11eb_a60a_00155df1df39row1_col18\" class=\"data row1 col18\" >0.152003</td>\n",
       "            </tr>\n",
       "            <tr>\n",
       "                        <th id=\"T_160569bd_510e_11eb_a60a_00155df1df39level0_row2\" class=\"row_heading level0 row2\" >height</th>\n",
       "                        <td id=\"T_160569bd_510e_11eb_a60a_00155df1df39row2_col0\" class=\"data row2 col0\" >0.063407</td>\n",
       "                        <td id=\"T_160569bd_510e_11eb_a60a_00155df1df39row2_col1\" class=\"data row2 col1\" >0.991893</td>\n",
       "                        <td id=\"T_160569bd_510e_11eb_a60a_00155df1df39row2_col2\" class=\"data row2 col2\" >1.000000</td>\n",
       "                        <td id=\"T_160569bd_510e_11eb_a60a_00155df1df39row2_col3\" class=\"data row2 col3\" >0.801874</td>\n",
       "                        <td id=\"T_160569bd_510e_11eb_a60a_00155df1df39row2_col4\" class=\"data row2 col4\" >0.456539</td>\n",
       "                        <td id=\"T_160569bd_510e_11eb_a60a_00155df1df39row2_col5\" class=\"data row2 col5\" >0.090249</td>\n",
       "                        <td id=\"T_160569bd_510e_11eb_a60a_00155df1df39row2_col6\" class=\"data row2 col6\" >0.225289</td>\n",
       "                        <td id=\"T_160569bd_510e_11eb_a60a_00155df1df39row2_col7\" class=\"data row2 col7\" >-0.065975</td>\n",
       "                        <td id=\"T_160569bd_510e_11eb_a60a_00155df1df39row2_col8\" class=\"data row2 col8\" >0.223058</td>\n",
       "                        <td id=\"T_160569bd_510e_11eb_a60a_00155df1df39row2_col9\" class=\"data row2 col9\" >0.574406</td>\n",
       "                        <td id=\"T_160569bd_510e_11eb_a60a_00155df1df39row2_col10\" class=\"data row2 col10\" >0.526786</td>\n",
       "                        <td id=\"T_160569bd_510e_11eb_a60a_00155df1df39row2_col11\" class=\"data row2 col11\" >nan</td>\n",
       "                        <td id=\"T_160569bd_510e_11eb_a60a_00155df1df39row2_col12\" class=\"data row2 col12\" >0.540505</td>\n",
       "                        <td id=\"T_160569bd_510e_11eb_a60a_00155df1df39row2_col13\" class=\"data row2 col13\" >-0.001011</td>\n",
       "                        <td id=\"T_160569bd_510e_11eb_a60a_00155df1df39row2_col14\" class=\"data row2 col14\" >-0.000141</td>\n",
       "                        <td id=\"T_160569bd_510e_11eb_a60a_00155df1df39row2_col15\" class=\"data row2 col15\" >-0.000118</td>\n",
       "                        <td id=\"T_160569bd_510e_11eb_a60a_00155df1df39row2_col16\" class=\"data row2 col16\" >-0.000102</td>\n",
       "                        <td id=\"T_160569bd_510e_11eb_a60a_00155df1df39row2_col17\" class=\"data row2 col17\" >0.051701</td>\n",
       "                        <td id=\"T_160569bd_510e_11eb_a60a_00155df1df39row2_col18\" class=\"data row2 col18\" >0.151514</td>\n",
       "            </tr>\n",
       "            <tr>\n",
       "                        <th id=\"T_160569bd_510e_11eb_a60a_00155df1df39level0_row3\" class=\"row_heading level0 row3\" >bitrate</th>\n",
       "                        <td id=\"T_160569bd_510e_11eb_a60a_00155df1df39row3_col0\" class=\"data row3 col0\" >0.003437</td>\n",
       "                        <td id=\"T_160569bd_510e_11eb_a60a_00155df1df39row3_col1\" class=\"data row3 col1\" >0.812709</td>\n",
       "                        <td id=\"T_160569bd_510e_11eb_a60a_00155df1df39row3_col2\" class=\"data row3 col2\" >0.801874</td>\n",
       "                        <td id=\"T_160569bd_510e_11eb_a60a_00155df1df39row3_col3\" class=\"data row3 col3\" >1.000000</td>\n",
       "                        <td id=\"T_160569bd_510e_11eb_a60a_00155df1df39row3_col4\" class=\"data row3 col4\" >0.262639</td>\n",
       "                        <td id=\"T_160569bd_510e_11eb_a60a_00155df1df39row3_col5\" class=\"data row3 col5\" >0.064547</td>\n",
       "                        <td id=\"T_160569bd_510e_11eb_a60a_00155df1df39row3_col6\" class=\"data row3 col6\" >0.099566</td>\n",
       "                        <td id=\"T_160569bd_510e_11eb_a60a_00155df1df39row3_col7\" class=\"data row3 col7\" >-0.043401</td>\n",
       "                        <td id=\"T_160569bd_510e_11eb_a60a_00155df1df39row3_col8\" class=\"data row3 col8\" >0.098726</td>\n",
       "                        <td id=\"T_160569bd_510e_11eb_a60a_00155df1df39row3_col9\" class=\"data row3 col9\" >0.437510</td>\n",
       "                        <td id=\"T_160569bd_510e_11eb_a60a_00155df1df39row3_col10\" class=\"data row3 col10\" >0.604404</td>\n",
       "                        <td id=\"T_160569bd_510e_11eb_a60a_00155df1df39row3_col11\" class=\"data row3 col11\" >nan</td>\n",
       "                        <td id=\"T_160569bd_510e_11eb_a60a_00155df1df39row3_col12\" class=\"data row3 col12\" >0.603074</td>\n",
       "                        <td id=\"T_160569bd_510e_11eb_a60a_00155df1df39row3_col13\" class=\"data row3 col13\" >-0.001384</td>\n",
       "                        <td id=\"T_160569bd_510e_11eb_a60a_00155df1df39row3_col14\" class=\"data row3 col14\" >-0.000232</td>\n",
       "                        <td id=\"T_160569bd_510e_11eb_a60a_00155df1df39row3_col15\" class=\"data row3 col15\" >-0.000137</td>\n",
       "                        <td id=\"T_160569bd_510e_11eb_a60a_00155df1df39row3_col16\" class=\"data row3 col16\" >-0.000134</td>\n",
       "                        <td id=\"T_160569bd_510e_11eb_a60a_00155df1df39row3_col17\" class=\"data row3 col17\" >0.054584</td>\n",
       "                        <td id=\"T_160569bd_510e_11eb_a60a_00155df1df39row3_col18\" class=\"data row3 col18\" >0.177376</td>\n",
       "            </tr>\n",
       "            <tr>\n",
       "                        <th id=\"T_160569bd_510e_11eb_a60a_00155df1df39level0_row4\" class=\"row_heading level0 row4\" >framerate</th>\n",
       "                        <td id=\"T_160569bd_510e_11eb_a60a_00155df1df39row4_col0\" class=\"data row4 col0\" >-0.006504</td>\n",
       "                        <td id=\"T_160569bd_510e_11eb_a60a_00155df1df39row4_col1\" class=\"data row4 col1\" >0.401701</td>\n",
       "                        <td id=\"T_160569bd_510e_11eb_a60a_00155df1df39row4_col2\" class=\"data row4 col2\" >0.456539</td>\n",
       "                        <td id=\"T_160569bd_510e_11eb_a60a_00155df1df39row4_col3\" class=\"data row4 col3\" >0.262639</td>\n",
       "                        <td id=\"T_160569bd_510e_11eb_a60a_00155df1df39row4_col4\" class=\"data row4 col4\" >1.000000</td>\n",
       "                        <td id=\"T_160569bd_510e_11eb_a60a_00155df1df39row4_col5\" class=\"data row4 col5\" >0.240018</td>\n",
       "                        <td id=\"T_160569bd_510e_11eb_a60a_00155df1df39row4_col6\" class=\"data row4 col6\" >0.327273</td>\n",
       "                        <td id=\"T_160569bd_510e_11eb_a60a_00155df1df39row4_col7\" class=\"data row4 col7\" >0.019728</td>\n",
       "                        <td id=\"T_160569bd_510e_11eb_a60a_00155df1df39row4_col8\" class=\"data row4 col8\" >0.326883</td>\n",
       "                        <td id=\"T_160569bd_510e_11eb_a60a_00155df1df39row4_col9\" class=\"data row4 col9\" >0.301865</td>\n",
       "                        <td id=\"T_160569bd_510e_11eb_a60a_00155df1df39row4_col10\" class=\"data row4 col10\" >0.206896</td>\n",
       "                        <td id=\"T_160569bd_510e_11eb_a60a_00155df1df39row4_col11\" class=\"data row4 col11\" >nan</td>\n",
       "                        <td id=\"T_160569bd_510e_11eb_a60a_00155df1df39row4_col12\" class=\"data row4 col12\" >0.218190</td>\n",
       "                        <td id=\"T_160569bd_510e_11eb_a60a_00155df1df39row4_col13\" class=\"data row4 col13\" >-0.001817</td>\n",
       "                        <td id=\"T_160569bd_510e_11eb_a60a_00155df1df39row4_col14\" class=\"data row4 col14\" >0.000065</td>\n",
       "                        <td id=\"T_160569bd_510e_11eb_a60a_00155df1df39row4_col15\" class=\"data row4 col15\" >-0.000078</td>\n",
       "                        <td id=\"T_160569bd_510e_11eb_a60a_00155df1df39row4_col16\" class=\"data row4 col16\" >-0.000088</td>\n",
       "                        <td id=\"T_160569bd_510e_11eb_a60a_00155df1df39row4_col17\" class=\"data row4 col17\" >0.060531</td>\n",
       "                        <td id=\"T_160569bd_510e_11eb_a60a_00155df1df39row4_col18\" class=\"data row4 col18\" >0.090951</td>\n",
       "            </tr>\n",
       "            <tr>\n",
       "                        <th id=\"T_160569bd_510e_11eb_a60a_00155df1df39level0_row5\" class=\"row_heading level0 row5\" >i</th>\n",
       "                        <td id=\"T_160569bd_510e_11eb_a60a_00155df1df39row5_col0\" class=\"data row5 col0\" >0.785504</td>\n",
       "                        <td id=\"T_160569bd_510e_11eb_a60a_00155df1df39row5_col1\" class=\"data row5 col1\" >0.079221</td>\n",
       "                        <td id=\"T_160569bd_510e_11eb_a60a_00155df1df39row5_col2\" class=\"data row5 col2\" >0.090249</td>\n",
       "                        <td id=\"T_160569bd_510e_11eb_a60a_00155df1df39row5_col3\" class=\"data row5 col3\" >0.064547</td>\n",
       "                        <td id=\"T_160569bd_510e_11eb_a60a_00155df1df39row5_col4\" class=\"data row5 col4\" >0.240018</td>\n",
       "                        <td id=\"T_160569bd_510e_11eb_a60a_00155df1df39row5_col5\" class=\"data row5 col5\" >1.000000</td>\n",
       "                        <td id=\"T_160569bd_510e_11eb_a60a_00155df1df39row5_col6\" class=\"data row5 col6\" >0.825621</td>\n",
       "                        <td id=\"T_160569bd_510e_11eb_a60a_00155df1df39row5_col7\" class=\"data row5 col7\" >0.105429</td>\n",
       "                        <td id=\"T_160569bd_510e_11eb_a60a_00155df1df39row5_col8\" class=\"data row5 col8\" >0.830476</td>\n",
       "                        <td id=\"T_160569bd_510e_11eb_a60a_00155df1df39row5_col9\" class=\"data row5 col9\" >0.553892</td>\n",
       "                        <td id=\"T_160569bd_510e_11eb_a60a_00155df1df39row5_col10\" class=\"data row5 col10\" >0.441853</td>\n",
       "                        <td id=\"T_160569bd_510e_11eb_a60a_00155df1df39row5_col11\" class=\"data row5 col11\" >nan</td>\n",
       "                        <td id=\"T_160569bd_510e_11eb_a60a_00155df1df39row5_col12\" class=\"data row5 col12\" >0.459012</td>\n",
       "                        <td id=\"T_160569bd_510e_11eb_a60a_00155df1df39row5_col13\" class=\"data row5 col13\" >-0.001206</td>\n",
       "                        <td id=\"T_160569bd_510e_11eb_a60a_00155df1df39row5_col14\" class=\"data row5 col14\" >0.000634</td>\n",
       "                        <td id=\"T_160569bd_510e_11eb_a60a_00155df1df39row5_col15\" class=\"data row5 col15\" >0.000780</td>\n",
       "                        <td id=\"T_160569bd_510e_11eb_a60a_00155df1df39row5_col16\" class=\"data row5 col16\" >0.000877</td>\n",
       "                        <td id=\"T_160569bd_510e_11eb_a60a_00155df1df39row5_col17\" class=\"data row5 col17\" >0.033843</td>\n",
       "                        <td id=\"T_160569bd_510e_11eb_a60a_00155df1df39row5_col18\" class=\"data row5 col18\" >0.019384</td>\n",
       "            </tr>\n",
       "            <tr>\n",
       "                        <th id=\"T_160569bd_510e_11eb_a60a_00155df1df39level0_row6\" class=\"row_heading level0 row6\" >p</th>\n",
       "                        <td id=\"T_160569bd_510e_11eb_a60a_00155df1df39row6_col0\" class=\"data row6 col0\" >0.863464</td>\n",
       "                        <td id=\"T_160569bd_510e_11eb_a60a_00155df1df39row6_col1\" class=\"data row6 col1\" >0.232766</td>\n",
       "                        <td id=\"T_160569bd_510e_11eb_a60a_00155df1df39row6_col2\" class=\"data row6 col2\" >0.225289</td>\n",
       "                        <td id=\"T_160569bd_510e_11eb_a60a_00155df1df39row6_col3\" class=\"data row6 col3\" >0.099566</td>\n",
       "                        <td id=\"T_160569bd_510e_11eb_a60a_00155df1df39row6_col4\" class=\"data row6 col4\" >0.327273</td>\n",
       "                        <td id=\"T_160569bd_510e_11eb_a60a_00155df1df39row6_col5\" class=\"data row6 col5\" >0.825621</td>\n",
       "                        <td id=\"T_160569bd_510e_11eb_a60a_00155df1df39row6_col6\" class=\"data row6 col6\" >1.000000</td>\n",
       "                        <td id=\"T_160569bd_510e_11eb_a60a_00155df1df39row6_col7\" class=\"data row6 col7\" >0.050113</td>\n",
       "                        <td id=\"T_160569bd_510e_11eb_a60a_00155df1df39row6_col8\" class=\"data row6 col8\" >0.999886</td>\n",
       "                        <td id=\"T_160569bd_510e_11eb_a60a_00155df1df39row6_col9\" class=\"data row6 col9\" >0.681785</td>\n",
       "                        <td id=\"T_160569bd_510e_11eb_a60a_00155df1df39row6_col10\" class=\"data row6 col10\" >0.634461</td>\n",
       "                        <td id=\"T_160569bd_510e_11eb_a60a_00155df1df39row6_col11\" class=\"data row6 col11\" >nan</td>\n",
       "                        <td id=\"T_160569bd_510e_11eb_a60a_00155df1df39row6_col12\" class=\"data row6 col12\" >0.650268</td>\n",
       "                        <td id=\"T_160569bd_510e_11eb_a60a_00155df1df39row6_col13\" class=\"data row6 col13\" >-0.002261</td>\n",
       "                        <td id=\"T_160569bd_510e_11eb_a60a_00155df1df39row6_col14\" class=\"data row6 col14\" >0.000499</td>\n",
       "                        <td id=\"T_160569bd_510e_11eb_a60a_00155df1df39row6_col15\" class=\"data row6 col15\" >0.000215</td>\n",
       "                        <td id=\"T_160569bd_510e_11eb_a60a_00155df1df39row6_col16\" class=\"data row6 col16\" >0.000365</td>\n",
       "                        <td id=\"T_160569bd_510e_11eb_a60a_00155df1df39row6_col17\" class=\"data row6 col17\" >0.028011</td>\n",
       "                        <td id=\"T_160569bd_510e_11eb_a60a_00155df1df39row6_col18\" class=\"data row6 col18\" >0.033875</td>\n",
       "            </tr>\n",
       "            <tr>\n",
       "                        <th id=\"T_160569bd_510e_11eb_a60a_00155df1df39level0_row7\" class=\"row_heading level0 row7\" >b</th>\n",
       "                        <td id=\"T_160569bd_510e_11eb_a60a_00155df1df39row7_col0\" class=\"data row7 col0\" >0.051330</td>\n",
       "                        <td id=\"T_160569bd_510e_11eb_a60a_00155df1df39row7_col1\" class=\"data row7 col1\" >-0.061632</td>\n",
       "                        <td id=\"T_160569bd_510e_11eb_a60a_00155df1df39row7_col2\" class=\"data row7 col2\" >-0.065975</td>\n",
       "                        <td id=\"T_160569bd_510e_11eb_a60a_00155df1df39row7_col3\" class=\"data row7 col3\" >-0.043401</td>\n",
       "                        <td id=\"T_160569bd_510e_11eb_a60a_00155df1df39row7_col4\" class=\"data row7 col4\" >0.019728</td>\n",
       "                        <td id=\"T_160569bd_510e_11eb_a60a_00155df1df39row7_col5\" class=\"data row7 col5\" >0.105429</td>\n",
       "                        <td id=\"T_160569bd_510e_11eb_a60a_00155df1df39row7_col6\" class=\"data row7 col6\" >0.050113</td>\n",
       "                        <td id=\"T_160569bd_510e_11eb_a60a_00155df1df39row7_col7\" class=\"data row7 col7\" >1.000000</td>\n",
       "                        <td id=\"T_160569bd_510e_11eb_a60a_00155df1df39row7_col8\" class=\"data row7 col8\" >0.063270</td>\n",
       "                        <td id=\"T_160569bd_510e_11eb_a60a_00155df1df39row7_col9\" class=\"data row7 col9\" >-0.030565</td>\n",
       "                        <td id=\"T_160569bd_510e_11eb_a60a_00155df1df39row7_col10\" class=\"data row7 col10\" >-0.026895</td>\n",
       "                        <td id=\"T_160569bd_510e_11eb_a60a_00155df1df39row7_col11\" class=\"data row7 col11\" >nan</td>\n",
       "                        <td id=\"T_160569bd_510e_11eb_a60a_00155df1df39row7_col12\" class=\"data row7 col12\" >-0.026840</td>\n",
       "                        <td id=\"T_160569bd_510e_11eb_a60a_00155df1df39row7_col13\" class=\"data row7 col13\" >0.002971</td>\n",
       "                        <td id=\"T_160569bd_510e_11eb_a60a_00155df1df39row7_col14\" class=\"data row7 col14\" >-0.000233</td>\n",
       "                        <td id=\"T_160569bd_510e_11eb_a60a_00155df1df39row7_col15\" class=\"data row7 col15\" >-0.000092</td>\n",
       "                        <td id=\"T_160569bd_510e_11eb_a60a_00155df1df39row7_col16\" class=\"data row7 col16\" >-0.000052</td>\n",
       "                        <td id=\"T_160569bd_510e_11eb_a60a_00155df1df39row7_col17\" class=\"data row7 col17\" >0.004174</td>\n",
       "                        <td id=\"T_160569bd_510e_11eb_a60a_00155df1df39row7_col18\" class=\"data row7 col18\" >0.001768</td>\n",
       "            </tr>\n",
       "            <tr>\n",
       "                        <th id=\"T_160569bd_510e_11eb_a60a_00155df1df39level0_row8\" class=\"row_heading level0 row8\" >frames</th>\n",
       "                        <td id=\"T_160569bd_510e_11eb_a60a_00155df1df39row8_col0\" class=\"data row8 col0\" >0.864414</td>\n",
       "                        <td id=\"T_160569bd_510e_11eb_a60a_00155df1df39row8_col1\" class=\"data row8 col1\" >0.230359</td>\n",
       "                        <td id=\"T_160569bd_510e_11eb_a60a_00155df1df39row8_col2\" class=\"data row8 col2\" >0.223058</td>\n",
       "                        <td id=\"T_160569bd_510e_11eb_a60a_00155df1df39row8_col3\" class=\"data row8 col3\" >0.098726</td>\n",
       "                        <td id=\"T_160569bd_510e_11eb_a60a_00155df1df39row8_col4\" class=\"data row8 col4\" >0.326883</td>\n",
       "                        <td id=\"T_160569bd_510e_11eb_a60a_00155df1df39row8_col5\" class=\"data row8 col5\" >0.830476</td>\n",
       "                        <td id=\"T_160569bd_510e_11eb_a60a_00155df1df39row8_col6\" class=\"data row8 col6\" >0.999886</td>\n",
       "                        <td id=\"T_160569bd_510e_11eb_a60a_00155df1df39row8_col7\" class=\"data row8 col7\" >0.063270</td>\n",
       "                        <td id=\"T_160569bd_510e_11eb_a60a_00155df1df39row8_col8\" class=\"data row8 col8\" >1.000000</td>\n",
       "                        <td id=\"T_160569bd_510e_11eb_a60a_00155df1df39row8_col9\" class=\"data row8 col9\" >0.680790</td>\n",
       "                        <td id=\"T_160569bd_510e_11eb_a60a_00155df1df39row8_col10\" class=\"data row8 col10\" >0.632593</td>\n",
       "                        <td id=\"T_160569bd_510e_11eb_a60a_00155df1df39row8_col11\" class=\"data row8 col11\" >nan</td>\n",
       "                        <td id=\"T_160569bd_510e_11eb_a60a_00155df1df39row8_col12\" class=\"data row8 col12\" >0.648443</td>\n",
       "                        <td id=\"T_160569bd_510e_11eb_a60a_00155df1df39row8_col13\" class=\"data row8 col13\" >-0.002214</td>\n",
       "                        <td id=\"T_160569bd_510e_11eb_a60a_00155df1df39row8_col14\" class=\"data row8 col14\" >0.000499</td>\n",
       "                        <td id=\"T_160569bd_510e_11eb_a60a_00155df1df39row8_col15\" class=\"data row8 col15\" >0.000222</td>\n",
       "                        <td id=\"T_160569bd_510e_11eb_a60a_00155df1df39row8_col16\" class=\"data row8 col16\" >0.000372</td>\n",
       "                        <td id=\"T_160569bd_510e_11eb_a60a_00155df1df39row8_col17\" class=\"data row8 col17\" >0.028182</td>\n",
       "                        <td id=\"T_160569bd_510e_11eb_a60a_00155df1df39row8_col18\" class=\"data row8 col18\" >0.033760</td>\n",
       "            </tr>\n",
       "            <tr>\n",
       "                        <th id=\"T_160569bd_510e_11eb_a60a_00155df1df39level0_row9\" class=\"row_heading level0 row9\" >i_size</th>\n",
       "                        <td id=\"T_160569bd_510e_11eb_a60a_00155df1df39row9_col0\" class=\"data row9 col0\" >0.466101</td>\n",
       "                        <td id=\"T_160569bd_510e_11eb_a60a_00155df1df39row9_col1\" class=\"data row9 col1\" >0.586399</td>\n",
       "                        <td id=\"T_160569bd_510e_11eb_a60a_00155df1df39row9_col2\" class=\"data row9 col2\" >0.574406</td>\n",
       "                        <td id=\"T_160569bd_510e_11eb_a60a_00155df1df39row9_col3\" class=\"data row9 col3\" >0.437510</td>\n",
       "                        <td id=\"T_160569bd_510e_11eb_a60a_00155df1df39row9_col4\" class=\"data row9 col4\" >0.301865</td>\n",
       "                        <td id=\"T_160569bd_510e_11eb_a60a_00155df1df39row9_col5\" class=\"data row9 col5\" >0.553892</td>\n",
       "                        <td id=\"T_160569bd_510e_11eb_a60a_00155df1df39row9_col6\" class=\"data row9 col6\" >0.681785</td>\n",
       "                        <td id=\"T_160569bd_510e_11eb_a60a_00155df1df39row9_col7\" class=\"data row9 col7\" >-0.030565</td>\n",
       "                        <td id=\"T_160569bd_510e_11eb_a60a_00155df1df39row9_col8\" class=\"data row9 col8\" >0.680790</td>\n",
       "                        <td id=\"T_160569bd_510e_11eb_a60a_00155df1df39row9_col9\" class=\"data row9 col9\" >1.000000</td>\n",
       "                        <td id=\"T_160569bd_510e_11eb_a60a_00155df1df39row9_col10\" class=\"data row9 col10\" >0.734348</td>\n",
       "                        <td id=\"T_160569bd_510e_11eb_a60a_00155df1df39row9_col11\" class=\"data row9 col11\" >nan</td>\n",
       "                        <td id=\"T_160569bd_510e_11eb_a60a_00155df1df39row9_col12\" class=\"data row9 col12\" >0.768871</td>\n",
       "                        <td id=\"T_160569bd_510e_11eb_a60a_00155df1df39row9_col13\" class=\"data row9 col13\" >-0.003052</td>\n",
       "                        <td id=\"T_160569bd_510e_11eb_a60a_00155df1df39row9_col14\" class=\"data row9 col14\" >-0.000141</td>\n",
       "                        <td id=\"T_160569bd_510e_11eb_a60a_00155df1df39row9_col15\" class=\"data row9 col15\" >-0.000093</td>\n",
       "                        <td id=\"T_160569bd_510e_11eb_a60a_00155df1df39row9_col16\" class=\"data row9 col16\" >-0.000117</td>\n",
       "                        <td id=\"T_160569bd_510e_11eb_a60a_00155df1df39row9_col17\" class=\"data row9 col17\" >0.041272</td>\n",
       "                        <td id=\"T_160569bd_510e_11eb_a60a_00155df1df39row9_col18\" class=\"data row9 col18\" >0.075390</td>\n",
       "            </tr>\n",
       "            <tr>\n",
       "                        <th id=\"T_160569bd_510e_11eb_a60a_00155df1df39level0_row10\" class=\"row_heading level0 row10\" >p_size</th>\n",
       "                        <td id=\"T_160569bd_510e_11eb_a60a_00155df1df39row10_col0\" class=\"data row10 col0\" >0.448764</td>\n",
       "                        <td id=\"T_160569bd_510e_11eb_a60a_00155df1df39row10_col1\" class=\"data row10 col1\" >0.548757</td>\n",
       "                        <td id=\"T_160569bd_510e_11eb_a60a_00155df1df39row10_col2\" class=\"data row10 col2\" >0.526786</td>\n",
       "                        <td id=\"T_160569bd_510e_11eb_a60a_00155df1df39row10_col3\" class=\"data row10 col3\" >0.604404</td>\n",
       "                        <td id=\"T_160569bd_510e_11eb_a60a_00155df1df39row10_col4\" class=\"data row10 col4\" >0.206896</td>\n",
       "                        <td id=\"T_160569bd_510e_11eb_a60a_00155df1df39row10_col5\" class=\"data row10 col5\" >0.441853</td>\n",
       "                        <td id=\"T_160569bd_510e_11eb_a60a_00155df1df39row10_col6\" class=\"data row10 col6\" >0.634461</td>\n",
       "                        <td id=\"T_160569bd_510e_11eb_a60a_00155df1df39row10_col7\" class=\"data row10 col7\" >-0.026895</td>\n",
       "                        <td id=\"T_160569bd_510e_11eb_a60a_00155df1df39row10_col8\" class=\"data row10 col8\" >0.632593</td>\n",
       "                        <td id=\"T_160569bd_510e_11eb_a60a_00155df1df39row10_col9\" class=\"data row10 col9\" >0.734348</td>\n",
       "                        <td id=\"T_160569bd_510e_11eb_a60a_00155df1df39row10_col10\" class=\"data row10 col10\" >1.000000</td>\n",
       "                        <td id=\"T_160569bd_510e_11eb_a60a_00155df1df39row10_col11\" class=\"data row10 col11\" >nan</td>\n",
       "                        <td id=\"T_160569bd_510e_11eb_a60a_00155df1df39row10_col12\" class=\"data row10 col12\" >0.998628</td>\n",
       "                        <td id=\"T_160569bd_510e_11eb_a60a_00155df1df39row10_col13\" class=\"data row10 col13\" >-0.004144</td>\n",
       "                        <td id=\"T_160569bd_510e_11eb_a60a_00155df1df39row10_col14\" class=\"data row10 col14\" >-0.000124</td>\n",
       "                        <td id=\"T_160569bd_510e_11eb_a60a_00155df1df39row10_col15\" class=\"data row10 col15\" >0.000271</td>\n",
       "                        <td id=\"T_160569bd_510e_11eb_a60a_00155df1df39row10_col16\" class=\"data row10 col16\" >0.000259</td>\n",
       "                        <td id=\"T_160569bd_510e_11eb_a60a_00155df1df39row10_col17\" class=\"data row10 col17\" >0.038690</td>\n",
       "                        <td id=\"T_160569bd_510e_11eb_a60a_00155df1df39row10_col18\" class=\"data row10 col18\" >0.109510</td>\n",
       "            </tr>\n",
       "            <tr>\n",
       "                        <th id=\"T_160569bd_510e_11eb_a60a_00155df1df39level0_row11\" class=\"row_heading level0 row11\" >b_size</th>\n",
       "                        <td id=\"T_160569bd_510e_11eb_a60a_00155df1df39row11_col0\" class=\"data row11 col0\" >nan</td>\n",
       "                        <td id=\"T_160569bd_510e_11eb_a60a_00155df1df39row11_col1\" class=\"data row11 col1\" >nan</td>\n",
       "                        <td id=\"T_160569bd_510e_11eb_a60a_00155df1df39row11_col2\" class=\"data row11 col2\" >nan</td>\n",
       "                        <td id=\"T_160569bd_510e_11eb_a60a_00155df1df39row11_col3\" class=\"data row11 col3\" >nan</td>\n",
       "                        <td id=\"T_160569bd_510e_11eb_a60a_00155df1df39row11_col4\" class=\"data row11 col4\" >nan</td>\n",
       "                        <td id=\"T_160569bd_510e_11eb_a60a_00155df1df39row11_col5\" class=\"data row11 col5\" >nan</td>\n",
       "                        <td id=\"T_160569bd_510e_11eb_a60a_00155df1df39row11_col6\" class=\"data row11 col6\" >nan</td>\n",
       "                        <td id=\"T_160569bd_510e_11eb_a60a_00155df1df39row11_col7\" class=\"data row11 col7\" >nan</td>\n",
       "                        <td id=\"T_160569bd_510e_11eb_a60a_00155df1df39row11_col8\" class=\"data row11 col8\" >nan</td>\n",
       "                        <td id=\"T_160569bd_510e_11eb_a60a_00155df1df39row11_col9\" class=\"data row11 col9\" >nan</td>\n",
       "                        <td id=\"T_160569bd_510e_11eb_a60a_00155df1df39row11_col10\" class=\"data row11 col10\" >nan</td>\n",
       "                        <td id=\"T_160569bd_510e_11eb_a60a_00155df1df39row11_col11\" class=\"data row11 col11\" >nan</td>\n",
       "                        <td id=\"T_160569bd_510e_11eb_a60a_00155df1df39row11_col12\" class=\"data row11 col12\" >nan</td>\n",
       "                        <td id=\"T_160569bd_510e_11eb_a60a_00155df1df39row11_col13\" class=\"data row11 col13\" >nan</td>\n",
       "                        <td id=\"T_160569bd_510e_11eb_a60a_00155df1df39row11_col14\" class=\"data row11 col14\" >nan</td>\n",
       "                        <td id=\"T_160569bd_510e_11eb_a60a_00155df1df39row11_col15\" class=\"data row11 col15\" >nan</td>\n",
       "                        <td id=\"T_160569bd_510e_11eb_a60a_00155df1df39row11_col16\" class=\"data row11 col16\" >nan</td>\n",
       "                        <td id=\"T_160569bd_510e_11eb_a60a_00155df1df39row11_col17\" class=\"data row11 col17\" >nan</td>\n",
       "                        <td id=\"T_160569bd_510e_11eb_a60a_00155df1df39row11_col18\" class=\"data row11 col18\" >nan</td>\n",
       "            </tr>\n",
       "            <tr>\n",
       "                        <th id=\"T_160569bd_510e_11eb_a60a_00155df1df39level0_row12\" class=\"row_heading level0 row12\" >size</th>\n",
       "                        <td id=\"T_160569bd_510e_11eb_a60a_00155df1df39row12_col0\" class=\"data row12 col0\" >0.458710</td>\n",
       "                        <td id=\"T_160569bd_510e_11eb_a60a_00155df1df39row12_col1\" class=\"data row12 col1\" >0.562129</td>\n",
       "                        <td id=\"T_160569bd_510e_11eb_a60a_00155df1df39row12_col2\" class=\"data row12 col2\" >0.540505</td>\n",
       "                        <td id=\"T_160569bd_510e_11eb_a60a_00155df1df39row12_col3\" class=\"data row12 col3\" >0.603074</td>\n",
       "                        <td id=\"T_160569bd_510e_11eb_a60a_00155df1df39row12_col4\" class=\"data row12 col4\" >0.218190</td>\n",
       "                        <td id=\"T_160569bd_510e_11eb_a60a_00155df1df39row12_col5\" class=\"data row12 col5\" >0.459012</td>\n",
       "                        <td id=\"T_160569bd_510e_11eb_a60a_00155df1df39row12_col6\" class=\"data row12 col6\" >0.650268</td>\n",
       "                        <td id=\"T_160569bd_510e_11eb_a60a_00155df1df39row12_col7\" class=\"data row12 col7\" >-0.026840</td>\n",
       "                        <td id=\"T_160569bd_510e_11eb_a60a_00155df1df39row12_col8\" class=\"data row12 col8\" >0.648443</td>\n",
       "                        <td id=\"T_160569bd_510e_11eb_a60a_00155df1df39row12_col9\" class=\"data row12 col9\" >0.768871</td>\n",
       "                        <td id=\"T_160569bd_510e_11eb_a60a_00155df1df39row12_col10\" class=\"data row12 col10\" >0.998628</td>\n",
       "                        <td id=\"T_160569bd_510e_11eb_a60a_00155df1df39row12_col11\" class=\"data row12 col11\" >nan</td>\n",
       "                        <td id=\"T_160569bd_510e_11eb_a60a_00155df1df39row12_col12\" class=\"data row12 col12\" >1.000000</td>\n",
       "                        <td id=\"T_160569bd_510e_11eb_a60a_00155df1df39row12_col13\" class=\"data row12 col13\" >-0.004132</td>\n",
       "                        <td id=\"T_160569bd_510e_11eb_a60a_00155df1df39row12_col14\" class=\"data row12 col14\" >-0.000130</td>\n",
       "                        <td id=\"T_160569bd_510e_11eb_a60a_00155df1df39row12_col15\" class=\"data row12 col15\" >0.000246</td>\n",
       "                        <td id=\"T_160569bd_510e_11eb_a60a_00155df1df39row12_col16\" class=\"data row12 col16\" >0.000233</td>\n",
       "                        <td id=\"T_160569bd_510e_11eb_a60a_00155df1df39row12_col17\" class=\"data row12 col17\" >0.039623</td>\n",
       "                        <td id=\"T_160569bd_510e_11eb_a60a_00155df1df39row12_col18\" class=\"data row12 col18\" >0.108972</td>\n",
       "            </tr>\n",
       "            <tr>\n",
       "                        <th id=\"T_160569bd_510e_11eb_a60a_00155df1df39level0_row13\" class=\"row_heading level0 row13\" >o_bitrate</th>\n",
       "                        <td id=\"T_160569bd_510e_11eb_a60a_00155df1df39row13_col0\" class=\"data row13 col0\" >0.000114</td>\n",
       "                        <td id=\"T_160569bd_510e_11eb_a60a_00155df1df39row13_col1\" class=\"data row13 col1\" >-0.001030</td>\n",
       "                        <td id=\"T_160569bd_510e_11eb_a60a_00155df1df39row13_col2\" class=\"data row13 col2\" >-0.001011</td>\n",
       "                        <td id=\"T_160569bd_510e_11eb_a60a_00155df1df39row13_col3\" class=\"data row13 col3\" >-0.001384</td>\n",
       "                        <td id=\"T_160569bd_510e_11eb_a60a_00155df1df39row13_col4\" class=\"data row13 col4\" >-0.001817</td>\n",
       "                        <td id=\"T_160569bd_510e_11eb_a60a_00155df1df39row13_col5\" class=\"data row13 col5\" >-0.001206</td>\n",
       "                        <td id=\"T_160569bd_510e_11eb_a60a_00155df1df39row13_col6\" class=\"data row13 col6\" >-0.002261</td>\n",
       "                        <td id=\"T_160569bd_510e_11eb_a60a_00155df1df39row13_col7\" class=\"data row13 col7\" >0.002971</td>\n",
       "                        <td id=\"T_160569bd_510e_11eb_a60a_00155df1df39row13_col8\" class=\"data row13 col8\" >-0.002214</td>\n",
       "                        <td id=\"T_160569bd_510e_11eb_a60a_00155df1df39row13_col9\" class=\"data row13 col9\" >-0.003052</td>\n",
       "                        <td id=\"T_160569bd_510e_11eb_a60a_00155df1df39row13_col10\" class=\"data row13 col10\" >-0.004144</td>\n",
       "                        <td id=\"T_160569bd_510e_11eb_a60a_00155df1df39row13_col11\" class=\"data row13 col11\" >nan</td>\n",
       "                        <td id=\"T_160569bd_510e_11eb_a60a_00155df1df39row13_col12\" class=\"data row13 col12\" >-0.004132</td>\n",
       "                        <td id=\"T_160569bd_510e_11eb_a60a_00155df1df39row13_col13\" class=\"data row13 col13\" >1.000000</td>\n",
       "                        <td id=\"T_160569bd_510e_11eb_a60a_00155df1df39row13_col14\" class=\"data row13 col14\" >-0.000115</td>\n",
       "                        <td id=\"T_160569bd_510e_11eb_a60a_00155df1df39row13_col15\" class=\"data row13 col15\" >0.000010</td>\n",
       "                        <td id=\"T_160569bd_510e_11eb_a60a_00155df1df39row13_col16\" class=\"data row13 col16\" >0.000067</td>\n",
       "                        <td id=\"T_160569bd_510e_11eb_a60a_00155df1df39row13_col17\" class=\"data row13 col17\" >0.001310</td>\n",
       "                        <td id=\"T_160569bd_510e_11eb_a60a_00155df1df39row13_col18\" class=\"data row13 col18\" >0.154949</td>\n",
       "            </tr>\n",
       "            <tr>\n",
       "                        <th id=\"T_160569bd_510e_11eb_a60a_00155df1df39level0_row14\" class=\"row_heading level0 row14\" >o_framerate</th>\n",
       "                        <td id=\"T_160569bd_510e_11eb_a60a_00155df1df39row14_col0\" class=\"data row14 col0\" >0.001177</td>\n",
       "                        <td id=\"T_160569bd_510e_11eb_a60a_00155df1df39row14_col1\" class=\"data row14 col1\" >-0.000175</td>\n",
       "                        <td id=\"T_160569bd_510e_11eb_a60a_00155df1df39row14_col2\" class=\"data row14 col2\" >-0.000141</td>\n",
       "                        <td id=\"T_160569bd_510e_11eb_a60a_00155df1df39row14_col3\" class=\"data row14 col3\" >-0.000232</td>\n",
       "                        <td id=\"T_160569bd_510e_11eb_a60a_00155df1df39row14_col4\" class=\"data row14 col4\" >0.000065</td>\n",
       "                        <td id=\"T_160569bd_510e_11eb_a60a_00155df1df39row14_col5\" class=\"data row14 col5\" >0.000634</td>\n",
       "                        <td id=\"T_160569bd_510e_11eb_a60a_00155df1df39row14_col6\" class=\"data row14 col6\" >0.000499</td>\n",
       "                        <td id=\"T_160569bd_510e_11eb_a60a_00155df1df39row14_col7\" class=\"data row14 col7\" >-0.000233</td>\n",
       "                        <td id=\"T_160569bd_510e_11eb_a60a_00155df1df39row14_col8\" class=\"data row14 col8\" >0.000499</td>\n",
       "                        <td id=\"T_160569bd_510e_11eb_a60a_00155df1df39row14_col9\" class=\"data row14 col9\" >-0.000141</td>\n",
       "                        <td id=\"T_160569bd_510e_11eb_a60a_00155df1df39row14_col10\" class=\"data row14 col10\" >-0.000124</td>\n",
       "                        <td id=\"T_160569bd_510e_11eb_a60a_00155df1df39row14_col11\" class=\"data row14 col11\" >nan</td>\n",
       "                        <td id=\"T_160569bd_510e_11eb_a60a_00155df1df39row14_col12\" class=\"data row14 col12\" >-0.000130</td>\n",
       "                        <td id=\"T_160569bd_510e_11eb_a60a_00155df1df39row14_col13\" class=\"data row14 col13\" >-0.000115</td>\n",
       "                        <td id=\"T_160569bd_510e_11eb_a60a_00155df1df39row14_col14\" class=\"data row14 col14\" >1.000000</td>\n",
       "                        <td id=\"T_160569bd_510e_11eb_a60a_00155df1df39row14_col15\" class=\"data row14 col15\" >0.000523</td>\n",
       "                        <td id=\"T_160569bd_510e_11eb_a60a_00155df1df39row14_col16\" class=\"data row14 col16\" >0.000520</td>\n",
       "                        <td id=\"T_160569bd_510e_11eb_a60a_00155df1df39row14_col17\" class=\"data row14 col17\" >0.002293</td>\n",
       "                        <td id=\"T_160569bd_510e_11eb_a60a_00155df1df39row14_col18\" class=\"data row14 col18\" >0.104926</td>\n",
       "            </tr>\n",
       "            <tr>\n",
       "                        <th id=\"T_160569bd_510e_11eb_a60a_00155df1df39level0_row15\" class=\"row_heading level0 row15\" >o_width</th>\n",
       "                        <td id=\"T_160569bd_510e_11eb_a60a_00155df1df39row15_col0\" class=\"data row15 col0\" >0.000169</td>\n",
       "                        <td id=\"T_160569bd_510e_11eb_a60a_00155df1df39row15_col1\" class=\"data row15 col1\" >-0.000162</td>\n",
       "                        <td id=\"T_160569bd_510e_11eb_a60a_00155df1df39row15_col2\" class=\"data row15 col2\" >-0.000118</td>\n",
       "                        <td id=\"T_160569bd_510e_11eb_a60a_00155df1df39row15_col3\" class=\"data row15 col3\" >-0.000137</td>\n",
       "                        <td id=\"T_160569bd_510e_11eb_a60a_00155df1df39row15_col4\" class=\"data row15 col4\" >-0.000078</td>\n",
       "                        <td id=\"T_160569bd_510e_11eb_a60a_00155df1df39row15_col5\" class=\"data row15 col5\" >0.000780</td>\n",
       "                        <td id=\"T_160569bd_510e_11eb_a60a_00155df1df39row15_col6\" class=\"data row15 col6\" >0.000215</td>\n",
       "                        <td id=\"T_160569bd_510e_11eb_a60a_00155df1df39row15_col7\" class=\"data row15 col7\" >-0.000092</td>\n",
       "                        <td id=\"T_160569bd_510e_11eb_a60a_00155df1df39row15_col8\" class=\"data row15 col8\" >0.000222</td>\n",
       "                        <td id=\"T_160569bd_510e_11eb_a60a_00155df1df39row15_col9\" class=\"data row15 col9\" >-0.000093</td>\n",
       "                        <td id=\"T_160569bd_510e_11eb_a60a_00155df1df39row15_col10\" class=\"data row15 col10\" >0.000271</td>\n",
       "                        <td id=\"T_160569bd_510e_11eb_a60a_00155df1df39row15_col11\" class=\"data row15 col11\" >nan</td>\n",
       "                        <td id=\"T_160569bd_510e_11eb_a60a_00155df1df39row15_col12\" class=\"data row15 col12\" >0.000246</td>\n",
       "                        <td id=\"T_160569bd_510e_11eb_a60a_00155df1df39row15_col13\" class=\"data row15 col13\" >0.000010</td>\n",
       "                        <td id=\"T_160569bd_510e_11eb_a60a_00155df1df39row15_col14\" class=\"data row15 col14\" >0.000523</td>\n",
       "                        <td id=\"T_160569bd_510e_11eb_a60a_00155df1df39row15_col15\" class=\"data row15 col15\" >1.000000</td>\n",
       "                        <td id=\"T_160569bd_510e_11eb_a60a_00155df1df39row15_col16\" class=\"data row15 col16\" >0.994490</td>\n",
       "                        <td id=\"T_160569bd_510e_11eb_a60a_00155df1df39row15_col17\" class=\"data row15 col17\" >0.387717</td>\n",
       "                        <td id=\"T_160569bd_510e_11eb_a60a_00155df1df39row15_col18\" class=\"data row15 col18\" >0.518897</td>\n",
       "            </tr>\n",
       "            <tr>\n",
       "                        <th id=\"T_160569bd_510e_11eb_a60a_00155df1df39level0_row16\" class=\"row_heading level0 row16\" >o_height</th>\n",
       "                        <td id=\"T_160569bd_510e_11eb_a60a_00155df1df39row16_col0\" class=\"data row16 col0\" >0.000472</td>\n",
       "                        <td id=\"T_160569bd_510e_11eb_a60a_00155df1df39row16_col1\" class=\"data row16 col1\" >-0.000136</td>\n",
       "                        <td id=\"T_160569bd_510e_11eb_a60a_00155df1df39row16_col2\" class=\"data row16 col2\" >-0.000102</td>\n",
       "                        <td id=\"T_160569bd_510e_11eb_a60a_00155df1df39row16_col3\" class=\"data row16 col3\" >-0.000134</td>\n",
       "                        <td id=\"T_160569bd_510e_11eb_a60a_00155df1df39row16_col4\" class=\"data row16 col4\" >-0.000088</td>\n",
       "                        <td id=\"T_160569bd_510e_11eb_a60a_00155df1df39row16_col5\" class=\"data row16 col5\" >0.000877</td>\n",
       "                        <td id=\"T_160569bd_510e_11eb_a60a_00155df1df39row16_col6\" class=\"data row16 col6\" >0.000365</td>\n",
       "                        <td id=\"T_160569bd_510e_11eb_a60a_00155df1df39row16_col7\" class=\"data row16 col7\" >-0.000052</td>\n",
       "                        <td id=\"T_160569bd_510e_11eb_a60a_00155df1df39row16_col8\" class=\"data row16 col8\" >0.000372</td>\n",
       "                        <td id=\"T_160569bd_510e_11eb_a60a_00155df1df39row16_col9\" class=\"data row16 col9\" >-0.000117</td>\n",
       "                        <td id=\"T_160569bd_510e_11eb_a60a_00155df1df39row16_col10\" class=\"data row16 col10\" >0.000259</td>\n",
       "                        <td id=\"T_160569bd_510e_11eb_a60a_00155df1df39row16_col11\" class=\"data row16 col11\" >nan</td>\n",
       "                        <td id=\"T_160569bd_510e_11eb_a60a_00155df1df39row16_col12\" class=\"data row16 col12\" >0.000233</td>\n",
       "                        <td id=\"T_160569bd_510e_11eb_a60a_00155df1df39row16_col13\" class=\"data row16 col13\" >0.000067</td>\n",
       "                        <td id=\"T_160569bd_510e_11eb_a60a_00155df1df39row16_col14\" class=\"data row16 col14\" >0.000520</td>\n",
       "                        <td id=\"T_160569bd_510e_11eb_a60a_00155df1df39row16_col15\" class=\"data row16 col15\" >0.994490</td>\n",
       "                        <td id=\"T_160569bd_510e_11eb_a60a_00155df1df39row16_col16\" class=\"data row16 col16\" >1.000000</td>\n",
       "                        <td id=\"T_160569bd_510e_11eb_a60a_00155df1df39row16_col17\" class=\"data row16 col17\" >0.381313</td>\n",
       "                        <td id=\"T_160569bd_510e_11eb_a60a_00155df1df39row16_col18\" class=\"data row16 col18\" >0.515267</td>\n",
       "            </tr>\n",
       "            <tr>\n",
       "                        <th id=\"T_160569bd_510e_11eb_a60a_00155df1df39level0_row17\" class=\"row_heading level0 row17\" >umem</th>\n",
       "                        <td id=\"T_160569bd_510e_11eb_a60a_00155df1df39row17_col0\" class=\"data row17 col0\" >0.005061</td>\n",
       "                        <td id=\"T_160569bd_510e_11eb_a60a_00155df1df39row17_col1\" class=\"data row17 col1\" >0.045598</td>\n",
       "                        <td id=\"T_160569bd_510e_11eb_a60a_00155df1df39row17_col2\" class=\"data row17 col2\" >0.051701</td>\n",
       "                        <td id=\"T_160569bd_510e_11eb_a60a_00155df1df39row17_col3\" class=\"data row17 col3\" >0.054584</td>\n",
       "                        <td id=\"T_160569bd_510e_11eb_a60a_00155df1df39row17_col4\" class=\"data row17 col4\" >0.060531</td>\n",
       "                        <td id=\"T_160569bd_510e_11eb_a60a_00155df1df39row17_col5\" class=\"data row17 col5\" >0.033843</td>\n",
       "                        <td id=\"T_160569bd_510e_11eb_a60a_00155df1df39row17_col6\" class=\"data row17 col6\" >0.028011</td>\n",
       "                        <td id=\"T_160569bd_510e_11eb_a60a_00155df1df39row17_col7\" class=\"data row17 col7\" >0.004174</td>\n",
       "                        <td id=\"T_160569bd_510e_11eb_a60a_00155df1df39row17_col8\" class=\"data row17 col8\" >0.028182</td>\n",
       "                        <td id=\"T_160569bd_510e_11eb_a60a_00155df1df39row17_col9\" class=\"data row17 col9\" >0.041272</td>\n",
       "                        <td id=\"T_160569bd_510e_11eb_a60a_00155df1df39row17_col10\" class=\"data row17 col10\" >0.038690</td>\n",
       "                        <td id=\"T_160569bd_510e_11eb_a60a_00155df1df39row17_col11\" class=\"data row17 col11\" >nan</td>\n",
       "                        <td id=\"T_160569bd_510e_11eb_a60a_00155df1df39row17_col12\" class=\"data row17 col12\" >0.039623</td>\n",
       "                        <td id=\"T_160569bd_510e_11eb_a60a_00155df1df39row17_col13\" class=\"data row17 col13\" >0.001310</td>\n",
       "                        <td id=\"T_160569bd_510e_11eb_a60a_00155df1df39row17_col14\" class=\"data row17 col14\" >0.002293</td>\n",
       "                        <td id=\"T_160569bd_510e_11eb_a60a_00155df1df39row17_col15\" class=\"data row17 col15\" >0.387717</td>\n",
       "                        <td id=\"T_160569bd_510e_11eb_a60a_00155df1df39row17_col16\" class=\"data row17 col16\" >0.381313</td>\n",
       "                        <td id=\"T_160569bd_510e_11eb_a60a_00155df1df39row17_col17\" class=\"data row17 col17\" >1.000000</td>\n",
       "                        <td id=\"T_160569bd_510e_11eb_a60a_00155df1df39row17_col18\" class=\"data row17 col18\" >0.658152</td>\n",
       "            </tr>\n",
       "            <tr>\n",
       "                        <th id=\"T_160569bd_510e_11eb_a60a_00155df1df39level0_row18\" class=\"row_heading level0 row18\" >utime</th>\n",
       "                        <td id=\"T_160569bd_510e_11eb_a60a_00155df1df39row18_col0\" class=\"data row18 col0\" >0.003637</td>\n",
       "                        <td id=\"T_160569bd_510e_11eb_a60a_00155df1df39row18_col1\" class=\"data row18 col1\" >0.152003</td>\n",
       "                        <td id=\"T_160569bd_510e_11eb_a60a_00155df1df39row18_col2\" class=\"data row18 col2\" >0.151514</td>\n",
       "                        <td id=\"T_160569bd_510e_11eb_a60a_00155df1df39row18_col3\" class=\"data row18 col3\" >0.177376</td>\n",
       "                        <td id=\"T_160569bd_510e_11eb_a60a_00155df1df39row18_col4\" class=\"data row18 col4\" >0.090951</td>\n",
       "                        <td id=\"T_160569bd_510e_11eb_a60a_00155df1df39row18_col5\" class=\"data row18 col5\" >0.019384</td>\n",
       "                        <td id=\"T_160569bd_510e_11eb_a60a_00155df1df39row18_col6\" class=\"data row18 col6\" >0.033875</td>\n",
       "                        <td id=\"T_160569bd_510e_11eb_a60a_00155df1df39row18_col7\" class=\"data row18 col7\" >0.001768</td>\n",
       "                        <td id=\"T_160569bd_510e_11eb_a60a_00155df1df39row18_col8\" class=\"data row18 col8\" >0.033760</td>\n",
       "                        <td id=\"T_160569bd_510e_11eb_a60a_00155df1df39row18_col9\" class=\"data row18 col9\" >0.075390</td>\n",
       "                        <td id=\"T_160569bd_510e_11eb_a60a_00155df1df39row18_col10\" class=\"data row18 col10\" >0.109510</td>\n",
       "                        <td id=\"T_160569bd_510e_11eb_a60a_00155df1df39row18_col11\" class=\"data row18 col11\" >nan</td>\n",
       "                        <td id=\"T_160569bd_510e_11eb_a60a_00155df1df39row18_col12\" class=\"data row18 col12\" >0.108972</td>\n",
       "                        <td id=\"T_160569bd_510e_11eb_a60a_00155df1df39row18_col13\" class=\"data row18 col13\" >0.154949</td>\n",
       "                        <td id=\"T_160569bd_510e_11eb_a60a_00155df1df39row18_col14\" class=\"data row18 col14\" >0.104926</td>\n",
       "                        <td id=\"T_160569bd_510e_11eb_a60a_00155df1df39row18_col15\" class=\"data row18 col15\" >0.518897</td>\n",
       "                        <td id=\"T_160569bd_510e_11eb_a60a_00155df1df39row18_col16\" class=\"data row18 col16\" >0.515267</td>\n",
       "                        <td id=\"T_160569bd_510e_11eb_a60a_00155df1df39row18_col17\" class=\"data row18 col17\" >0.658152</td>\n",
       "                        <td id=\"T_160569bd_510e_11eb_a60a_00155df1df39row18_col18\" class=\"data row18 col18\" >1.000000</td>\n",
       "            </tr>\n",
       "    </tbody></table>"
      ],
      "text/plain": [
       "<pandas.io.formats.style.Styler at 0x183b7e2bf70>"
      ]
     },
     "execution_count": 33,
     "metadata": {},
     "output_type": "execute_result"
    }
   ],
   "source": [
    "corr = dfFinal.corr()\n",
    "corr.style.background_gradient(cmap='coolwarm')"
   ]
  },
  {
   "cell_type": "markdown",
   "metadata": {},
   "source": [
    "### Zoom sur la corrélation de la variable utime avec les autres variables\n"
   ]
  },
  {
   "cell_type": "code",
   "execution_count": 34,
   "metadata": {},
   "outputs": [
    {
     "data": {
      "text/plain": [
       "b              0.001768\n",
       "duration       0.003637\n",
       "i              0.019384\n",
       "frames         0.033760\n",
       "p              0.033875\n",
       "i_size         0.075390\n",
       "framerate      0.090951\n",
       "o_framerate    0.104926\n",
       "size           0.108972\n",
       "p_size         0.109510\n",
       "height         0.151514\n",
       "width          0.152003\n",
       "o_bitrate      0.154949\n",
       "bitrate        0.177376\n",
       "o_height       0.515267\n",
       "o_width        0.518897\n",
       "umem           0.658152\n",
       "utime          1.000000\n",
       "b_size              NaN\n",
       "Name: utime, dtype: float64"
      ]
     },
     "execution_count": 34,
     "metadata": {},
     "output_type": "execute_result"
    }
   ],
   "source": [
    "utimeCorrMatrix = dfFinal.corr().utime.sort_values()\n",
    "utimeCorrMatrix"
   ]
  },
  {
   "cell_type": "markdown",
   "metadata": {},
   "source": [
    "### Zoom sur les corrélations entre utime et certaines variables (umem, o_width et o_heigt,duration )"
   ]
  },
  {
   "cell_type": "markdown",
   "metadata": {},
   "source": [
    "####  a) umem"
   ]
  },
  {
   "cell_type": "code",
   "execution_count": 35,
   "metadata": {},
   "outputs": [
    {
     "data": {
      "image/png": "[encoded data removed]",
      "text/plain": [
       "<Figure size 436.5x360 with 1 Axes>"
      ]
     },
     "metadata": {
      "needs_background": "light"
     },
     "output_type": "display_data"
    }
   ],
   "source": [
    "seaborn.relplot(x=\"utime\", y=\"umem\", hue=\"o_codec\", data=dfFinal);"
   ]
  },
  {
   "cell_type": "code",
   "execution_count": 36,
   "metadata": {},
   "outputs": [
    {
     "data": {
      "image/png": "[encoded data removed]",
      "text/plain": [
       "<Figure size 430.75x360 with 1 Axes>"
      ]
     },
     "metadata": {
      "needs_background": "light"
     },
     "output_type": "display_data"
    }
   ],
   "source": [
    "seaborn.relplot(x=\"utime\", y=\"umem\", hue=\"codec\", data=dfFinal);"
   ]
  },
  {
   "cell_type": "markdown",
   "metadata": {},
   "source": [
    "On remarque ici que plus le temps de transcodage est long, plus la mémoire allouée pour celui-ci est grande.De plus on observe aussi, de la même manière que précedemment, que le trancodage avec des o_codec h264 ont besoin en général une mémoire allouée plus grande que les autres transcodages avec d'autres codec de sortie.\n",
    "On en déduit donc que le type du codec de sortie peut avoir une influence sur le temps de transcodage et la mémoire allouée et que donc les 2 sont corélées."
   ]
  },
  {
   "cell_type": "markdown",
   "metadata": {},
   "source": [
    "#### b) o_width et o_height\n"
   ]
  },
  {
   "cell_type": "code",
   "execution_count": 4,
   "metadata": {},
   "outputs": [
    {
     "data": {
      "image/png": "[encoded data removed]",
      "text/plain": [
       "<Figure size 1440x360 with 4 Axes>"
      ]
     },
     "metadata": {
      "needs_background": "light"
     },
     "output_type": "display_data"
    },
    {
     "data": {
      "image/png": "[encoded data removed]",
      "text/plain": [
       "<Figure size 720x216 with 2 Axes>"
      ]
     },
     "metadata": {
      "needs_background": "light"
     },
     "output_type": "display_data"
    }
   ],
   "source": [
    "seaborn.relplot(x=\"o_width\", y=\"utime\",\n",
    "            col=\"o_codec\", data=dfFinal);\n",
    "\n",
    "fig, (ax1, ax2) = plt.subplots(ncols=2, sharey=True,figsize=(10, 3)) "
   ]
  },
  {
   "cell_type": "code",
   "execution_count": 5,
   "metadata": {},
   "outputs": [
    {
     "data": {
      "image/png": "[encoded data removed]",
      "text/plain": [
       "<Figure size 1440x360 with 4 Axes>"
      ]
     },
     "metadata": {
      "needs_background": "light"
     },
     "output_type": "display_data"
    }
   ],
   "source": [
    "seaborn.relplot(x=\"o_height\", y=\"utime\",\n",
    "            col=\"o_codec\", data=dfFinal);"
   ]
  },
  {
   "cell_type": "markdown",
   "metadata": {},
   "source": [
    "On remarque ici aussi les observation par rapport au type de o_codec. \n",
    "En ce qui concerne la corrélation entre o_width,o_eight et utime, on observe pour chaque type de o_codec une augmentation du temps de trenscodage quand la largeur en pixel de la vidéo augmente.Il en est de meme pour la hauteur.On en déduit que plus la résolution de la vidéo après transcodage augmente plus le temps de transcodage est long."
   ]
  },
  {
   "cell_type": "markdown",
   "metadata": {},
   "source": [
    "#### c) birate "
   ]
  },
  {
   "cell_type": "code",
   "execution_count": null,
   "metadata": {},
   "outputs": [],
   "source": [
    "seaborn.relplot(x=\"o_bitrate\", y=\"utime\",color= \"red\", data=dfFinal);"
   ]
  },
  {
   "cell_type": "markdown",
   "metadata": {},
   "source": [
    "Ici nous pouvons voir qu'il a une corrélation entre le bitrate de sortie de la vidéo et le temps de transcodage.Cependant, il est un peu moins frappant que pour les variables précedentes."
   ]
  },
  {
   "cell_type": "markdown",
   "metadata": {},
   "source": [
    "#### d) duration  "
   ]
  },
  {
   "cell_type": "code",
   "execution_count": 38,
   "metadata": {},
   "outputs": [
    {
     "data": {
      "image/png": "[encoded data removed]",
      "text/plain": [
       "<Figure size 360x360 with 1 Axes>"
      ]
     },
     "metadata": {
      "needs_background": "light"
     },
     "output_type": "display_data"
    }
   ],
   "source": [
    "seaborn.relplot(x=\"frames\", y=\"utime\",color= \"green\", data=dfFinal);"
   ]
  },
  {
   "cell_type": "markdown",
   "metadata": {},
   "source": [
    "La corrélation entre les 2 variables n'est pas flangrantes et nous ne pouvons pas réellement émmetre d'hypthèse"
   ]
  },
  {
   "cell_type": "markdown",
   "metadata": {
    "id": "BjSnZQ-XEsyc"
   },
   "source": [
    "# III) Modélisation"
   ]
  },
  {
   "cell_type": "markdown",
   "metadata": {
    "id": "YG4cY0rNEsyc"
   },
   "source": [
    " TARGET : Utime = temps de transcodage"
   ]
  },
  {
   "cell_type": "markdown",
   "metadata": {
    "id": "7bFxAVrXP52g"
   },
   "source": [
    "## III.1) Fonction utile\n"
   ]
  },
  {
   "cell_type": "markdown",
   "metadata": {
    "id": "RvYjSSGlExTR"
   },
   "source": [
    "  La fonction print_time sert à afficher l'heure à laquelle on execute la fonction"
   ]
  },
  {
   "cell_type": "code",
   "execution_count": 50,
   "metadata": {
    "colab": {
     "base_uri": "https://localhost:8080/"
    },
    "id": "_QZdRLboP8LM",
    "outputId": "99b71744-c40b-4e71-acad-e0734446c9b0"
   },
   "outputs": [
    {
     "name": "stdout",
     "output_type": "stream",
     "text": [
      "19:13:30\n"
     ]
    },
    {
     "data": {
      "text/plain": [
       "1610043210.6945577"
      ]
     },
     "execution_count": 50,
     "metadata": {},
     "output_type": "execute_result"
    }
   ],
   "source": [
    "def print_time():\n",
    "    \"\"\"\n",
    "    Affiche et retourne l'heure de la machine.\n",
    "    Utilisé pour mesurer le temps d'execution du classifieur.\n",
    "    \"\"\"\n",
    "    import time\n",
    "    import datetime\n",
    "    t = datetime.datetime.now().time()\n",
    "    print(t.isoformat()[:8])\n",
    "    return time.time()\n",
    "print_time()"
   ]
  },
  {
   "cell_type": "code",
   "execution_count": 70,
   "metadata": {
    "id": "Dt3eSElsO3tB"
   },
   "outputs": [],
   "source": [
    "from sklearn.model_selection import train_test_split\n",
    "\n",
    "from sklearn import datasets, metrics\n",
    "import seaborn as sns\n",
    "import pickle \n",
    "from sklearn.ensemble import RandomForestRegressor\n",
    "from sklearn.neighbors import KNeighborsRegressor\n",
    "#import mglearn \n",
    "import matplotlib.pyplot as plt\n",
    "from sklearn import datasets, linear_model\n",
    "from sklearn.metrics import mean_squared_error, r2_score\n",
    "import time\n",
    "import datetime\n",
    "#import xgboost as xg \n",
    "\n",
    "from sklearn import datasets, metrics\n",
    "import seaborn as sns\n",
    "import pickle \n",
    "from sklearn.ensemble import RandomForestRegressor\n",
    "from sklearn.neighbors import KNeighborsRegressor\n",
    "import mglearn \n",
    "import matplotlib.pyplot as plt\n",
    "from sklearn.model_selection import GridSearchCV\n",
    "from sklearn.model_selection import ShuffleSplit\n",
    "from sklearn.ensemble import RandomForestRegressor\n",
    "from sklearn.ensemble import AdaBoostRegressor\n",
    "from sklearn.datasets import make_regression\n",
    "import xgboost as xg "
   ]
  },
  {
   "cell_type": "markdown",
   "metadata": {
    "id": "BAA1sTvfkGEo"
   },
   "source": [
    "## III.2) Transformation du dataset pour les modèles\n"
   ]
  },
  {
   "cell_type": "markdown",
   "metadata": {
    "id": "A8FjY9JHFNIz"
   },
   "source": [
    "Le dataset dispose de colonnes string qui poserons problème pour l’exécution des modèles on décide de créer des colonnes pour chaque string qui ressort 0 si il n’y a pas la valeur et 1 sinon (one hot encoding)"
   ]
  },
  {
   "cell_type": "code",
   "execution_count": 39,
   "metadata": {
    "id": "Tc330ajliAQU"
   },
   "outputs": [
    {
     "name": "stdout",
     "output_type": "stream",
     "text": [
      "Index(['duration', 'width', 'height', 'bitrate', 'framerate', 'i', 'p', 'b',\n",
      "       'frames', 'i_size', 'p_size', 'size', 'o_bitrate', 'o_framerate',\n",
      "       'o_width', 'o_height', 'umem', 'utime', 'Codec_flv', 'Codec_h264',\n",
      "       'Codec_mpeg4', 'Codec_vp8', 'category_Autos & Vehicles',\n",
      "       'category_Comedy', 'category_Education', 'category_Entertainment',\n",
      "       'category_Film & Animation', 'category_Gaming',\n",
      "       'category_Howto & Style', 'category_Music', 'category_News & Politics',\n",
      "       'category_Nonprofits & Activis', 'category_People & Blogs',\n",
      "       'category_Pets & Animals', 'category_Science & Technology',\n",
      "       'category_Shows', 'category_Sports', 'category_Travel & Events',\n",
      "       'o_Codec_flv', 'o_Codec_h264', 'o_Codec_mpeg4', 'o_Codec_vp8'],\n",
      "      dtype='object')\n"
     ]
    }
   ],
   "source": [
    "codec_model = pd.get_dummies(dfFinal.codec, prefix='Codec')\n",
    "o_codec_model = pd.get_dummies(dfFinal.o_codec, prefix='o_Codec')\n",
    "category_model = pd.get_dummies(dfFinal.category, prefix='category')\n",
    "\n",
    "dfForModel = pd.concat([dfFinal, codec_model,category_model,o_codec_model], axis=1)\n",
    "dfForModel = dfForModel.drop(['id', 'codec', 'o_codec', 'category', 'b_size'], axis=1)\n",
    "print(dfForModel.columns)"
   ]
  },
  {
   "cell_type": "code",
   "execution_count": 40,
   "metadata": {
    "colab": {
     "base_uri": "https://localhost:8080/",
     "height": 232
    },
    "id": "JKBzs2QfiNjC",
    "outputId": "955da4e3-ed57-40fc-f9d4-d53f90164586"
   },
   "outputs": [
    {
     "data": {
      "text/html": [
       "<div>\n",
       "<style scoped>\n",
       "    .dataframe tbody tr th:only-of-type {\n",
       "        vertical-align: middle;\n",
       "    }\n",
       "\n",
       "    .dataframe tbody tr th {\n",
       "        vertical-align: top;\n",
       "    }\n",
       "\n",
       "    .dataframe thead th {\n",
       "        text-align: right;\n",
       "    }\n",
       "</style>\n",
       "<table border=\"1\" class=\"dataframe\">\n",
       "  <thead>\n",
       "    <tr style=\"text-align: right;\">\n",
       "      <th></th>\n",
       "      <th>duration</th>\n",
       "      <th>width</th>\n",
       "      <th>height</th>\n",
       "      <th>bitrate</th>\n",
       "      <th>framerate</th>\n",
       "      <th>i</th>\n",
       "      <th>p</th>\n",
       "      <th>b</th>\n",
       "      <th>frames</th>\n",
       "      <th>i_size</th>\n",
       "      <th>...</th>\n",
       "      <th>category_People &amp; Blogs</th>\n",
       "      <th>category_Pets &amp; Animals</th>\n",
       "      <th>category_Science &amp; Technology</th>\n",
       "      <th>category_Shows</th>\n",
       "      <th>category_Sports</th>\n",
       "      <th>category_Travel &amp; Events</th>\n",
       "      <th>o_Codec_flv</th>\n",
       "      <th>o_Codec_h264</th>\n",
       "      <th>o_Codec_mpeg4</th>\n",
       "      <th>o_Codec_vp8</th>\n",
       "    </tr>\n",
       "  </thead>\n",
       "  <tbody>\n",
       "    <tr>\n",
       "      <th>0</th>\n",
       "      <td>130.35667</td>\n",
       "      <td>176</td>\n",
       "      <td>144</td>\n",
       "      <td>54590</td>\n",
       "      <td>12.0</td>\n",
       "      <td>27</td>\n",
       "      <td>1537</td>\n",
       "      <td>0</td>\n",
       "      <td>1564</td>\n",
       "      <td>64483</td>\n",
       "      <td>...</td>\n",
       "      <td>0</td>\n",
       "      <td>0</td>\n",
       "      <td>0</td>\n",
       "      <td>0</td>\n",
       "      <td>0</td>\n",
       "      <td>0</td>\n",
       "      <td>0</td>\n",
       "      <td>0</td>\n",
       "      <td>1</td>\n",
       "      <td>0</td>\n",
       "    </tr>\n",
       "    <tr>\n",
       "      <th>1</th>\n",
       "      <td>130.35667</td>\n",
       "      <td>176</td>\n",
       "      <td>144</td>\n",
       "      <td>54590</td>\n",
       "      <td>12.0</td>\n",
       "      <td>27</td>\n",
       "      <td>1537</td>\n",
       "      <td>0</td>\n",
       "      <td>1564</td>\n",
       "      <td>64483</td>\n",
       "      <td>...</td>\n",
       "      <td>0</td>\n",
       "      <td>0</td>\n",
       "      <td>0</td>\n",
       "      <td>0</td>\n",
       "      <td>0</td>\n",
       "      <td>0</td>\n",
       "      <td>0</td>\n",
       "      <td>0</td>\n",
       "      <td>1</td>\n",
       "      <td>0</td>\n",
       "    </tr>\n",
       "    <tr>\n",
       "      <th>2</th>\n",
       "      <td>130.35667</td>\n",
       "      <td>176</td>\n",
       "      <td>144</td>\n",
       "      <td>54590</td>\n",
       "      <td>12.0</td>\n",
       "      <td>27</td>\n",
       "      <td>1537</td>\n",
       "      <td>0</td>\n",
       "      <td>1564</td>\n",
       "      <td>64483</td>\n",
       "      <td>...</td>\n",
       "      <td>0</td>\n",
       "      <td>0</td>\n",
       "      <td>0</td>\n",
       "      <td>0</td>\n",
       "      <td>0</td>\n",
       "      <td>0</td>\n",
       "      <td>0</td>\n",
       "      <td>0</td>\n",
       "      <td>1</td>\n",
       "      <td>0</td>\n",
       "    </tr>\n",
       "    <tr>\n",
       "      <th>3</th>\n",
       "      <td>130.35667</td>\n",
       "      <td>176</td>\n",
       "      <td>144</td>\n",
       "      <td>54590</td>\n",
       "      <td>12.0</td>\n",
       "      <td>27</td>\n",
       "      <td>1537</td>\n",
       "      <td>0</td>\n",
       "      <td>1564</td>\n",
       "      <td>64483</td>\n",
       "      <td>...</td>\n",
       "      <td>0</td>\n",
       "      <td>0</td>\n",
       "      <td>0</td>\n",
       "      <td>0</td>\n",
       "      <td>0</td>\n",
       "      <td>0</td>\n",
       "      <td>0</td>\n",
       "      <td>0</td>\n",
       "      <td>1</td>\n",
       "      <td>0</td>\n",
       "    </tr>\n",
       "    <tr>\n",
       "      <th>4</th>\n",
       "      <td>130.35667</td>\n",
       "      <td>176</td>\n",
       "      <td>144</td>\n",
       "      <td>54590</td>\n",
       "      <td>12.0</td>\n",
       "      <td>27</td>\n",
       "      <td>1537</td>\n",
       "      <td>0</td>\n",
       "      <td>1564</td>\n",
       "      <td>64483</td>\n",
       "      <td>...</td>\n",
       "      <td>0</td>\n",
       "      <td>0</td>\n",
       "      <td>0</td>\n",
       "      <td>0</td>\n",
       "      <td>0</td>\n",
       "      <td>0</td>\n",
       "      <td>0</td>\n",
       "      <td>0</td>\n",
       "      <td>1</td>\n",
       "      <td>0</td>\n",
       "    </tr>\n",
       "  </tbody>\n",
       "</table>\n",
       "<p>5 rows × 42 columns</p>\n",
       "</div>"
      ],
      "text/plain": [
       "    duration  width  height  bitrate  framerate   i     p  b  frames  i_size  \\\n",
       "0  130.35667    176     144    54590       12.0  27  1537  0    1564   64483   \n",
       "1  130.35667    176     144    54590       12.0  27  1537  0    1564   64483   \n",
       "2  130.35667    176     144    54590       12.0  27  1537  0    1564   64483   \n",
       "3  130.35667    176     144    54590       12.0  27  1537  0    1564   64483   \n",
       "4  130.35667    176     144    54590       12.0  27  1537  0    1564   64483   \n",
       "\n",
       "   ...  category_People & Blogs  category_Pets & Animals  \\\n",
       "0  ...                        0                        0   \n",
       "1  ...                        0                        0   \n",
       "2  ...                        0                        0   \n",
       "3  ...                        0                        0   \n",
       "4  ...                        0                        0   \n",
       "\n",
       "   category_Science & Technology  category_Shows  category_Sports  \\\n",
       "0                              0               0                0   \n",
       "1                              0               0                0   \n",
       "2                              0               0                0   \n",
       "3                              0               0                0   \n",
       "4                              0               0                0   \n",
       "\n",
       "   category_Travel & Events  o_Codec_flv  o_Codec_h264  o_Codec_mpeg4  \\\n",
       "0                         0            0             0              1   \n",
       "1                         0            0             0              1   \n",
       "2                         0            0             0              1   \n",
       "3                         0            0             0              1   \n",
       "4                         0            0             0              1   \n",
       "\n",
       "   o_Codec_vp8  \n",
       "0            0  \n",
       "1            0  \n",
       "2            0  \n",
       "3            0  \n",
       "4            0  \n",
       "\n",
       "[5 rows x 42 columns]"
      ]
     },
     "execution_count": 40,
     "metadata": {},
     "output_type": "execute_result"
    }
   ],
   "source": [
    "dfForModel.head()"
   ]
  },
  {
   "cell_type": "code",
   "execution_count": 46,
   "metadata": {},
   "outputs": [
    {
     "data": {
      "text/plain": [
       "Index(['duration', 'width', 'height', 'bitrate', 'framerate', 'i', 'p', 'b',\n",
       "       'frames', 'i_size', 'p_size', 'size', 'o_bitrate', 'o_framerate',\n",
       "       'o_width', 'o_height', 'umem', 'utime', 'Codec_flv', 'Codec_h264',\n",
       "       'Codec_mpeg4', 'Codec_vp8', 'category_Autos & Vehicles',\n",
       "       'category_Comedy', 'category_Education', 'category_Entertainment',\n",
       "       'category_Film & Animation', 'category_Gaming',\n",
       "       'category_Howto & Style', 'category_Music', 'category_News & Politics',\n",
       "       'category_Nonprofits & Activis', 'category_People & Blogs',\n",
       "       'category_Pets & Animals', 'category_Science & Technology',\n",
       "       'category_Shows', 'category_Sports', 'category_Travel & Events',\n",
       "       'o_Codec_flv', 'o_Codec_h264', 'o_Codec_mpeg4', 'o_Codec_vp8'],\n",
       "      dtype='object')"
      ]
     },
     "execution_count": 46,
     "metadata": {},
     "output_type": "execute_result"
    }
   ],
   "source": [
    "dfForModel.columns"
   ]
  },
  {
   "cell_type": "markdown",
   "metadata": {},
   "source": [
    "## III.3) Split en train et test"
   ]
  },
  {
   "cell_type": "markdown",
   "metadata": {
    "id": "liE5mbc5FcNb"
   },
   "source": [
    "On sépare ensuite le dataset en deux X qui correspond au features et Y la target a prédire\n",
    "On sépare ensuite le dataset en train et test en 80% / 20%\n"
   ]
  },
  {
   "cell_type": "code",
   "execution_count": 45,
   "metadata": {
    "id": "VanpkeW1orGX"
   },
   "outputs": [],
   "source": [
    "X=dfForModel\n",
    "X=X.drop([\"utime\"],1)\n",
    "Y=dfForModel['utime']\n",
    "Y=pd.DataFrame(Y)\n",
    "X_train, X_test, Y_train, Y_test = train_test_split(X, Y, test_size=0.20)"
   ]
  },
  {
   "cell_type": "markdown",
   "metadata": {},
   "source": [
    "## III.4)  Modèles testés"
   ]
  },
  {
   "cell_type": "markdown",
   "metadata": {
    "id": "7aW_DYQhbsuU"
   },
   "source": [
    "Notre problème est un problème de regression car la target à prédire n'a pas de valeurs binaire mais des float. Nous décidons de tester plusieurs modèles:\n",
    "- Régression Linéaire\n",
    "- Random Forest\n",
    "- GridSearch avec Random Forest\n",
    "- KNN\n",
    "- XGBOOST\n",
    "\n",
    "Nous choisissons Mean_square_error(MSE) ainsi que l'accuracy R² comme évaluateur pour tous nos modèles. Un MSE parfait vaut 0 et un R² parfait vaut 1"
   ]
  },
  {
   "cell_type": "markdown",
   "metadata": {},
   "source": [
    "-------------------------------------------------------------------------------------------------------------------------------\n",
    "### III.4.1)Régression linéaire\n",
    "-------------------------------------------------------------------------------------------------------------------------------"
   ]
  },
  {
   "cell_type": "markdown",
   "metadata": {},
   "source": [
    "On fit le modèle au train set et on calcul le R2 et le MSE."
   ]
  },
  {
   "cell_type": "code",
   "execution_count": 102,
   "metadata": {},
   "outputs": [
    {
     "name": "stdout",
     "output_type": "stream",
     "text": [
      "22:06:43\n",
      "22:06:43\n",
      "Coefficients: \n",
      " [[ 9.02778217e-04  6.71218091e-03 -8.55810934e-03  1.41417900e-06\n",
      "   1.24698209e-01  1.15785101e-03 -4.89791225e-04 -2.70031508e-04\n",
      "   3.98152633e-04 -9.24379407e-07 -7.70703976e-07  7.69012118e-07\n",
      "   1.43707536e-06  2.54262431e-01  6.69320902e-03  5.05909555e-03\n",
      "   7.36945526e-05  8.52264621e-02 -5.09918907e-02  3.25446149e-01\n",
      "  -3.59680721e-01 -1.25265773e+00 -2.38491759e+00  9.12948362e+00\n",
      "  -9.59889775e-01 -3.56346656e+00  3.71396111e+00  1.28717368e+01\n",
      "  -3.02462484e+00 -4.44957981e-01 -3.64010267e+00 -1.27825184e+00\n",
      "  -1.41581305e+00 -4.63968042e+00 -1.95071912e+00 -2.54516995e+00\n",
      "   1.38507000e+00 -5.82186687e+00  5.95851270e+00 -3.18530006e+00\n",
      "   3.04865423e+00]]\n",
      "Mean squared error: 89.66\n",
      "R2: 0.66\n",
      "\n",
      "Duration time : 0.033498525619506836\n"
     ]
    }
   ],
   "source": [
    "mean_sqrt_error_linearReg=[]\n",
    "acc_reg_lin = []\n",
    "\n",
    "# Create linear regression object\n",
    "regr = linear_model.LinearRegression()\n",
    "\n",
    "# Train the model using the training sets\n",
    "regr.fit(X_train, Y_train)\n",
    "\n",
    "start_time = print_time()\n",
    "#Make predictions using the testing set\n",
    "y_pred = regr.predict(X_test)\n",
    "end_time = print_time()\n",
    "\n",
    "\n",
    "# The coefficients\n",
    "print('Coefficients: \\n', regr.coef_)\n",
    "# The mean squared error\n",
    "print('Mean squared error: %.2f'\n",
    "      % mean_squared_error(Y_test, y_pred))\n",
    "# The coefficient of determination: 1 is perfect prediction\n",
    "print('R2: %.2f'\n",
    "      % r2_score(Y_test, y_pred))\n",
    "\n",
    "mean_sqrt_error_linearReg.append(mean_squared_error(Y_test, y_pred))\n",
    "acc_reg_lin.append(r2_score(Y_test, y_pred))\n",
    "print (\"\\nDuration time :\", end_time - start_time)\n"
   ]
  },
  {
   "cell_type": "markdown",
   "metadata": {},
   "source": [
    " Enregistement du modèle dans un fichier Pickles et plots"
   ]
  },
  {
   "cell_type": "code",
   "execution_count": 101,
   "metadata": {},
   "outputs": [
    {
     "data": {
      "image/png": "[encoded data removed]",
      "text/plain": [
       "<Figure size 432x288 with 1 Axes>"
      ]
     },
     "metadata": {
      "needs_background": "light"
     },
     "output_type": "display_data"
    },
    {
     "data": {
      "text/plain": [
       "Text(0.5, 1.0, \"Y en fonction de l'erreur de la prédiction\")"
      ]
     },
     "execution_count": 101,
     "metadata": {},
     "output_type": "execute_result"
    },
    {
     "data": {
      "image/png": "[encoded data removed]",
      "text/plain": [
       "<Figure size 432x288 with 1 Axes>"
      ]
     },
     "metadata": {
      "needs_background": "light"
     },
     "output_type": "display_data"
    }
   ],
   "source": [
    "pickle.dump(regr, open('apiflask/models/final_prediction_RegLin.pickle', 'wb'))\n",
    "\n",
    "plt.plot( Y_test,y_pred,'.')\n",
    "plt.xlabel(\"Utime : valeurs\", size = 16,)\n",
    "plt.ylabel(\"Utime : veleurs prédites\", size = 16)\n",
    "plt.title(\"Y en fonction de la prédiction\", \n",
    "          fontdict={'family': 'serif', \n",
    "                    'color' : 'darkblue',\n",
    "                    'weight': 'bold',\n",
    "                    'size': 18})\n",
    "plt.show()\n",
    "\n",
    "plt.plot( Y_test,Y_test-y_pred,'.')\n",
    "plt.xlabel(\"Y\", size = 16,)\n",
    "plt.ylabel(\"Y - Y_prediction\", size = 16)\n",
    "plt.title(\"Y en fonction de l'erreur de la prédiction\", \n",
    "          fontdict={'family': 'serif', \n",
    "                    'color' : 'darkblue',\n",
    "                    'weight': 'bold',\n",
    "                    'size': 18})"
   ]
  },
  {
   "cell_type": "markdown",
   "metadata": {},
   "source": [
    " Avec un R2 de 0.66 et un MSE de 89 on remarque que les prédictions éffectuées par le modèle ne sont pas excellentes meme si celle-ci ne sont pas catastrophiques et même plutôt bien pour un modèle tel que celui-ci.\n",
    " \n",
    " De plus, les graphiques viennent appuyer cette idée : dans le graphique 1, un modèle parfait aurait donné une ligne de point droite et dans la diagonal passant par 0. Dans le graphique 1 , un modèle parfait aurait donné une ligne horizontale de valeur 0."
   ]
  },
  {
   "cell_type": "markdown",
   "metadata": {
    "id": "UhwVrKbWNxLJ"
   },
   "source": [
    "-------------------------------------------------------------------------------------------------------------------------------\n",
    "### III.4.2)Random Forest\n",
    "-------------------------------------------------------------------------------------------------------------------------------"
   ]
  },
  {
   "cell_type": "markdown",
   "metadata": {
    "id": "3K1FIpkrHUJN"
   },
   "source": [
    "Nous appliquons le modèle en faisant varier le nombre d'estimateurs entre 7 valeurs choisis au hasard entre 1 et 650. L'objectif étant de voir l'évolution de la prediction et de trouver une valeur pour laquelle elle est optimal.\n",
    "Nous exécutons RandomForestRegressor sur les valeurs de train, ensuite on fit le modèle et on fait la prédiction sur X_test.\n",
    "On calcul la mean_square_error ainsi que l’accuracy par rapport à Y_test.\n",
    "\n",
    "\n"
   ]
  },
  {
   "cell_type": "markdown",
   "metadata": {},
   "source": [
    "#### A) modèle de base"
   ]
  },
  {
   "cell_type": "code",
   "execution_count": 52,
   "metadata": {
    "id": "WgZoVm4HemvB"
   },
   "outputs": [],
   "source": [
    " parameters = [1,10, 23, 43, 87, 100,650]"
   ]
  },
  {
   "cell_type": "code",
   "execution_count": 54,
   "metadata": {
    "colab": {
     "base_uri": "https://localhost:8080/"
    },
    "id": "NwazuzkLyh21",
    "outputId": "f603c1df-e4bc-41c7-b792-3e553e358333"
   },
   "outputs": [
    {
     "name": "stdout",
     "output_type": "stream",
     "text": [
      "19:32:39\n",
      "0\n",
      "1\n",
      "2\n",
      "3\n",
      "4\n",
      "5\n",
      "6\n",
      "19:49:42\n",
      "\n",
      "Duration time : 1023.0794982910156\n"
     ]
    }
   ],
   "source": [
    "mean_sqrt_error_random_forest=[]\n",
    "accuracy_random_forest=[]\n",
    "start_time = print_time()\n",
    "for i in range(len(parameters)):\n",
    "  print(i)\n",
    "  regressor = RandomForestRegressor(n_estimators=parameters[i], random_state = 42,max_depth=32, n_jobs=-1)\n",
    "  regressor.fit(X_train, Y_train)\n",
    "  y_pred = regressor.predict(X_test)\n",
    "  mean_sqrt_error_random_forest.append(np.sqrt(metrics.mean_squared_error(Y_test, y_pred)))\n",
    "  accuracy_random_forest.append(regressor.score(X_test, Y_test))\n",
    "end_time = print_time()\n",
    "print (\"\\nDuration time :\", end_time - start_time)"
   ]
  },
  {
   "cell_type": "markdown",
   "metadata": {
    "id": "4Eu9uoHtd1hY"
   },
   "source": [
    "On enregistre les données dans des fichiers pickle afin de les conserver pour la suite. On a lancé le modèle sans puis avec hyperparamètre. On affiche les deux afin de les comparer"
   ]
  },
  {
   "cell_type": "code",
   "execution_count": 56,
   "metadata": {
    "id": "H1yYbPLWqp1K"
   },
   "outputs": [],
   "source": [
    "pickle.dump( mean_sqrt_error_random_forest, open( \"mean_sqrt_error_random_forest_HP.p\", \"wb\" ) )\n",
    "pickle.dump( accuracy_random_forest, open( \"acc_random_forest_HP.p\", \"wb\" ) )\n",
    "pickle.dump(regressor, open('apiflask/models/final_prediction_RF.pickle', 'wb'))"
   ]
  },
  {
   "cell_type": "code",
   "execution_count": 59,
   "metadata": {
    "id": "MIQr9jBGtUcT"
   },
   "outputs": [],
   "source": [
    "mean_sqrt_error_random_forest=pickle.load( open( \"mean_sqrt_error_random_forest.p\", \"rb\" ) )\n",
    "accuracy_random_forest=pickle.load( open( \"acc_random_forest.p\", \"rb\" ) )\n",
    "mean_sqrt_error_random_forest_HP=pickle.load( open( \"mean_sqrt_error_random_forest_HP.p\", \"rb\" ) )\n",
    "accuracy_random_forest_HP=pickle.load( open( \"acc_random_forest_HP.p\", \"rb\" ) )"
   ]
  },
  {
   "cell_type": "markdown",
   "metadata": {
    "id": "r3DF9GSDFsNg"
   },
   "source": [
    "Nous affichons les valeurs de l'erreur et de la precision.\n",
    "Les valeurs sont plutôt intéréssantes car MSE tend vers 0 et R² vers 1."
   ]
  },
  {
   "cell_type": "code",
   "execution_count": 60,
   "metadata": {
    "colab": {
     "base_uri": "https://localhost:8080/",
     "height": 281
    },
    "id": "5OgaA1JKswsM",
    "outputId": "6ea72a82-adfb-4edc-fffc-ad9ef4a9fd42"
   },
   "outputs": [
    {
     "data": {
      "image/png": "[encoded data removed]",
      "text/plain": [
       "<Figure size 432x288 with 2 Axes>"
      ]
     },
     "metadata": {
      "needs_background": "light"
     },
     "output_type": "display_data"
    }
   ],
   "source": [
    "#Mean square error must be near 0\n",
    "plt.subplot(131)\n",
    "plt.plot(parameters,mean_sqrt_error_random_forest)\n",
    "plt.plot(parameters,mean_sqrt_error_random_forest_HP,\"r\")\n",
    "plt.title(\"mean square error in function of nestimator\")\n",
    "plt.subplot(133)\n",
    "plt.plot(parameters,accuracy_random_forest)\n",
    "plt.plot(parameters,accuracy_random_forest_HP,\"r\")\n",
    "plt.title(\"Accuracy in function of nestimator\")\n",
    "\n",
    "plt.show()"
   ]
  },
  {
   "cell_type": "markdown",
   "metadata": {
    "id": "6DlA6i-lF34T"
   },
   "source": [
    "On affiche aussi les valeurs de Y_test et Y_pred pour vérifier leur proximité. "
   ]
  },
  {
   "cell_type": "code",
   "execution_count": 23,
   "metadata": {
    "colab": {
     "base_uri": "https://localhost:8080/",
     "height": 299
    },
    "id": "a27m0dzljNxt",
    "outputId": "f8c9944b-ee4c-4b0c-f589-d802090d946e"
   },
   "outputs": [
    {
     "data": {
      "image/png": "[encoded data removed]",
      "text/plain": [
       "<Figure size 1152x288 with 1 Axes>"
      ]
     },
     "metadata": {
      "needs_background": "light",
      "tags": []
     },
     "output_type": "display_data"
    }
   ],
   "source": [
    "plt.figure(figsize=(16,4))\n",
    "plt.plot(y_pred,'bo',  label='y_pred')\n",
    "plt.plot(Y_test,'go', label='y_test')\n",
    "plt.xlabel('X_test', fontsize=14)\n",
    "plt.ylabel('Value of y(pred , test)', fontsize=14)\n",
    "plt.title('Comparing predicted values and true values')\n",
    "plt.legend(title='Parameter where:')\n",
    "plt.show()"
   ]
  },
  {
   "cell_type": "markdown",
   "metadata": {},
   "source": [
    "On constate que certaines valeurs de sont pas bien prédites même si le modèle a un R2 très proche de 1. On aimerais regarder par la suite si on pourrait éventuellement améliorer encore plus le modèle."
   ]
  },
  {
   "cell_type": "markdown",
   "metadata": {
    "id": "_w1pk-3kxtI7"
   },
   "source": [
    "#### B) Faire évoluer le modèle en prenant en compte les importances des features"
   ]
  },
  {
   "cell_type": "markdown",
   "metadata": {
    "id": "gKTGQDCNGfZl"
   },
   "source": [
    "Nous cherchons à determiner les colonnes importantes au modèle afin d’améliorer la prédiction. "
   ]
  },
  {
   "cell_type": "code",
   "execution_count": 24,
   "metadata": {
    "colab": {
     "base_uri": "https://localhost:8080/"
    },
    "id": "H0glLkExxsJn",
    "outputId": "9940e1b6-ffdd-45a9-f2d4-581b31088c13"
   },
   "outputs": [
    {
     "name": "stdout",
     "output_type": "stream",
     "text": [
      "Variable: umem                 Importance: 0.53\n",
      "Variable: o_bitrate            Importance: 0.15\n",
      "Variable: o_Codec_mpeg4        Importance: 0.06\n",
      "Variable: bitrate              Importance: 0.05\n",
      "Variable: p_size               Importance: 0.04\n",
      "Variable: o_framerate          Importance: 0.04\n",
      "Variable: o_width              Importance: 0.04\n",
      "Variable: o_height             Importance: 0.04\n",
      "Variable: framerate            Importance: 0.01\n",
      "Variable: i_size               Importance: 0.01\n",
      "Variable: category_Travel & Events Importance: 0.01\n",
      "Variable: o_Codec_flv          Importance: 0.01\n",
      "Variable: o_Codec_h264         Importance: 0.01\n",
      "Variable: duration             Importance: 0.0\n",
      "Variable: width                Importance: 0.0\n",
      "Variable: height               Importance: 0.0\n",
      "Variable: i                    Importance: 0.0\n",
      "Variable: p                    Importance: 0.0\n",
      "Variable: b                    Importance: 0.0\n",
      "Variable: frames               Importance: 0.0\n",
      "Variable: size                 Importance: 0.0\n",
      "Variable: utime                Importance: 0.0\n",
      "Variable: Codec_flv            Importance: 0.0\n",
      "Variable: Codec_h264           Importance: 0.0\n",
      "Variable: Codec_mpeg4          Importance: 0.0\n",
      "Variable: Codec_vp8            Importance: 0.0\n",
      "Variable: category_Autos & Vehicles Importance: 0.0\n",
      "Variable: category_Comedy      Importance: 0.0\n",
      "Variable: category_Education   Importance: 0.0\n",
      "Variable: category_Entertainment Importance: 0.0\n",
      "Variable: category_Film & Animation Importance: 0.0\n",
      "Variable: category_Gaming      Importance: 0.0\n",
      "Variable: category_Howto & Style Importance: 0.0\n",
      "Variable: category_Music       Importance: 0.0\n",
      "Variable: category_News & Politics Importance: 0.0\n",
      "Variable: category_Nonprofits & Activis Importance: 0.0\n",
      "Variable: category_People & Blogs Importance: 0.0\n",
      "Variable: category_Pets & Animals Importance: 0.0\n",
      "Variable: category_Science & Technology Importance: 0.0\n",
      "Variable: category_Sports      Importance: 0.0\n"
     ]
    },
    {
     "data": {
      "text/plain": [
       "[None,\n",
       " None,\n",
       " None,\n",
       " None,\n",
       " None,\n",
       " None,\n",
       " None,\n",
       " None,\n",
       " None,\n",
       " None,\n",
       " None,\n",
       " None,\n",
       " None,\n",
       " None,\n",
       " None,\n",
       " None,\n",
       " None,\n",
       " None,\n",
       " None,\n",
       " None,\n",
       " None,\n",
       " None,\n",
       " None,\n",
       " None,\n",
       " None,\n",
       " None,\n",
       " None,\n",
       " None,\n",
       " None,\n",
       " None,\n",
       " None,\n",
       " None,\n",
       " None,\n",
       " None,\n",
       " None,\n",
       " None,\n",
       " None,\n",
       " None,\n",
       " None,\n",
       " None]"
      ]
     },
     "execution_count": 24,
     "metadata": {
      "tags": []
     },
     "output_type": "execute_result"
    }
   ],
   "source": [
    "# Get numerical feature importances\n",
    "# List of features for later use\n",
    "feature_list = list(df_train.columns)\n",
    "importances = list(regressor.feature_importances_)\n",
    "# List of tuples with variable and importance\n",
    "feature_importances = [(feature, round(importance, 2)) for feature, importance in zip(feature_list, importances)]\n",
    "# Sort the feature importances by most important first\n",
    "feature_importances = sorted(feature_importances, key = lambda x: x[1], reverse = True)\n",
    "# Print out the feature and importances \n",
    "[print('Variable: {:20} Importance: {}'.format(*pair)) for pair in feature_importances]"
   ]
  },
  {
   "cell_type": "code",
   "execution_count": 25,
   "metadata": {
    "colab": {
     "base_uri": "https://localhost:8080/",
     "height": 443
    },
    "id": "7jvuUQdbySSS",
    "outputId": "684d2bdd-b3e9-4a6a-923f-b57c6b65ae38"
   },
   "outputs": [
    {
     "data": {
      "image/png": "[encoded data removed]",
      "text/plain": [
       "<Figure size 432x288 with 1 Axes>"
      ]
     },
     "metadata": {
      "needs_background": "light",
      "tags": []
     },
     "output_type": "display_data"
    }
   ],
   "source": [
    "# list of x locations for plotting\n",
    "x_values = list(range(len(importances)))\n",
    "# Make a bar chart\n",
    "plt.bar(x_values, importances, orientation = 'vertical', color = 'r', edgecolor = 'k', linewidth = 1.2)\n",
    "# Tick labels for x axis\n",
    "plt.xticks(x_values, feature_list, rotation='vertical')\n",
    "# Axis labels and title\n",
    "plt.ylabel('Importance'); plt.xlabel('Variable'); plt.title('Variable Importances');"
   ]
  },
  {
   "cell_type": "code",
   "execution_count": 26,
   "metadata": {
    "colab": {
     "base_uri": "https://localhost:8080/"
    },
    "id": "eCRRmc063Qi-",
    "outputId": "e1ebb483-6fcb-4359-add5-e236fa705d6b"
   },
   "outputs": [
    {
     "data": {
      "text/plain": [
       "[('umem', 0.53),\n",
       " ('o_bitrate', 0.15),\n",
       " ('o_Codec_mpeg4', 0.06),\n",
       " ('bitrate', 0.05),\n",
       " ('p_size', 0.04),\n",
       " ('o_framerate', 0.04),\n",
       " ('o_width', 0.04),\n",
       " ('o_height', 0.04),\n",
       " ('framerate', 0.01),\n",
       " ('i_size', 0.01),\n",
       " ('category_Travel & Events', 0.01),\n",
       " ('o_Codec_flv', 0.01),\n",
       " ('o_Codec_h264', 0.01),\n",
       " ('duration', 0.0),\n",
       " ('width', 0.0),\n",
       " ('height', 0.0),\n",
       " ('i', 0.0),\n",
       " ('p', 0.0),\n",
       " ('b', 0.0),\n",
       " ('frames', 0.0),\n",
       " ('size', 0.0),\n",
       " ('utime', 0.0),\n",
       " ('Codec_flv', 0.0),\n",
       " ('Codec_h264', 0.0),\n",
       " ('Codec_mpeg4', 0.0),\n",
       " ('Codec_vp8', 0.0),\n",
       " ('category_Autos & Vehicles', 0.0),\n",
       " ('category_Comedy', 0.0),\n",
       " ('category_Education', 0.0),\n",
       " ('category_Entertainment', 0.0),\n",
       " ('category_Film & Animation', 0.0),\n",
       " ('category_Gaming', 0.0),\n",
       " ('category_Howto & Style', 0.0),\n",
       " ('category_Music', 0.0),\n",
       " ('category_News & Politics', 0.0),\n",
       " ('category_Nonprofits & Activis', 0.0),\n",
       " ('category_People & Blogs', 0.0),\n",
       " ('category_Pets & Animals', 0.0),\n",
       " ('category_Science & Technology', 0.0),\n",
       " ('category_Sports', 0.0)]"
      ]
     },
     "execution_count": 26,
     "metadata": {
      "tags": []
     },
     "output_type": "execute_result"
    }
   ],
   "source": [
    "feature_importances"
   ]
  },
  {
   "cell_type": "markdown",
   "metadata": {
    "id": "AM71Wcr83RId"
   },
   "source": [
    "L'étape suivante était de regarder l'importance des colonnes afin de voir si celles-ci ont un impact dans la prédiction. Pour pouvoir éxecuter le modèle nous avons dû transformer les colonnes string en booléen (one hot encoding). Lors du calcul de l'importance des colonnes toutes ces colonnes booléennes crées ont donc une importance faible. Or d'après les visualisation de la partie précedente, 'o_coedc' pourrait avoir une certaine influence sur le temps de transcodage. Nous décidons quand même d'enlever cette feature ainsi que les autres features 'string' de base pour voir si le modèle a des résultas qui varient."
   ]
  },
  {
   "cell_type": "code",
   "execution_count": 31,
   "metadata": {
    "colab": {
     "base_uri": "https://localhost:8080/",
     "height": 402
    },
    "id": "YorV9zXz3W22",
    "outputId": "2e2a2e17-f8b3-4db4-e4d8-ebc69b3ca649"
   },
   "outputs": [
    {
     "data": {
      "text/html": [
       "<div>\n",
       "<style scoped>\n",
       "    .dataframe tbody tr th:only-of-type {\n",
       "        vertical-align: middle;\n",
       "    }\n",
       "\n",
       "    .dataframe tbody tr th {\n",
       "        vertical-align: top;\n",
       "    }\n",
       "\n",
       "    .dataframe thead th {\n",
       "        text-align: right;\n",
       "    }\n",
       "</style>\n",
       "<table border=\"1\" class=\"dataframe\">\n",
       "  <thead>\n",
       "    <tr style=\"text-align: right;\">\n",
       "      <th></th>\n",
       "      <th>umem</th>\n",
       "      <th>o_bitrate</th>\n",
       "      <th>p_size</th>\n",
       "      <th>width</th>\n",
       "      <th>b_size</th>\n",
       "      <th>size</th>\n",
       "      <th>frames</th>\n",
       "      <th>height</th>\n",
       "      <th>b</th>\n",
       "    </tr>\n",
       "  </thead>\n",
       "  <tbody>\n",
       "    <tr>\n",
       "      <th>0</th>\n",
       "      <td>22508</td>\n",
       "      <td>56000</td>\n",
       "      <td>825054</td>\n",
       "      <td>176</td>\n",
       "      <td>0</td>\n",
       "      <td>889537</td>\n",
       "      <td>1564</td>\n",
       "      <td>144</td>\n",
       "      <td>0</td>\n",
       "    </tr>\n",
       "    <tr>\n",
       "      <th>1</th>\n",
       "      <td>25164</td>\n",
       "      <td>56000</td>\n",
       "      <td>825054</td>\n",
       "      <td>176</td>\n",
       "      <td>0</td>\n",
       "      <td>889537</td>\n",
       "      <td>1564</td>\n",
       "      <td>144</td>\n",
       "      <td>0</td>\n",
       "    </tr>\n",
       "    <tr>\n",
       "      <th>2</th>\n",
       "      <td>29228</td>\n",
       "      <td>56000</td>\n",
       "      <td>825054</td>\n",
       "      <td>176</td>\n",
       "      <td>0</td>\n",
       "      <td>889537</td>\n",
       "      <td>1564</td>\n",
       "      <td>144</td>\n",
       "      <td>0</td>\n",
       "    </tr>\n",
       "    <tr>\n",
       "      <th>3</th>\n",
       "      <td>34316</td>\n",
       "      <td>56000</td>\n",
       "      <td>825054</td>\n",
       "      <td>176</td>\n",
       "      <td>0</td>\n",
       "      <td>889537</td>\n",
       "      <td>1564</td>\n",
       "      <td>144</td>\n",
       "      <td>0</td>\n",
       "    </tr>\n",
       "    <tr>\n",
       "      <th>4</th>\n",
       "      <td>58528</td>\n",
       "      <td>56000</td>\n",
       "      <td>825054</td>\n",
       "      <td>176</td>\n",
       "      <td>0</td>\n",
       "      <td>889537</td>\n",
       "      <td>1564</td>\n",
       "      <td>144</td>\n",
       "      <td>0</td>\n",
       "    </tr>\n",
       "    <tr>\n",
       "      <th>...</th>\n",
       "      <td>...</td>\n",
       "      <td>...</td>\n",
       "      <td>...</td>\n",
       "      <td>...</td>\n",
       "      <td>...</td>\n",
       "      <td>...</td>\n",
       "      <td>...</td>\n",
       "      <td>...</td>\n",
       "      <td>...</td>\n",
       "    </tr>\n",
       "    <tr>\n",
       "      <th>123498</th>\n",
       "      <td>88708</td>\n",
       "      <td>539000</td>\n",
       "      <td>9456514</td>\n",
       "      <td>320</td>\n",
       "      <td>0</td>\n",
       "      <td>11215178</td>\n",
       "      <td>6242</td>\n",
       "      <td>240</td>\n",
       "      <td>0</td>\n",
       "    </tr>\n",
       "    <tr>\n",
       "      <th>123499</th>\n",
       "      <td>88708</td>\n",
       "      <td>539000</td>\n",
       "      <td>9456514</td>\n",
       "      <td>320</td>\n",
       "      <td>0</td>\n",
       "      <td>11215178</td>\n",
       "      <td>6242</td>\n",
       "      <td>240</td>\n",
       "      <td>0</td>\n",
       "    </tr>\n",
       "    <tr>\n",
       "      <th>123500</th>\n",
       "      <td>88708</td>\n",
       "      <td>539000</td>\n",
       "      <td>9456514</td>\n",
       "      <td>320</td>\n",
       "      <td>0</td>\n",
       "      <td>11215178</td>\n",
       "      <td>6242</td>\n",
       "      <td>240</td>\n",
       "      <td>0</td>\n",
       "    </tr>\n",
       "    <tr>\n",
       "      <th>123501</th>\n",
       "      <td>88724</td>\n",
       "      <td>539000</td>\n",
       "      <td>60113035</td>\n",
       "      <td>1280</td>\n",
       "      <td>0</td>\n",
       "      <td>65359329</td>\n",
       "      <td>5503</td>\n",
       "      <td>720</td>\n",
       "      <td>0</td>\n",
       "    </tr>\n",
       "    <tr>\n",
       "      <th>123502</th>\n",
       "      <td>88736</td>\n",
       "      <td>820000</td>\n",
       "      <td>1950409</td>\n",
       "      <td>176</td>\n",
       "      <td>0</td>\n",
       "      <td>2034411</td>\n",
       "      <td>3535</td>\n",
       "      <td>144</td>\n",
       "      <td>0</td>\n",
       "    </tr>\n",
       "  </tbody>\n",
       "</table>\n",
       "<p>123503 rows × 9 columns</p>\n",
       "</div>"
      ],
      "text/plain": [
       "         umem  o_bitrate    p_size  width  b_size      size  frames  height  b\n",
       "0       22508      56000    825054    176       0    889537    1564     144  0\n",
       "1       25164      56000    825054    176       0    889537    1564     144  0\n",
       "2       29228      56000    825054    176       0    889537    1564     144  0\n",
       "3       34316      56000    825054    176       0    889537    1564     144  0\n",
       "4       58528      56000    825054    176       0    889537    1564     144  0\n",
       "...       ...        ...       ...    ...     ...       ...     ...     ... ..\n",
       "123498  88708     539000   9456514    320       0  11215178    6242     240  0\n",
       "123499  88708     539000   9456514    320       0  11215178    6242     240  0\n",
       "123500  88708     539000   9456514    320       0  11215178    6242     240  0\n",
       "123501  88724     539000  60113035   1280       0  65359329    5503     720  0\n",
       "123502  88736     820000   1950409    176       0   2034411    3535     144  0\n",
       "\n",
       "[123503 rows x 9 columns]"
      ]
     },
     "execution_count": 31,
     "metadata": {
      "tags": []
     },
     "output_type": "execute_result"
    }
   ],
   "source": [
    "df_colonne_imp=dfTranscodingMesMerge[['umem','o_bitrate','p_size','width','b_size','size','frames','height','b']]\n",
    "df_colonne_imp"
   ]
  },
  {
   "cell_type": "markdown",
   "metadata": {
    "id": "_BIkGX7bG61M"
   },
   "source": [
    "On relance le split en train et test et l’exécution du modèle pour les différents estimateurs\n"
   ]
  },
  {
   "cell_type": "code",
   "execution_count": 32,
   "metadata": {
    "id": "nv4sL_OI5NCw"
   },
   "outputs": [],
   "source": [
    "X=df_colonne_imp\n",
    "Y=dfTranscodingMesMerge['utime']\n",
    "Y=pd.DataFrame(Y)\n",
    "X_train_Imp, X_test_Imp, Y_train_Imp, Y_test_Imp = train_test_split(X, Y, test_size=0.20)"
   ]
  },
  {
   "cell_type": "code",
   "execution_count": 33,
   "metadata": {
    "colab": {
     "base_uri": "https://localhost:8080/"
    },
    "id": "GSTGRck26TCv",
    "outputId": "62ee81b1-e0f0-40c2-fdba-10a3252c9c3e"
   },
   "outputs": [
    {
     "name": "stdout",
     "output_type": "stream",
     "text": [
      "16:27:47\n",
      "0\n",
      "1\n",
      "2\n",
      "3\n",
      "4\n",
      "5\n",
      "6\n",
      "16:30:10\n",
      "\n",
      "Duration time : 143.7336151599884\n"
     ]
    }
   ],
   "source": [
    "parameters = [1,10, 23, 43, 87, 100,650]\n",
    "mean_sqrt_error_random_forest_imp=[]\n",
    "accuracy_random_forest_imp=[]\n",
    "start_time = print_time()\n",
    "for i in range(len(parameters)):\n",
    "  print(i)\n",
    "  regressor = RandomForestRegressor(n_estimators=parameters[i], random_state = 42)\n",
    "  regressor.fit(X_train_Imp, Y_train_Imp)\n",
    "  y_pred_Imp = regressor.predict(X_test_Imp)\n",
    "  mean_sqrt_error_random_forest_imp.append(np.sqrt(metrics.mean_squared_error(Y_test_Imp, y_pred_Imp)))\n",
    "  accuracy_random_forest_imp.append(regressor.score(X_test_Imp, Y_test_Imp))\n",
    "end_time = print_time()\n",
    "print (\"\\nDuration time :\", end_time - start_time)"
   ]
  },
  {
   "cell_type": "code",
   "execution_count": 34,
   "metadata": {
    "colab": {
     "base_uri": "https://localhost:8080/"
    },
    "id": "6urVhRxI7yhW",
    "outputId": "63a957d7-8424-4d6d-f1b8-c639cf5022a3"
   },
   "outputs": [
    {
     "data": {
      "text/plain": [
       "[0.7724354712068868,\n",
       " 0.7921629702294087,\n",
       " 0.7941220173031233,\n",
       " 0.794247830791024,\n",
       " 0.7947246712685149,\n",
       " 0.7945282354278439,\n",
       " 0.7946478023484475]"
      ]
     },
     "execution_count": 34,
     "metadata": {
      "tags": []
     },
     "output_type": "execute_result"
    }
   ],
   "source": [
    "mean_sqrt_error_random_forest_imp\n",
    "accuracy_random_forest_imp"
   ]
  },
  {
   "cell_type": "code",
   "execution_count": 35,
   "metadata": {
    "id": "6DPNdyA6XEeo"
   },
   "outputs": [],
   "source": [
    "pickle.dump( mean_sqrt_error_random_forest_imp, open( \"mean_sqrt_error_random_forest_imp.p\", \"wb\" ) )\n",
    "pickle.dump( accuracy_random_forest_imp, open( \"acc_random_forest_imp.p\", \"wb\" ) )\n",
    "pickle.dump(regressor, open('apiflask/models/final_prediction_RF2.pickle', 'wb'))"
   ]
  },
  {
   "cell_type": "code",
   "execution_count": 61,
   "metadata": {
    "id": "kUugiRvVdwxh"
   },
   "outputs": [],
   "source": [
    "mean_sqrt_error_random_forest_imp=pickle.load( open( \"mean_sqrt_error_random_forest_imp.p\", \"rb\" ) )\n",
    "accuracy_random_forest_imp=pickle.load( open( \"acc_random_forest_imp.p\", \"rb\" ) )"
   ]
  },
  {
   "cell_type": "code",
   "execution_count": 37,
   "metadata": {
    "colab": {
     "base_uri": "https://localhost:8080/",
     "height": 281
    },
    "id": "8tCzOGOzDy62",
    "outputId": "bb0e4d36-0d7c-4b0a-c82f-28f115a7d0c1"
   },
   "outputs": [
    {
     "data": {
      "image/png": "[encoded data removed]",
      "text/plain": [
       "<Figure size 432x288 with 2 Axes>"
      ]
     },
     "metadata": {
      "needs_background": "light",
      "tags": []
     },
     "output_type": "display_data"
    }
   ],
   "source": [
    "#Mean square error must be near 0\n",
    "plt.subplot(131)\n",
    "plt.plot(parameters,mean_sqrt_error_random_forest_imp)\n",
    "plt.title(\"mean square error in function of nestimator\")\n",
    "plt.subplot(133)\n",
    "plt.plot(parameters,accuracy_random_forest_imp)\n",
    "plt.title(\"Accuracy in function of nestimator\")\n",
    "plt.show()"
   ]
  },
  {
   "cell_type": "markdown",
   "metadata": {
    "id": "AVasV-Pbh1wx"
   },
   "source": [
    "On remarque que les valeurs d 'évaluations sont moins bonnes que le modèle de base ou nous avions pris toutes les features. On peut en déduire que ces features comme o_codec jouent un rôle dans la précision du modèle. On décide donc de garder toute les features dans les modèles suivants."
   ]
  },
  {
   "cell_type": "markdown",
   "metadata": {
    "id": "gdE5ZC5c_fHE"
   },
   "source": [
    "#### C) Grid search du Random forest"
   ]
  },
  {
   "cell_type": "markdown",
   "metadata": {
    "id": "SHB1iZ7OiH8g"
   },
   "source": [
    "Nous appliquons l'algorithme GridSearch avec RandomForestRegressor. Nous l'appliquons sur 3 n_estimateurs différents et ressortons le R² ainsi que MSE.\n",
    "On veut voir avec cette grille de rechercher différents paramètres possibles pour le modèle Random Forest et voir ce que l'algorihme trouve comme meilleur solution"
   ]
  },
  {
   "cell_type": "code",
   "execution_count": null,
   "metadata": {
    "id": "-eYCzdRH_juO"
   },
   "outputs": [],
   "source": [
    "def Grid_Search_CV_RFR(X_train, y_train):\n",
    "    from sklearn.model_selection import GridSearchCV\n",
    "    from sklearn.model_selection import ShuffleSplit\n",
    "    from sklearn.ensemble import RandomForestRegressor\n",
    "\n",
    "    estimator = RandomForestRegressor()\n",
    "    param_grid = { \n",
    "            \"n_estimators\"      : [10,20,30],\n",
    "            \"max_features\"      : [\"auto\", \"sqrt\", \"log2\"],\n",
    "            \"min_samples_split\" : [2,4,8],\n",
    "            \"bootstrap\": [True, False],\n",
    "            }\n",
    "\n",
    "    grid = GridSearchCV(estimator, param_grid, n_jobs=-1, cv=5)\n",
    "\n",
    "    grid.fit(X_train, y_train)\n",
    "\n",
    "    return grid.best_score_ , grid.best_params_\n",
    "\n",
    "def RFR(X_train, X_test, y_train, y_test, best_params):\n",
    "    from sklearn.ensemble import RandomForestRegressor\n",
    "    estimator = RandomForestRegressor(n_jobs=-1).set_params(**best_params)\n",
    "    estimator.fit(X_train,y_train)\n",
    "    y_predict = estimator.predict(X_test)\n",
    "    print (\"mean square error score:\",metrics.mean_squared_error(y_test,y_predict))\n",
    "    return y_test,y_predict\n"
   ]
  },
  {
   "cell_type": "markdown",
   "metadata": {
    "id": "BBvsmY9Qi38H"
   },
   "source": [
    "On répète l'oppération 5 fois afin de voir l'évolution du modèle."
   ]
  },
  {
   "cell_type": "code",
   "execution_count": null,
   "metadata": {
    "colab": {
     "base_uri": "https://localhost:8080/"
    },
    "id": "VhvbenDr_qSm",
    "outputId": "5d8f73ba-fe87-4a24-f838-024cdd6b8619"
   },
   "outputs": [
    {
     "name": "stdout",
     "output_type": "stream",
     "text": [
      "15:52:04\n",
      "Loop:  0\n",
      "--------------\n",
      "ok\n",
      "mean square error score: 1.2672849274494338\n",
      "Best Score: 0.9935543611072077\n",
      "Best params: {'bootstrap': True, 'max_features': 'auto', 'min_samples_split': 2, 'n_estimators': 30}\n",
      "Loop:  1\n",
      "--------------\n",
      "ok\n",
      "mean square error score: 1.2748322650684127\n",
      "Best Score: 0.9936409308624319\n",
      "Best params: {'bootstrap': True, 'max_features': 'auto', 'min_samples_split': 2, 'n_estimators': 30}\n",
      "Loop:  2\n",
      "--------------\n",
      "ok\n",
      "mean square error score: 1.35705248118415\n",
      "Best Score: 0.9937369401830137\n",
      "Best params: {'bootstrap': True, 'max_features': 'auto', 'min_samples_split': 2, 'n_estimators': 30}\n",
      "Loop:  3\n",
      "--------------\n",
      "ok\n",
      "mean square error score: 1.329050971367915\n",
      "Best Score: 0.9935942529399309\n",
      "Best params: {'bootstrap': True, 'max_features': 'auto', 'min_samples_split': 2, 'n_estimators': 30}\n",
      "Loop:  4\n",
      "--------------\n",
      "ok\n",
      "mean square error score: 1.2650850817355737\n",
      "Best Score: 0.9936191542901828\n",
      "Best params: {'bootstrap': True, 'max_features': 'auto', 'min_samples_split': 2, 'n_estimators': 30}\n",
      "17:37:10\n",
      "\n",
      "Duration time : 6305.202346086502\n"
     ]
    }
   ],
   "source": [
    "start_time = print_time()\n",
    "\n",
    "for i in range(5):\n",
    "    print(\"Loop: \" , i)\n",
    "    print(\"--------------\")\n",
    "    best_score, best_params = Grid_Search_CV_RFR(X_train, Y_train)\n",
    "    print(\"ok\")\n",
    "    Y_test , y_pred = RFR(X_train, X_test, Y_train, Y_test, best_params)\n",
    "    print(\"Best Score:\" ,best_score)\n",
    "    print(\"Best params:\",best_params)\n",
    "    #Mean square error must be near 0\n",
    "\n",
    "end_time = print_time()\n",
    "print (\"\\nDuration time :\", end_time - start_time)\n",
    "\n",
    "plt.subplot(131)\n",
    "plt.plot(mean_square_error_grid_search)\n",
    "\n",
    "plt.title(\"mean square error \")\n",
    "plt.subplot(133)\n",
    "plt.plot(accuracy_grid_seach)\n",
    "plt.title(\"Accuracy \")\n",
    "plt.show()\n"
   ]
  },
  {
   "cell_type": "markdown",
   "metadata": {},
   "source": [
    "L'algorithme a trouvé une meilleure solution qui a un score R2 qui vaut plus de 0.9936 et un MSE à 1.2651 avec les paramètres suivants : bootstrap': True, 'max_features': 'auto', 'min_samples_split': 2, 'n_estimators': 30.\n",
    "\n",
    "On remarque que ce socre est asssez proche du Random Forest de départ. La grid search n'était peut-etre pas nécessaire car les résultats de base étaient deja très concluants.\n"
   ]
  },
  {
   "cell_type": "markdown",
   "metadata": {},
   "source": [
    "On enregistre les résultats des tests effectués dans la grid search dans des tableaux"
   ]
  },
  {
   "cell_type": "code",
   "execution_count": null,
   "metadata": {
    "id": "uYdhe9x4c2hB"
   },
   "outputs": [],
   "source": [
    "mean_square_error_grid_search=[1.2672849274494338,1.2748322650684127,1.35705248118415,1.329050971367915,1.2650850817355737]\n",
    "accuracy_grid_seach=[0.9935543611072077,0.9936409308624319,0.9937369401830137,0.9935942529399309,0.9936191542901828]"
   ]
  },
  {
   "cell_type": "markdown",
   "metadata": {
    "id": "r_2f8BkzWE_9"
   },
   "source": [
    "-------------------------------------------------------------------------------------------------------------------------------\n",
    "### III.4.1) KNN\n",
    "-------------------------------------------------------------------------------------------------------------------------------"
   ]
  },
  {
   "cell_type": "markdown",
   "metadata": {
    "id": "G_STMjg1HapG"
   },
   "source": [
    "On choisi d’appliquer le modèle K Neighbors aux données. On fait varier le nombre de voisin de 1 à 10.\n",
    "On calcul l’accuracy et la mean_square_error\n",
    "\n"
   ]
  },
  {
   "cell_type": "code",
   "execution_count": 38,
   "metadata": {
    "colab": {
     "base_uri": "https://localhost:8080/"
    },
    "id": "XHwPadqfm8Ac",
    "outputId": "d02d90dd-b0cc-4561-a31f-e4c0bea6a181"
   },
   "outputs": [
    {
     "name": "stdout",
     "output_type": "stream",
     "text": [
      "16:31:40\n",
      "16:33:02\n",
      "\n",
      "Duration time : 81.12048649787903\n"
     ]
    }
   ],
   "source": [
    "Neighbors = [1, 2, 3,4,5,6,7,8,9,10]\n",
    "mean_sqrt_error_knn=[]\n",
    "accuracy_knn=[]\n",
    "start_time = print_time()\n",
    "for k in Neighbors:\n",
    "  regressor = KNeighborsRegressor(n_neighbors=k,leaf_size=30,n_jobs=-1)\n",
    "  #regressor = KNeighborsRegressor(n_neighbors=k)\n",
    "  regressor.fit(X_train, Y_train) \n",
    "  y_pred=regressor.predict(X_test)\n",
    "  mean_sqrt_error_knn.append(np.sqrt(metrics.mean_squared_error(Y_test, y_pred)))\n",
    "  accuracy_knn.append(regressor.score(X_test, Y_test))\n",
    "\n",
    "end_time = print_time()\n",
    "print (\"\\nDuration time :\", end_time - start_time)"
   ]
  },
  {
   "cell_type": "code",
   "execution_count": 39,
   "metadata": {
    "colab": {
     "base_uri": "https://localhost:8080/"
    },
    "id": "Vj1YsPeqk1e2",
    "outputId": "eacba8b4-c43a-49b8-bd8f-6fe62256622c"
   },
   "outputs": [
    {
     "data": {
      "text/plain": [
       "[0.8683547768566519,\n",
       " 0.8931581033508814,\n",
       " 0.8980330890374557,\n",
       " 0.8925087160769785,\n",
       " 0.8878454462064367,\n",
       " 0.8805169521168196,\n",
       " 0.8695612901717744,\n",
       " 0.859407222165067,\n",
       " 0.848486648377997,\n",
       " 0.8372641336696813]"
      ]
     },
     "execution_count": 39,
     "metadata": {
      "tags": []
     },
     "output_type": "execute_result"
    }
   ],
   "source": [
    "accuracy_knn"
   ]
  },
  {
   "cell_type": "markdown",
   "metadata": {
    "id": "hAjt3hEGleSG"
   },
   "source": [
    "On lance le modèle avec et sans hyper paramètre on affiche les deux afin de les comparer"
   ]
  },
  {
   "cell_type": "code",
   "execution_count": 40,
   "metadata": {
    "id": "JoJWROzxX8a7"
   },
   "outputs": [],
   "source": [
    "pickle.dump( mean_sqrt_error_knn, open( \"mean_sqrt_error_KNN_HP.p\", \"wb\" ) )\n",
    "pickle.dump( accuracy_knn, open( \"acc_KNN_HP.p\", \"wb\" ) )\n",
    "pickle.dump( regressor, open( \"final_prediction_KNN.p\", \"wb\" ) )"
   ]
  },
  {
   "cell_type": "code",
   "execution_count": 62,
   "metadata": {
    "id": "KpsTgiyjYKkM"
   },
   "outputs": [],
   "source": [
    "mean_sqrt_error_knn=pickle.load( open( \"mean_sqrt_error_KNN.p\", \"rb\" ) )\n",
    "accuracy_knn=pickle.load( open( \"acc_KNN.p\", \"rb\" ) )\n",
    "mean_sqrt_error_knn_HP=pickle.load( open( \"mean_sqrt_error_KNN_HP.p\", \"rb\" ) )\n",
    "accuracy_knn_HP=pickle.load( open( \"acc_KNN_HP.p\", \"rb\" ) )"
   ]
  },
  {
   "cell_type": "code",
   "execution_count": 42,
   "metadata": {
    "colab": {
     "base_uri": "https://localhost:8080/"
    },
    "id": "OCtkYRgabk8C",
    "outputId": "cdee7f8e-2011-444c-9a3f-919cbaf2fb4f"
   },
   "outputs": [
    {
     "name": "stdout",
     "output_type": "stream",
     "text": [
      "[4.705379419005459, 4.312428085383092, 4.2382740248550785, 4.3863950909202565, 4.58275043296176, 4.826513443358335, 5.111352610269486, 5.371951180642167, 5.6197193505342655, 5.865742998894981]\n",
      "[5.723793425366447, 5.1564664149862365, 5.037453269045186, 5.172113230738779, 5.283112452937126, 5.452988040501886, 5.69750409814459, 5.915111082811313, 6.140544056244426, 6.363895492658096]\n"
     ]
    }
   ],
   "source": [
    "print(mean_sqrt_error_knn)\n",
    "print(mean_sqrt_error_knn_HP)"
   ]
  },
  {
   "cell_type": "markdown",
   "metadata": {
    "id": "74WNTxrHjLiv"
   },
   "source": [
    "Ici encore nous executons le modèle sans puis avec hyperparamètres afin de constater une évolution. On calcul l’accuracy R2 et la mean_square_error pour chaque essaie. Les valeurs de MSE sont assez élevés par rapport à celui du random forest.Le R² a une valeur objectivement haute (max : 0.92) , mais moins que celle du Random Forest. Ensuite en y ajoutant des hyperparamètres (ici leaf_size=30,n_jobs=-1), nous constatons une baisse des performances lorsque l'on regarde le R2 et le MSE. On en conclue que le KNN simple est une meilleur solution. Mais ce modèle reste moins performant que les précédents modèles.Le temps d'éxécution, lui, est rapide."
   ]
  },
  {
   "cell_type": "code",
   "execution_count": 43,
   "metadata": {
    "colab": {
     "base_uri": "https://localhost:8080/",
     "height": 281
    },
    "id": "1gQVpuoQi8ik",
    "outputId": "80dd5d21-ce0a-45f4-812a-91e44df4cf7d"
   },
   "outputs": [
    {
     "data": {
      "image/png": "[encoded data removed]",
      "text/plain": [
       "<Figure size 432x288 with 2 Axes>"
      ]
     },
     "metadata": {
      "needs_background": "light",
      "tags": []
     },
     "output_type": "display_data"
    }
   ],
   "source": [
    "#Mean square error must be near 0\n",
    "plt.subplot(131)\n",
    "plt.plot(Neighbors,mean_sqrt_error_knn)\n",
    "plt.plot(Neighbors,mean_sqrt_error_knn_HP,'r')\n",
    "plt.title(\"mean square error in function of neighbors\")\n",
    "plt.subplot(133)\n",
    "plt.plot(Neighbors,accuracy_knn)\n",
    "plt.plot(Neighbors,accuracy_knn_HP,'r')\n",
    "plt.title(\"Accuracy in function of neighbors\")\n",
    "plt.show()"
   ]
  },
  {
   "cell_type": "markdown",
   "metadata": {
    "id": "x70xKITWHfyj"
   },
   "source": [
    "On choisi aussi d’afficher pour trois prédictions différentes les données train les données test et les prédictions"
   ]
  },
  {
   "cell_type": "code",
   "execution_count": null,
   "metadata": {
    "colab": {
     "base_uri": "https://localhost:8080/",
     "height": 327
    },
    "id": "BEFoG46WoX_i",
    "outputId": "f18ecff5-1180-4da4-c017-9f9eb593e094"
   },
   "outputs": [
    {
     "data": {
      "text/plain": [
       "<matplotlib.legend.Legend at 0x7fc2bbbbb208>"
      ]
     },
     "execution_count": 63,
     "metadata": {
      "tags": []
     },
     "output_type": "execute_result"
    },
    {
     "data": {
      "image/png": "[encoded data removed]",
      "text/plain": [
       "<Figure size 1080x288 with 3 Axes>"
      ]
     },
     "metadata": {
      "needs_background": "light",
      "tags": []
     },
     "output_type": "display_data"
    }
   ],
   "source": [
    "fig, axes = plt.subplots(1, 3, figsize=(15, 4))\n",
    "# create 1,000 data points, evenly spaced between -3 and 3\n",
    "line = np.linspace(-3, 3, 100).reshape(-1, 1)\n",
    "for n_neighbors, ax in zip([1, 3, 9], axes):\n",
    "    # make predictions using 1, 3, or 9 neighbors\n",
    "    regressor = KNeighborsRegressor(n_neighbors=n_neighbors)\n",
    "    regressor.fit(X_train, Y_train)\n",
    "    ax.plot(X_test, regressor.predict(X_test))\n",
    "    ax.plot(X_train, Y_train, '^', c=mglearn.cm2(0),   \n",
    "             markersize=8)\n",
    "    ax.plot(X_test, Y_test, 'v', c=mglearn.cm2(1), markersize=8)\n",
    "    ax.set_title(\"{} neighbor(s)\\n train score: {:.2f} test  score: {:.2f}\".format(n_neighbors,regressor.score(X_train, Y_train),regressor.score(X_test, Y_test)))\n",
    "    ax.set_xlabel(\"Feature\")\n",
    "    ax.set_ylabel(\"Target\")\n",
    "axes[0].legend([\"Model predictions\", \"Training data/target\",\"Test data/target\"], loc=\"best\")"
   ]
  },
  {
   "cell_type": "markdown",
   "metadata": {
    "id": "Qw71b6YTkJ7h"
   },
   "source": [
    "-------------------------------------------------------------------------------------------------------------------------------\n",
    "### III.4.1) GXBOOST\n",
    "-------------------------------------------------------------------------------------------------------------------------------"
   ]
  },
  {
   "cell_type": "markdown",
   "metadata": {
    "id": "E-43W1DWku7A"
   },
   "source": [
    "Le modèle XGBOOST s'applique de la même manière que random forest. On choisi donc pour estimateurs les mêmes que ceux du random forest afin de pouvoir les comparer plus simplement."
   ]
  },
  {
   "cell_type": "code",
   "execution_count": 71,
   "metadata": {
    "id": "IvB5lTEE-UKL"
   },
   "outputs": [],
   "source": [
    "parameters = [1,10, 23, 43, 87, 100,650]"
   ]
  },
  {
   "cell_type": "code",
   "execution_count": 78,
   "metadata": {
    "colab": {
     "base_uri": "https://localhost:8080/"
    },
    "id": "U9yhQgPX98Xi",
    "outputId": "b5838fd1-fd66-4b8b-f088-2bb62a314a4a"
   },
   "outputs": [
    {
     "name": "stdout",
     "output_type": "stream",
     "text": [
      "20:35:42\n",
      "0\n",
      "[20:35:42] WARNING: C:/Users/Administrator/workspace/xgboost-win64_release_1.3.0/src/objective/regression_obj.cu:170: reg:linear is now deprecated in favor of reg:squarederror.\n",
      "1\n",
      "[20:35:43] WARNING: C:/Users/Administrator/workspace/xgboost-win64_release_1.3.0/src/objective/regression_obj.cu:170: reg:linear is now deprecated in favor of reg:squarederror.\n",
      "2\n",
      "[20:35:46] WARNING: C:/Users/Administrator/workspace/xgboost-win64_release_1.3.0/src/objective/regression_obj.cu:170: reg:linear is now deprecated in favor of reg:squarederror.\n",
      "3\n",
      "[20:35:52] WARNING: C:/Users/Administrator/workspace/xgboost-win64_release_1.3.0/src/objective/regression_obj.cu:170: reg:linear is now deprecated in favor of reg:squarederror.\n",
      "4\n",
      "[20:36:02] WARNING: C:/Users/Administrator/workspace/xgboost-win64_release_1.3.0/src/objective/regression_obj.cu:170: reg:linear is now deprecated in favor of reg:squarederror.\n",
      "5\n",
      "[20:36:21] WARNING: C:/Users/Administrator/workspace/xgboost-win64_release_1.3.0/src/objective/regression_obj.cu:170: reg:linear is now deprecated in favor of reg:squarederror.\n",
      "6\n",
      "[20:36:41] WARNING: C:/Users/Administrator/workspace/xgboost-win64_release_1.3.0/src/objective/regression_obj.cu:170: reg:linear is now deprecated in favor of reg:squarederror.\n",
      "20:38:42\n",
      "\n",
      "Duration time : 180.3040008544922\n"
     ]
    }
   ],
   "source": [
    "mean_sqrt_error_XGBOOST=[]\n",
    "accuracy_XGBOOST=[]\n",
    "start_time = print_time()\n",
    "\n",
    "for i in range(len(parameters)):\n",
    "  print(i)\n",
    "  regressor = xg.XGBRegressor(objective ='reg:linear', \n",
    "                  n_estimators = parameters[i], seed = 123,gamma=10) \n",
    "  regressor.fit(X_train, Y_train)\n",
    "  y_pred = regressor.predict(X_test)\n",
    "  mean_sqrt_error_XGBOOST.append(np.sqrt(metrics.mean_squared_error(Y_test, y_pred)))\n",
    "  accuracy_XGBOOST.append(regressor.score(X_test, Y_test))\n",
    "end_time = print_time()\n",
    "print (\"\\nDuration time :\", end_time - start_time)"
   ]
  },
  {
   "cell_type": "code",
   "execution_count": 80,
   "metadata": {
    "colab": {
     "base_uri": "https://localhost:8080/"
    },
    "id": "g4UEdrGsilcl",
    "outputId": "7be010dd-b63a-400d-da8f-5fd684fc64f1"
   },
   "outputs": [
    {
     "name": "stdout",
     "output_type": "stream",
     "text": [
      "[13.785029147091496, 3.0527283269212493, 1.9619384140238945, 1.540756392761303, 1.1707649859391647, 1.121773164028493, 0.8469353198196025]\n",
      "[0.2793989877699702, 0.9646608740631202, 0.9854034495859675, 0.9909978250864138, 0.9948022074604267, 0.9952281192405342, 0.9972799306316104]\n"
     ]
    }
   ],
   "source": [
    "print(mean_sqrt_error_XGBOOST)\n",
    "print(accuracy_XGBOOST)"
   ]
  },
  {
   "cell_type": "markdown",
   "metadata": {},
   "source": [
    "On enregistre dans des fichiers pickles le modèle et les accuracy et mse"
   ]
  },
  {
   "cell_type": "code",
   "execution_count": 84,
   "metadata": {},
   "outputs": [],
   "source": [
    "pickle.dump( regressor, open( \"final_prediction_XGBOOST_IMP.p\", \"wb\" ) )"
   ]
  },
  {
   "cell_type": "code",
   "execution_count": 85,
   "metadata": {
    "id": "2__-eACggcZM"
   },
   "outputs": [],
   "source": [
    "pickle.dump( mean_sqrt_error_XGBOOST, open( \"mean_sqrt_error_XGBOOST_HP.p\", \"wb\" ) )\n",
    "pickle.dump( accuracy_XGBOOST, open( \"acc_XGBOOST_HP.p\", \"wb\" ) )"
   ]
  },
  {
   "cell_type": "code",
   "execution_count": 63,
   "metadata": {
    "id": "k2fa2IahgtOG"
   },
   "outputs": [],
   "source": [
    "mean_sqrt_error_XGBOOST=pickle.load( open( \"mean_sqrt_error_XGBOOST.p\", \"rb\" ) )\n",
    "accuracy_XGBOOST=pickle.load( open( \"acc_XGBOOST.p\", \"rb\" ) )\n",
    "mean_sqrt_error_XGBOOST_HP=pickle.load( open( \"mean_sqrt_error_XGBOOST_HP.p\", \"rb\" ) )\n",
    "accuracy_XGBOOST_HP=pickle.load( open( \"acc_XGBOOST_HP.p\", \"rb\" ) )"
   ]
  },
  {
   "cell_type": "code",
   "execution_count": 50,
   "metadata": {
    "colab": {
     "base_uri": "https://localhost:8080/"
    },
    "id": "Se8adUaAhafG",
    "outputId": "98f830c3-ea19-443d-bae3-57086f328dfe"
   },
   "outputs": [
    {
     "name": "stdout",
     "output_type": "stream",
     "text": [
      "[16.897229984132487, 9.247344775934478, 6.179987492011868, 4.914557245043385, 4.0195794800217834, 3.8871804836480157, 2.6156821166032516]\n",
      "[16.883402686138073, 9.304007021597688, 6.220572473014676, 4.8835534809466585, 4.019961303021382, 3.8857824650627766, 2.6985672601757504]\n"
     ]
    }
   ],
   "source": [
    "print(mean_sqrt_error_XGBOOST)\n",
    "print(mean_sqrt_error_XGBOOST_HP)"
   ]
  },
  {
   "cell_type": "markdown",
   "metadata": {
    "id": "-pNuCLOF-iz2"
   },
   "source": [
    "On affiche les valeurs MSE et R². Celle-ci sont très bonnes. On exécute le modèle avec et sans hyperparamètre  (ici gamma=10), on affiche les deux afin de les comparer. On voir que le modèle avec les hyperparamètres donne de très bon résultats proche de 1.Ces résultats sont très proche du random forest effectué plus haut ."
   ]
  },
  {
   "cell_type": "code",
   "execution_count": 94,
   "metadata": {
    "colab": {
     "base_uri": "https://localhost:8080/",
     "height": 281
    },
    "id": "G-SM2nuv-iJa",
    "outputId": "90638580-521f-4505-a876-51fe7f9f9e7d"
   },
   "outputs": [
    {
     "data": {
      "image/png": "[encoded data removed]",
      "text/plain": [
       "<Figure size 432x288 with 2 Axes>"
      ]
     },
     "metadata": {
      "needs_background": "light"
     },
     "output_type": "display_data"
    }
   ],
   "source": [
    "#Mean square error must be near 0\n",
    "plt.subplot(131)\n",
    "plt.plot(parameters,mean_sqrt_error_XGBOOST,'g')\n",
    "plt.plot(parameters,mean_sqrt_error_XGBOOST_HP,'r')\n",
    "plt.title(\"mean square error in function of nestimator\")\n",
    "plt.subplot(133)\n",
    "plt.plot(parameters,accuracy_XGBOOST,'g')\n",
    "plt.plot(parameters,accuracy_XGBOOST_HP,'r')\n",
    "plt.title(\"Accuracy in function of nestimator\")\n",
    "plt.show()"
   ]
  },
  {
   "cell_type": "markdown",
   "metadata": {
    "id": "4sLwbgyMj3_8"
   },
   "source": [
    "# V) COMPARAISON DES MODELES\n"
   ]
  },
  {
   "cell_type": "markdown",
   "metadata": {
    "id": "dcD0cEJ4j8JF"
   },
   "source": [
    "Nous decidons de creer un dataframe des valeurs de mean_square_error et accuracy pour chaque modèle évalué"
   ]
  },
  {
   "cell_type": "code",
   "execution_count": 88,
   "metadata": {
    "colab": {
     "base_uri": "https://localhost:8080/",
     "height": 229
    },
    "id": "UQX9Wir7CK5g",
    "outputId": "68b1b418-0194-44e4-8bcf-936e66858680"
   },
   "outputs": [],
   "source": [
    "dfComparaisonDesModèles[\"MSE_REG_LIN\"]=pd.DataFrame(mean_sqrt_error_linearReg)\n",
    "dfComparaisonDesModèles=pd.DataFrame(mean_sqrt_error_knn,columns=[\"MSE_KNN\"])\n",
    "dfComparaisonDesModèles[\"MSE_KNN_IMP\"]=pd.DataFrame(mean_sqrt_error_knn_HP)\n",
    "dfComparaisonDesModèles[\"MSE_RF\"]=pd.DataFrame(mean_sqrt_error_random_forest)\n",
    "dfComparaisonDesModèles[\"MSE_RF_IMP\"]=pd.DataFrame(mean_sqrt_error_random_forest_imp)\n",
    "dfComparaisonDesModèles[\"MSE_XGBOOST\"]=pd.DataFrame(mean_sqrt_error_XGBOOST)\n",
    "dfComparaisonDesModèles[\"MSE_XGBOOST_IMP\"]=pd.DataFrame(mean_sqrt_error_XGBOOST_HP)\n",
    "\n",
    "dfComparaisonDesModèles[\"ACC_REG_LIN\"]=pd.DataFrame(acc_reg_lin)\n",
    "dfComparaisonDesModèles[\"ACC_KNN\"]=pd.DataFrame(accuracy_knn)\n",
    "dfComparaisonDesModèles[\"ACC_KNN_IMP\"]=pd.DataFrame(accuracy_knn_HP)\n",
    "dfComparaisonDesModèles[\"ACC_RF\"]=pd.DataFrame(accuracy_random_forest)\n",
    "dfComparaisonDesModèles[\"ACC_RF_IMP\"]=pd.DataFrame(accuracy_random_forest_imp)\n",
    "dfComparaisonDesModèles[\"ACC_XGBOOST\"]=pd.DataFrame(accuracy_XGBOOST)\n",
    "dfComparaisonDesModèles[\"ACC_XGBOOST_IMP\"]=pd.DataFrame(accuracy_XGBOOST_HP)\n"
   ]
  },
  {
   "cell_type": "code",
   "execution_count": 89,
   "metadata": {
    "colab": {
     "base_uri": "https://localhost:8080/",
     "height": 343
    },
    "id": "7n1F6LFskdNF",
    "outputId": "bae8a04a-e0c7-4e11-8e36-8949ce69ae63"
   },
   "outputs": [
    {
     "data": {
      "text/html": [
       "<div>\n",
       "<style scoped>\n",
       "    .dataframe tbody tr th:only-of-type {\n",
       "        vertical-align: middle;\n",
       "    }\n",
       "\n",
       "    .dataframe tbody tr th {\n",
       "        vertical-align: top;\n",
       "    }\n",
       "\n",
       "    .dataframe thead th {\n",
       "        text-align: right;\n",
       "    }\n",
       "</style>\n",
       "<table border=\"1\" class=\"dataframe\">\n",
       "  <thead>\n",
       "    <tr style=\"text-align: right;\">\n",
       "      <th></th>\n",
       "      <th>MSE_KNN</th>\n",
       "      <th>MSE_KNN_IMP</th>\n",
       "      <th>MSE_RF</th>\n",
       "      <th>MSE_RF_IMP</th>\n",
       "      <th>MSE_XGBOOST</th>\n",
       "      <th>MSE_XGBOOST_IMP</th>\n",
       "      <th>ACC_REG_LIN</th>\n",
       "      <th>ACC_KNN</th>\n",
       "      <th>ACC_KNN_IMP</th>\n",
       "      <th>ACC_RF</th>\n",
       "      <th>ACC_RF_IMP</th>\n",
       "      <th>ACC_XGBOOST</th>\n",
       "      <th>ACC_XGBOOST_IMP</th>\n",
       "    </tr>\n",
       "  </thead>\n",
       "  <tbody>\n",
       "    <tr>\n",
       "      <th>0</th>\n",
       "      <td>4.705379</td>\n",
       "      <td>5.723793</td>\n",
       "      <td>0.203098</td>\n",
       "      <td>7.673617</td>\n",
       "      <td>16.883403</td>\n",
       "      <td>13.785029</td>\n",
       "      <td>0.660006</td>\n",
       "      <td>0.910760</td>\n",
       "      <td>0.868355</td>\n",
       "      <td>0.999845</td>\n",
       "      <td>0.772435</td>\n",
       "      <td>-0.145400</td>\n",
       "      <td>0.279399</td>\n",
       "    </tr>\n",
       "    <tr>\n",
       "      <th>1</th>\n",
       "      <td>4.312428</td>\n",
       "      <td>5.156466</td>\n",
       "      <td>0.099969</td>\n",
       "      <td>7.333466</td>\n",
       "      <td>9.304007</td>\n",
       "      <td>3.052728</td>\n",
       "      <td>NaN</td>\n",
       "      <td>0.925042</td>\n",
       "      <td>0.893158</td>\n",
       "      <td>0.999962</td>\n",
       "      <td>0.792163</td>\n",
       "      <td>0.652162</td>\n",
       "      <td>0.964661</td>\n",
       "    </tr>\n",
       "    <tr>\n",
       "      <th>2</th>\n",
       "      <td>4.238274</td>\n",
       "      <td>5.037453</td>\n",
       "      <td>0.072433</td>\n",
       "      <td>7.298822</td>\n",
       "      <td>6.220572</td>\n",
       "      <td>1.961938</td>\n",
       "      <td>NaN</td>\n",
       "      <td>0.927598</td>\n",
       "      <td>0.898033</td>\n",
       "      <td>0.999980</td>\n",
       "      <td>0.794122</td>\n",
       "      <td>0.844512</td>\n",
       "      <td>0.985403</td>\n",
       "    </tr>\n",
       "    <tr>\n",
       "      <th>3</th>\n",
       "      <td>4.386395</td>\n",
       "      <td>5.172113</td>\n",
       "      <td>0.070412</td>\n",
       "      <td>7.296592</td>\n",
       "      <td>4.883553</td>\n",
       "      <td>1.540756</td>\n",
       "      <td>NaN</td>\n",
       "      <td>0.922449</td>\n",
       "      <td>0.892509</td>\n",
       "      <td>0.999981</td>\n",
       "      <td>0.794248</td>\n",
       "      <td>0.904168</td>\n",
       "      <td>0.990998</td>\n",
       "    </tr>\n",
       "    <tr>\n",
       "      <th>4</th>\n",
       "      <td>4.582750</td>\n",
       "      <td>5.283112</td>\n",
       "      <td>0.068211</td>\n",
       "      <td>7.288132</td>\n",
       "      <td>4.019961</td>\n",
       "      <td>1.170765</td>\n",
       "      <td>NaN</td>\n",
       "      <td>0.915351</td>\n",
       "      <td>0.887845</td>\n",
       "      <td>0.999983</td>\n",
       "      <td>0.794725</td>\n",
       "      <td>0.935065</td>\n",
       "      <td>0.994802</td>\n",
       "    </tr>\n",
       "    <tr>\n",
       "      <th>5</th>\n",
       "      <td>4.826513</td>\n",
       "      <td>5.452988</td>\n",
       "      <td>0.066921</td>\n",
       "      <td>7.291618</td>\n",
       "      <td>3.885782</td>\n",
       "      <td>1.121773</td>\n",
       "      <td>NaN</td>\n",
       "      <td>0.906106</td>\n",
       "      <td>0.880517</td>\n",
       "      <td>0.999983</td>\n",
       "      <td>0.794528</td>\n",
       "      <td>0.939327</td>\n",
       "      <td>0.995228</td>\n",
       "    </tr>\n",
       "    <tr>\n",
       "      <th>6</th>\n",
       "      <td>5.111353</td>\n",
       "      <td>5.697504</td>\n",
       "      <td>0.061915</td>\n",
       "      <td>7.289496</td>\n",
       "      <td>2.698567</td>\n",
       "      <td>0.846935</td>\n",
       "      <td>NaN</td>\n",
       "      <td>0.894696</td>\n",
       "      <td>0.869561</td>\n",
       "      <td>0.999986</td>\n",
       "      <td>0.794648</td>\n",
       "      <td>0.970738</td>\n",
       "      <td>0.997280</td>\n",
       "    </tr>\n",
       "    <tr>\n",
       "      <th>7</th>\n",
       "      <td>5.371951</td>\n",
       "      <td>5.915111</td>\n",
       "      <td>NaN</td>\n",
       "      <td>NaN</td>\n",
       "      <td>NaN</td>\n",
       "      <td>NaN</td>\n",
       "      <td>NaN</td>\n",
       "      <td>0.883685</td>\n",
       "      <td>0.859407</td>\n",
       "      <td>NaN</td>\n",
       "      <td>NaN</td>\n",
       "      <td>NaN</td>\n",
       "      <td>NaN</td>\n",
       "    </tr>\n",
       "    <tr>\n",
       "      <th>8</th>\n",
       "      <td>5.619719</td>\n",
       "      <td>6.140544</td>\n",
       "      <td>NaN</td>\n",
       "      <td>NaN</td>\n",
       "      <td>NaN</td>\n",
       "      <td>NaN</td>\n",
       "      <td>NaN</td>\n",
       "      <td>0.872708</td>\n",
       "      <td>0.848487</td>\n",
       "      <td>NaN</td>\n",
       "      <td>NaN</td>\n",
       "      <td>NaN</td>\n",
       "      <td>NaN</td>\n",
       "    </tr>\n",
       "    <tr>\n",
       "      <th>9</th>\n",
       "      <td>5.865743</td>\n",
       "      <td>6.363895</td>\n",
       "      <td>NaN</td>\n",
       "      <td>NaN</td>\n",
       "      <td>NaN</td>\n",
       "      <td>NaN</td>\n",
       "      <td>NaN</td>\n",
       "      <td>0.861319</td>\n",
       "      <td>0.837264</td>\n",
       "      <td>NaN</td>\n",
       "      <td>NaN</td>\n",
       "      <td>NaN</td>\n",
       "      <td>NaN</td>\n",
       "    </tr>\n",
       "  </tbody>\n",
       "</table>\n",
       "</div>"
      ],
      "text/plain": [
       "    MSE_KNN  MSE_KNN_IMP    MSE_RF  MSE_RF_IMP  MSE_XGBOOST  MSE_XGBOOST_IMP  \\\n",
       "0  4.705379     5.723793  0.203098    7.673617    16.883403        13.785029   \n",
       "1  4.312428     5.156466  0.099969    7.333466     9.304007         3.052728   \n",
       "2  4.238274     5.037453  0.072433    7.298822     6.220572         1.961938   \n",
       "3  4.386395     5.172113  0.070412    7.296592     4.883553         1.540756   \n",
       "4  4.582750     5.283112  0.068211    7.288132     4.019961         1.170765   \n",
       "5  4.826513     5.452988  0.066921    7.291618     3.885782         1.121773   \n",
       "6  5.111353     5.697504  0.061915    7.289496     2.698567         0.846935   \n",
       "7  5.371951     5.915111       NaN         NaN          NaN              NaN   \n",
       "8  5.619719     6.140544       NaN         NaN          NaN              NaN   \n",
       "9  5.865743     6.363895       NaN         NaN          NaN              NaN   \n",
       "\n",
       "   ACC_REG_LIN   ACC_KNN  ACC_KNN_IMP    ACC_RF  ACC_RF_IMP  ACC_XGBOOST  \\\n",
       "0     0.660006  0.910760     0.868355  0.999845    0.772435    -0.145400   \n",
       "1          NaN  0.925042     0.893158  0.999962    0.792163     0.652162   \n",
       "2          NaN  0.927598     0.898033  0.999980    0.794122     0.844512   \n",
       "3          NaN  0.922449     0.892509  0.999981    0.794248     0.904168   \n",
       "4          NaN  0.915351     0.887845  0.999983    0.794725     0.935065   \n",
       "5          NaN  0.906106     0.880517  0.999983    0.794528     0.939327   \n",
       "6          NaN  0.894696     0.869561  0.999986    0.794648     0.970738   \n",
       "7          NaN  0.883685     0.859407       NaN         NaN          NaN   \n",
       "8          NaN  0.872708     0.848487       NaN         NaN          NaN   \n",
       "9          NaN  0.861319     0.837264       NaN         NaN          NaN   \n",
       "\n",
       "   ACC_XGBOOST_IMP  \n",
       "0         0.279399  \n",
       "1         0.964661  \n",
       "2         0.985403  \n",
       "3         0.990998  \n",
       "4         0.994802  \n",
       "5         0.995228  \n",
       "6         0.997280  \n",
       "7              NaN  \n",
       "8              NaN  \n",
       "9              NaN  "
      ]
     },
     "execution_count": 89,
     "metadata": {},
     "output_type": "execute_result"
    }
   ],
   "source": [
    "dfComparaisonDesModèles"
   ]
  },
  {
   "cell_type": "markdown",
   "metadata": {},
   "source": [
    "#### Comparaison des modèles : conclusion "
   ]
  },
  {
   "cell_type": "markdown",
   "metadata": {},
   "source": [
    "Pour conclure cette partie, on peut remarquer que les modèles testés ont en général plutôt bien, voir très bien fonctionné dans la prédiction de la feature Utime.\n",
    "\n",
    "Les meilleurs modèles avec les MSE les plus bas et les R2 les plus haut sont : Le Random Forest simple (RF) , et le XGBoost avec les hypermaramètres (XGBoost_IMP).\n",
    "\n",
    "Ces très bon résultas peuvent sûrement s'expliquer du fait que l'une des variables qui a participé à la prédiction est la variable Umem qui correspond à la mémoire allouée pour le transcodage. En effet il est logique que plus la mémoire utilisée est grande, plus le temps de transcodage sera long. Pour appuyer cette observation, on voit dans la matrice de confusion que Umem est fortement corrélée à utime.\n",
    "De plus,généralement lorsque l'on veut prédire un temps de transcodage , la mémoire allouée pour ce transcodage n'est pas connu. En effet, dans l'article scientifique, les auteurs ont construit leur modèle en prenant des paramètres en entrée. Ces paramètres incluaient : bitrate, framerate, resolution, codec, number of i frames,\n",
    "number of p frames, number of b frames, size of i frames, size of p\n",
    "frames and size of b frames de le vidéo d'entrée et le bitrate, framerate, resolution and codec désiré de la vidéo sortante. Umem n'est donc pas dans cette liste.  De ce fait, si nous avions eu plus de temps, nous aurions pu tester de nouveau les modèles en retirant la feature Umem en entrée.\n",
    "\n",
    "\n",
    "Pour finir on peut voir que l'ajout d'hyperparamètres aux modèles ne donne pas forcément de meilleurs résultas. De plus, les modèles Random Forest et XGBoost donnent des résultats aussi bon l'un que l'autre, alors que le modèle XGBoost est un modèle beaucoup plus puissant. Ces observations peuvent peut-être s'éxpliquer par le fait que la prédiction de Utime est un problème simple, accentué par le fait que nous possédons la feature Umem en entré, comme éxpliqué plus haut."
   ]
  },
  {
   "cell_type": "markdown",
   "metadata": {
    "id": "qLapbD42bKbc"
   },
   "source": [
    "TEMPS D'EXECUTION"
   ]
  },
  {
   "cell_type": "code",
   "execution_count": 103,
   "metadata": {
    "id": "_jRKjOd4l4cB"
   },
   "outputs": [],
   "source": [
    "tmp_LinRg=0.033498525619506836\n",
    "tmp_rf=1023.0794982910156\n",
    "tmp_rf_imp=143.7336151599884\n",
    "tmp_rf_gridsearch=6305.202346086502 # Pour 5 valeur seulement\n",
    "tmp_rf_knn=81.12048649787903\n",
    "tmp_xgboost=180.3040008544922"
   ]
  },
  {
   "cell_type": "markdown",
   "metadata": {
    "id": "8IOb9cWVbHfG"
   },
   "source": [
    "# IV) API"
   ]
  },
  {
   "cell_type": "code",
   "execution_count": null,
   "metadata": {},
   "outputs": [],
   "source": [
    "X_test.to_csv('dataTestApi.csv', index=False, encoding='utf-8')"
   ]
  },
  {
   "cell_type": "markdown",
   "metadata": {},
   "source": [
    "Nous avons décider d'éxporter les données X_test dans un fichier CSV. \n",
    "Une partie des données de celui-ci seront utilisé pour tester l'api dont le code source est disponible dans le dossier apiflask.\n",
    "\n",
    "Nous avons décider d'utiliser le modèle XGBoost_Imp pour tester l'Api car ce modèle donnais l'une des meilleures prédiction avec le Random Forest."
   ]
  }
 ],
 "metadata": {
  "colab": {
   "name": "Projet_Amine_Aproh_FINAL.ipynb",
   "provenance": [],
   "toc_visible": true
  },
  "kernelspec": {
   "display_name": "Python 3",
   "language": "python",
   "name": "python3"
  },
  "language_info": {
   "codemirror_mode": {
    "name": "ipython",
    "version": 3
   },
   "file_extension": ".py",
   "mimetype": "text/x-python",
   "name": "python",
   "nbconvert_exporter": "python",
   "pygments_lexer": "ipython3",
   "version": "3.8.3"
  }
 },
 "nbformat": 4,
 "nbformat_minor": 1
}
